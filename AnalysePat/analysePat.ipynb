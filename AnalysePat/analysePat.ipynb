{
 "cells": [
  {
   "cell_type": "code",
   "execution_count": 355,
   "metadata": {},
   "outputs": [],
   "source": [
    "import pandas as pd"
   ]
  },
  {
   "attachments": {},
   "cell_type": "markdown",
   "metadata": {},
   "source": [
    "Fonction"
   ]
  },
  {
   "attachments": {},
   "cell_type": "markdown",
   "metadata": {},
   "source": [
    "Liste des csv :\n",
    "OrderPayments,OrdersItems,OrderData,OrderReviews"
   ]
  },
  {
   "cell_type": "code",
   "execution_count": 356,
   "metadata": {},
   "outputs": [],
   "source": [
    "dfOrderPayements= pd.read_csv(\"../../archive/olist_order_payments_dataset.csv\")"
   ]
  },
  {
   "cell_type": "code",
   "execution_count": 357,
   "metadata": {},
   "outputs": [],
   "source": [
    "dfOrderItems = pd.read_csv(\"../../archive/olist_order_items_dataset.csv\")"
   ]
  },
  {
   "cell_type": "code",
   "execution_count": 358,
   "metadata": {},
   "outputs": [],
   "source": [
    "dfOrderData = pd.read_csv(\"../../archive/olist_orders_dataset.csv\")"
   ]
  },
  {
   "cell_type": "code",
   "execution_count": 359,
   "metadata": {},
   "outputs": [],
   "source": [
    "dfOrderReviews = pd.read_csv(\"../../archive/olist_order_reviews_dataset.csv\")"
   ]
  },
  {
   "attachments": {},
   "cell_type": "markdown",
   "metadata": {},
   "source": [
    "Nettoyage OrderPayements"
   ]
  },
  {
   "cell_type": "code",
   "execution_count": 360,
   "metadata": {},
   "outputs": [
    {
     "data": {
      "text/plain": [
       "order_id                0\n",
       "payment_sequential      0\n",
       "payment_type            0\n",
       "payment_installments    0\n",
       "payment_value           0\n",
       "dtype: int64"
      ]
     },
     "execution_count": 360,
     "metadata": {},
     "output_type": "execute_result"
    }
   ],
   "source": [
    "dfOrderPayements.isnull().sum()"
   ]
  },
  {
   "cell_type": "code",
   "execution_count": 361,
   "metadata": {},
   "outputs": [
    {
     "data": {
      "text/plain": [
       "103886"
      ]
     },
     "execution_count": 361,
     "metadata": {},
     "output_type": "execute_result"
    }
   ],
   "source": [
    "len(dfOrderPayements)"
   ]
  },
  {
   "cell_type": "code",
   "execution_count": 362,
   "metadata": {},
   "outputs": [],
   "source": [
    "dfOrderPayementsClean =  dfOrderPayements.drop_duplicates()"
   ]
  },
  {
   "cell_type": "code",
   "execution_count": 363,
   "metadata": {},
   "outputs": [],
   "source": [
    "dfOrderPayements.drop(\"payment_sequential\", axis=1, inplace=True)"
   ]
  },
  {
   "cell_type": "code",
   "execution_count": 364,
   "metadata": {},
   "outputs": [],
   "source": [
    "dfOrderPayements.drop(\"payment_installments\", axis=1, inplace=True)"
   ]
  },
  {
   "cell_type": "code",
   "execution_count": 365,
   "metadata": {},
   "outputs": [],
   "source": [
    "dfOrderPayements.drop(\"payment_value\", axis=1, inplace=True)"
   ]
  },
  {
   "cell_type": "code",
   "execution_count": 366,
   "metadata": {},
   "outputs": [
    {
     "name": "stdout",
     "output_type": "stream",
     "text": [
      "<class 'pandas.core.frame.DataFrame'>\n",
      "RangeIndex: 103886 entries, 0 to 103885\n",
      "Data columns (total 2 columns):\n",
      " #   Column        Non-Null Count   Dtype \n",
      "---  ------        --------------   ----- \n",
      " 0   order_id      103886 non-null  object\n",
      " 1   payment_type  103886 non-null  object\n",
      "dtypes: object(2)\n",
      "memory usage: 1.6+ MB\n"
     ]
    }
   ],
   "source": [
    "dfOrderPayements.info()"
   ]
  },
  {
   "cell_type": "code",
   "execution_count": null,
   "metadata": {},
   "outputs": [],
   "source": []
  },
  {
   "attachments": {},
   "cell_type": "markdown",
   "metadata": {},
   "source": [
    "Nettoyage OrderItems"
   ]
  },
  {
   "cell_type": "code",
   "execution_count": 367,
   "metadata": {},
   "outputs": [
    {
     "data": {
      "text/plain": [
       "order_id               0\n",
       "order_item_id          0\n",
       "product_id             0\n",
       "seller_id              0\n",
       "shipping_limit_date    0\n",
       "price                  0\n",
       "freight_value          0\n",
       "dtype: int64"
      ]
     },
     "execution_count": 367,
     "metadata": {},
     "output_type": "execute_result"
    }
   ],
   "source": [
    "dfOrderItems.isnull().sum()"
   ]
  },
  {
   "cell_type": "code",
   "execution_count": 368,
   "metadata": {},
   "outputs": [
    {
     "name": "stdout",
     "output_type": "stream",
     "text": [
      "<class 'pandas.core.frame.DataFrame'>\n",
      "RangeIndex: 112650 entries, 0 to 112649\n",
      "Data columns (total 7 columns):\n",
      " #   Column               Non-Null Count   Dtype  \n",
      "---  ------               --------------   -----  \n",
      " 0   order_id             112650 non-null  object \n",
      " 1   order_item_id        112650 non-null  int64  \n",
      " 2   product_id           112650 non-null  object \n",
      " 3   seller_id            112650 non-null  object \n",
      " 4   shipping_limit_date  112650 non-null  object \n",
      " 5   price                112650 non-null  float64\n",
      " 6   freight_value        112650 non-null  float64\n",
      "dtypes: float64(2), int64(1), object(4)\n",
      "memory usage: 6.0+ MB\n"
     ]
    }
   ],
   "source": [
    "dfOrderItems.info()"
   ]
  },
  {
   "cell_type": "code",
   "execution_count": 369,
   "metadata": {},
   "outputs": [],
   "source": [
    "dfOrderItemsClean = dfOrderItems.drop_duplicates()"
   ]
  },
  {
   "cell_type": "code",
   "execution_count": 370,
   "metadata": {},
   "outputs": [
    {
     "data": {
      "text/plain": [
       "112650"
      ]
     },
     "execution_count": 370,
     "metadata": {},
     "output_type": "execute_result"
    }
   ],
   "source": [
    "len(dfOrderItemsClean)"
   ]
  },
  {
   "attachments": {},
   "cell_type": "markdown",
   "metadata": {},
   "source": [
    "NettoyageOrderData\n"
   ]
  },
  {
   "cell_type": "code",
   "execution_count": 371,
   "metadata": {},
   "outputs": [
    {
     "name": "stdout",
     "output_type": "stream",
     "text": [
      "<class 'pandas.core.frame.DataFrame'>\n",
      "RangeIndex: 99441 entries, 0 to 99440\n",
      "Data columns (total 8 columns):\n",
      " #   Column                         Non-Null Count  Dtype \n",
      "---  ------                         --------------  ----- \n",
      " 0   order_id                       99441 non-null  object\n",
      " 1   customer_id                    99441 non-null  object\n",
      " 2   order_status                   99441 non-null  object\n",
      " 3   order_purchase_timestamp       99441 non-null  object\n",
      " 4   order_approved_at              99281 non-null  object\n",
      " 5   order_delivered_carrier_date   97658 non-null  object\n",
      " 6   order_delivered_customer_date  96476 non-null  object\n",
      " 7   order_estimated_delivery_date  99441 non-null  object\n",
      "dtypes: object(8)\n",
      "memory usage: 6.1+ MB\n"
     ]
    }
   ],
   "source": [
    "dfOrderData.info()"
   ]
  },
  {
   "cell_type": "code",
   "execution_count": 372,
   "metadata": {},
   "outputs": [],
   "source": [
    "dfOrderDataClean = dfOrderData.drop_duplicates()"
   ]
  },
  {
   "cell_type": "code",
   "execution_count": 373,
   "metadata": {},
   "outputs": [
    {
     "data": {
      "text/plain": [
       "99441"
      ]
     },
     "execution_count": 373,
     "metadata": {},
     "output_type": "execute_result"
    }
   ],
   "source": [
    "len(dfOrderDataClean)"
   ]
  },
  {
   "cell_type": "code",
   "execution_count": 374,
   "metadata": {},
   "outputs": [],
   "source": [
    "dfOrderData.drop(\"order_status\", axis=1, inplace=True)"
   ]
  },
  {
   "cell_type": "code",
   "execution_count": 375,
   "metadata": {},
   "outputs": [],
   "source": [
    "dfOrderData.drop(\"order_purchase_timestamp\", axis=1, inplace=True)"
   ]
  },
  {
   "cell_type": "code",
   "execution_count": 376,
   "metadata": {},
   "outputs": [],
   "source": [
    "dfOrderData.drop(\"order_approved_at\", axis=1, inplace=True)"
   ]
  },
  {
   "cell_type": "code",
   "execution_count": 377,
   "metadata": {},
   "outputs": [],
   "source": [
    "dfOrderData.drop(\"order_delivered_carrier_date\", axis=1, inplace=True)"
   ]
  },
  {
   "cell_type": "code",
   "execution_count": 378,
   "metadata": {},
   "outputs": [],
   "source": [
    "dfOrderData.drop(\"order_delivered_customer_date\", axis=1, inplace=True)"
   ]
  },
  {
   "cell_type": "code",
   "execution_count": 379,
   "metadata": {},
   "outputs": [],
   "source": [
    "dfOrderData.drop(\"order_estimated_delivery_date\", axis=1, inplace=True)"
   ]
  },
  {
   "cell_type": "code",
   "execution_count": 380,
   "metadata": {},
   "outputs": [
    {
     "data": {
      "text/html": [
       "<div>\n",
       "<style scoped>\n",
       "    .dataframe tbody tr th:only-of-type {\n",
       "        vertical-align: middle;\n",
       "    }\n",
       "\n",
       "    .dataframe tbody tr th {\n",
       "        vertical-align: top;\n",
       "    }\n",
       "\n",
       "    .dataframe thead th {\n",
       "        text-align: right;\n",
       "    }\n",
       "</style>\n",
       "<table border=\"1\" class=\"dataframe\">\n",
       "  <thead>\n",
       "    <tr style=\"text-align: right;\">\n",
       "      <th></th>\n",
       "      <th>order_id</th>\n",
       "      <th>customer_id</th>\n",
       "    </tr>\n",
       "  </thead>\n",
       "  <tbody>\n",
       "    <tr>\n",
       "      <th>count</th>\n",
       "      <td>99441</td>\n",
       "      <td>99441</td>\n",
       "    </tr>\n",
       "    <tr>\n",
       "      <th>unique</th>\n",
       "      <td>99441</td>\n",
       "      <td>99441</td>\n",
       "    </tr>\n",
       "    <tr>\n",
       "      <th>top</th>\n",
       "      <td>e481f51cbdc54678b7cc49136f2d6af7</td>\n",
       "      <td>9ef432eb6251297304e76186b10a928d</td>\n",
       "    </tr>\n",
       "    <tr>\n",
       "      <th>freq</th>\n",
       "      <td>1</td>\n",
       "      <td>1</td>\n",
       "    </tr>\n",
       "  </tbody>\n",
       "</table>\n",
       "</div>"
      ],
      "text/plain": [
       "                                order_id                       customer_id\n",
       "count                              99441                             99441\n",
       "unique                             99441                             99441\n",
       "top     e481f51cbdc54678b7cc49136f2d6af7  9ef432eb6251297304e76186b10a928d\n",
       "freq                                   1                                 1"
      ]
     },
     "execution_count": 380,
     "metadata": {},
     "output_type": "execute_result"
    }
   ],
   "source": [
    "dfOrderData.describe()"
   ]
  },
  {
   "cell_type": "code",
   "execution_count": 381,
   "metadata": {},
   "outputs": [
    {
     "data": {
      "text/plain": [
       "order_id       0\n",
       "customer_id    0\n",
       "dtype: int64"
      ]
     },
     "execution_count": 381,
     "metadata": {},
     "output_type": "execute_result"
    }
   ],
   "source": [
    "dfOrderData.isnull().sum()"
   ]
  },
  {
   "attachments": {},
   "cell_type": "markdown",
   "metadata": {},
   "source": [
    "Nettoyage OrderReviews"
   ]
  },
  {
   "cell_type": "code",
   "execution_count": 382,
   "metadata": {},
   "outputs": [
    {
     "name": "stdout",
     "output_type": "stream",
     "text": [
      "<class 'pandas.core.frame.DataFrame'>\n",
      "RangeIndex: 99224 entries, 0 to 99223\n",
      "Data columns (total 7 columns):\n",
      " #   Column                   Non-Null Count  Dtype \n",
      "---  ------                   --------------  ----- \n",
      " 0   review_id                99224 non-null  object\n",
      " 1   order_id                 99224 non-null  object\n",
      " 2   review_score             99224 non-null  int64 \n",
      " 3   review_comment_title     11568 non-null  object\n",
      " 4   review_comment_message   40977 non-null  object\n",
      " 5   review_creation_date     99224 non-null  object\n",
      " 6   review_answer_timestamp  99224 non-null  object\n",
      "dtypes: int64(1), object(6)\n",
      "memory usage: 5.3+ MB\n"
     ]
    }
   ],
   "source": [
    "dfOrderReviews.info()"
   ]
  },
  {
   "cell_type": "code",
   "execution_count": 383,
   "metadata": {},
   "outputs": [],
   "source": [
    "dfOrderReviewsClean = dfOrderReviews.drop_duplicates()"
   ]
  },
  {
   "cell_type": "code",
   "execution_count": 384,
   "metadata": {},
   "outputs": [
    {
     "data": {
      "text/plain": [
       "99224"
      ]
     },
     "execution_count": 384,
     "metadata": {},
     "output_type": "execute_result"
    }
   ],
   "source": [
    "len(dfOrderReviewsClean)"
   ]
  },
  {
   "cell_type": "code",
   "execution_count": 385,
   "metadata": {},
   "outputs": [],
   "source": [
    "dfOrderReviews.drop(\"review_comment_title\", axis=1, inplace=True)"
   ]
  },
  {
   "cell_type": "code",
   "execution_count": 386,
   "metadata": {},
   "outputs": [],
   "source": [
    "dfOrderReviews.drop(\"review_id\", axis=1, inplace=True)"
   ]
  },
  {
   "cell_type": "code",
   "execution_count": 387,
   "metadata": {},
   "outputs": [],
   "source": [
    "dfOrderReviews.drop(\"review_comment_message\", axis=1, inplace=True)"
   ]
  },
  {
   "cell_type": "code",
   "execution_count": 388,
   "metadata": {},
   "outputs": [],
   "source": [
    "dfOrderReviews.drop(\"review_creation_date\", axis=1, inplace=True)"
   ]
  },
  {
   "cell_type": "code",
   "execution_count": 389,
   "metadata": {},
   "outputs": [],
   "source": [
    "dfOrderReviews.drop(\"review_answer_timestamp\", axis=1, inplace=True)"
   ]
  },
  {
   "cell_type": "code",
   "execution_count": 390,
   "metadata": {},
   "outputs": [
    {
     "name": "stdout",
     "output_type": "stream",
     "text": [
      "<class 'pandas.core.frame.DataFrame'>\n",
      "RangeIndex: 99224 entries, 0 to 99223\n",
      "Data columns (total 2 columns):\n",
      " #   Column        Non-Null Count  Dtype \n",
      "---  ------        --------------  ----- \n",
      " 0   order_id      99224 non-null  object\n",
      " 1   review_score  99224 non-null  int64 \n",
      "dtypes: int64(1), object(1)\n",
      "memory usage: 1.5+ MB\n"
     ]
    }
   ],
   "source": [
    "dfOrderReviews.info()"
   ]
  },
  {
   "cell_type": "code",
   "execution_count": 391,
   "metadata": {},
   "outputs": [
    {
     "data": {
      "text/plain": [
       "order_id        0\n",
       "review_score    0\n",
       "dtype: int64"
      ]
     },
     "execution_count": 391,
     "metadata": {},
     "output_type": "execute_result"
    }
   ],
   "source": [
    "dfOrderReviews.isnull().sum()"
   ]
  },
  {
   "attachments": {},
   "cell_type": "markdown",
   "metadata": {},
   "source": [
    "Merge des dataFrames orders\n"
   ]
  },
  {
   "cell_type": "code",
   "execution_count": 392,
   "metadata": {},
   "outputs": [],
   "source": [
    "\n",
    "dfOrderItems = dfOrderItems.sort_values('order_item_id', ascending=False).drop_duplicates(subset='order_id').sort_index()"
   ]
  },
  {
   "cell_type": "code",
   "execution_count": 393,
   "metadata": {},
   "outputs": [],
   "source": [
    "dfOrderItems['price'] = dfOrderItems['price'] * dfOrderItems['order_item_id']"
   ]
  },
  {
   "cell_type": "code",
   "execution_count": 394,
   "metadata": {},
   "outputs": [],
   "source": [
    "dfOrderItems['freight_value'] = dfOrderItems['freight_value'] * dfOrderItems['order_item_id']"
   ]
  },
  {
   "cell_type": "code",
   "execution_count": 395,
   "metadata": {},
   "outputs": [],
   "source": [
    "dfOrderItems['totalPrice'] = dfOrderItems['price'] + dfOrderItems['freight_value']"
   ]
  },
  {
   "cell_type": "code",
   "execution_count": 396,
   "metadata": {},
   "outputs": [
    {
     "name": "stdout",
     "output_type": "stream",
     "text": [
      "<class 'pandas.core.frame.DataFrame'>\n",
      "Int64Index: 98666 entries, 0 to 112649\n",
      "Data columns (total 8 columns):\n",
      " #   Column               Non-Null Count  Dtype  \n",
      "---  ------               --------------  -----  \n",
      " 0   order_id             98666 non-null  object \n",
      " 1   order_item_id        98666 non-null  int64  \n",
      " 2   product_id           98666 non-null  object \n",
      " 3   seller_id            98666 non-null  object \n",
      " 4   shipping_limit_date  98666 non-null  object \n",
      " 5   price                98666 non-null  float64\n",
      " 6   freight_value        98666 non-null  float64\n",
      " 7   totalPrice           98666 non-null  float64\n",
      "dtypes: float64(3), int64(1), object(4)\n",
      "memory usage: 6.8+ MB\n"
     ]
    }
   ],
   "source": [
    "dfOrderItems.info()"
   ]
  },
  {
   "cell_type": "code",
   "execution_count": 397,
   "metadata": {},
   "outputs": [],
   "source": [
    "dfOrderItems['price'] = dfOrderItems['price'].round(2)"
   ]
  },
  {
   "cell_type": "code",
   "execution_count": 398,
   "metadata": {},
   "outputs": [],
   "source": [
    "dfOrderItems['freight_value'] = dfOrderItems['freight_value'].round(2)"
   ]
  },
  {
   "cell_type": "code",
   "execution_count": 399,
   "metadata": {},
   "outputs": [],
   "source": [
    "dfOrderItems['totalPrice'] = dfOrderItems['totalPrice'].round(2)"
   ]
  },
  {
   "cell_type": "code",
   "execution_count": 400,
   "metadata": {},
   "outputs": [],
   "source": [
    "dfOrderItems.to_csv(\"order_items_clear.csv\",index=False)"
   ]
  },
  {
   "cell_type": "code",
   "execution_count": 401,
   "metadata": {},
   "outputs": [
    {
     "name": "stdout",
     "output_type": "stream",
     "text": [
      "<class 'pandas.core.frame.DataFrame'>\n",
      "RangeIndex: 99224 entries, 0 to 99223\n",
      "Data columns (total 2 columns):\n",
      " #   Column        Non-Null Count  Dtype \n",
      "---  ------        --------------  ----- \n",
      " 0   order_id      99224 non-null  object\n",
      " 1   review_score  99224 non-null  int64 \n",
      "dtypes: int64(1), object(1)\n",
      "memory usage: 1.5+ MB\n"
     ]
    }
   ],
   "source": [
    "dfOrderReviews.info()"
   ]
  },
  {
   "cell_type": "code",
   "execution_count": 402,
   "metadata": {},
   "outputs": [
    {
     "data": {
      "text/plain": [
       "order_id        0\n",
       "review_score    0\n",
       "dtype: int64"
      ]
     },
     "execution_count": 402,
     "metadata": {},
     "output_type": "execute_result"
    }
   ],
   "source": [
    "dfOrderReviews.isnull().sum()"
   ]
  },
  {
   "cell_type": "code",
   "execution_count": 403,
   "metadata": {},
   "outputs": [],
   "source": [
    "dfOrderItemsMerge = pd.merge(dfOrderItems, dfOrderReviews, on='order_id', how='left')"
   ]
  },
  {
   "cell_type": "code",
   "execution_count": 404,
   "metadata": {},
   "outputs": [
    {
     "data": {
      "text/plain": [
       "order_id                 0\n",
       "order_item_id            0\n",
       "product_id               0\n",
       "seller_id                0\n",
       "shipping_limit_date      0\n",
       "price                    0\n",
       "freight_value            0\n",
       "totalPrice               0\n",
       "review_score           749\n",
       "dtype: int64"
      ]
     },
     "execution_count": 404,
     "metadata": {},
     "output_type": "execute_result"
    }
   ],
   "source": [
    "dfOrderItemsMerge.isnull().sum()"
   ]
  },
  {
   "cell_type": "code",
   "execution_count": 405,
   "metadata": {},
   "outputs": [],
   "source": [
    "dfOrderItemsMerge = dfOrderItemsMerge.dropna()"
   ]
  },
  {
   "cell_type": "code",
   "execution_count": 406,
   "metadata": {},
   "outputs": [
    {
     "data": {
      "text/plain": [
       "order_id               0\n",
       "order_item_id          0\n",
       "product_id             0\n",
       "seller_id              0\n",
       "shipping_limit_date    0\n",
       "price                  0\n",
       "freight_value          0\n",
       "totalPrice             0\n",
       "review_score           0\n",
       "dtype: int64"
      ]
     },
     "execution_count": 406,
     "metadata": {},
     "output_type": "execute_result"
    }
   ],
   "source": [
    "dfOrderItemsMerge.isnull().sum()"
   ]
  },
  {
   "cell_type": "code",
   "execution_count": 407,
   "metadata": {},
   "outputs": [],
   "source": [
    "dfOrderItemsMerge = pd.merge(dfOrderItemsMerge, dfOrderData, on='order_id', how='left')"
   ]
  },
  {
   "cell_type": "code",
   "execution_count": 408,
   "metadata": {},
   "outputs": [
    {
     "data": {
      "text/html": [
       "<div>\n",
       "<style scoped>\n",
       "    .dataframe tbody tr th:only-of-type {\n",
       "        vertical-align: middle;\n",
       "    }\n",
       "\n",
       "    .dataframe tbody tr th {\n",
       "        vertical-align: top;\n",
       "    }\n",
       "\n",
       "    .dataframe thead th {\n",
       "        text-align: right;\n",
       "    }\n",
       "</style>\n",
       "<table border=\"1\" class=\"dataframe\">\n",
       "  <thead>\n",
       "    <tr style=\"text-align: right;\">\n",
       "      <th></th>\n",
       "      <th>order_id</th>\n",
       "      <th>order_item_id</th>\n",
       "      <th>product_id</th>\n",
       "      <th>seller_id</th>\n",
       "      <th>shipping_limit_date</th>\n",
       "      <th>price</th>\n",
       "      <th>freight_value</th>\n",
       "      <th>totalPrice</th>\n",
       "      <th>review_score</th>\n",
       "      <th>customer_id</th>\n",
       "    </tr>\n",
       "  </thead>\n",
       "  <tbody>\n",
       "    <tr>\n",
       "      <th>0</th>\n",
       "      <td>00010242fe8c5a6d1ba2dd792cb16214</td>\n",
       "      <td>1</td>\n",
       "      <td>4244733e06e7ecb4970a6e2683c13e61</td>\n",
       "      <td>48436dade18ac8b2bce089ec2a041202</td>\n",
       "      <td>2017-09-19 09:45:35</td>\n",
       "      <td>58.90</td>\n",
       "      <td>13.29</td>\n",
       "      <td>72.19</td>\n",
       "      <td>5.0</td>\n",
       "      <td>3ce436f183e68e07877b285a838db11a</td>\n",
       "    </tr>\n",
       "    <tr>\n",
       "      <th>1</th>\n",
       "      <td>00018f77f2f0320c557190d7a144bdd3</td>\n",
       "      <td>1</td>\n",
       "      <td>e5f2d52b802189ee658865ca93d83a8f</td>\n",
       "      <td>dd7ddc04e1b6c2c614352b383efe2d36</td>\n",
       "      <td>2017-05-03 11:05:13</td>\n",
       "      <td>239.90</td>\n",
       "      <td>19.93</td>\n",
       "      <td>259.83</td>\n",
       "      <td>4.0</td>\n",
       "      <td>f6dd3ec061db4e3987629fe6b26e5cce</td>\n",
       "    </tr>\n",
       "    <tr>\n",
       "      <th>2</th>\n",
       "      <td>000229ec398224ef6ca0657da4fc703e</td>\n",
       "      <td>1</td>\n",
       "      <td>c777355d18b72b67abbeef9df44fd0fd</td>\n",
       "      <td>5b51032eddd242adc84c38acab88f23d</td>\n",
       "      <td>2018-01-18 14:48:30</td>\n",
       "      <td>199.00</td>\n",
       "      <td>17.87</td>\n",
       "      <td>216.87</td>\n",
       "      <td>5.0</td>\n",
       "      <td>6489ae5e4333f3693df5ad4372dab6d3</td>\n",
       "    </tr>\n",
       "    <tr>\n",
       "      <th>3</th>\n",
       "      <td>00024acbcdf0a6daa1e931b038114c75</td>\n",
       "      <td>1</td>\n",
       "      <td>7634da152a4610f1595efa32f14722fc</td>\n",
       "      <td>9d7a1d34a5052409006425275ba1c2b4</td>\n",
       "      <td>2018-08-15 10:10:18</td>\n",
       "      <td>12.99</td>\n",
       "      <td>12.79</td>\n",
       "      <td>25.78</td>\n",
       "      <td>4.0</td>\n",
       "      <td>d4eb9395c8c0431ee92fce09860c5a06</td>\n",
       "    </tr>\n",
       "    <tr>\n",
       "      <th>4</th>\n",
       "      <td>00042b26cf59d7ce69dfabb4e55b4fd9</td>\n",
       "      <td>1</td>\n",
       "      <td>ac6c3623068f30de03045865e4e10089</td>\n",
       "      <td>df560393f3a51e74553ab94004ba5c87</td>\n",
       "      <td>2017-02-13 13:57:51</td>\n",
       "      <td>199.90</td>\n",
       "      <td>18.14</td>\n",
       "      <td>218.04</td>\n",
       "      <td>5.0</td>\n",
       "      <td>58dbd0b2d70206bf40e62cd34e84d795</td>\n",
       "    </tr>\n",
       "  </tbody>\n",
       "</table>\n",
       "</div>"
      ],
      "text/plain": [
       "                           order_id  order_item_id  \\\n",
       "0  00010242fe8c5a6d1ba2dd792cb16214              1   \n",
       "1  00018f77f2f0320c557190d7a144bdd3              1   \n",
       "2  000229ec398224ef6ca0657da4fc703e              1   \n",
       "3  00024acbcdf0a6daa1e931b038114c75              1   \n",
       "4  00042b26cf59d7ce69dfabb4e55b4fd9              1   \n",
       "\n",
       "                         product_id                         seller_id  \\\n",
       "0  4244733e06e7ecb4970a6e2683c13e61  48436dade18ac8b2bce089ec2a041202   \n",
       "1  e5f2d52b802189ee658865ca93d83a8f  dd7ddc04e1b6c2c614352b383efe2d36   \n",
       "2  c777355d18b72b67abbeef9df44fd0fd  5b51032eddd242adc84c38acab88f23d   \n",
       "3  7634da152a4610f1595efa32f14722fc  9d7a1d34a5052409006425275ba1c2b4   \n",
       "4  ac6c3623068f30de03045865e4e10089  df560393f3a51e74553ab94004ba5c87   \n",
       "\n",
       "   shipping_limit_date   price  freight_value  totalPrice  review_score  \\\n",
       "0  2017-09-19 09:45:35   58.90          13.29       72.19           5.0   \n",
       "1  2017-05-03 11:05:13  239.90          19.93      259.83           4.0   \n",
       "2  2018-01-18 14:48:30  199.00          17.87      216.87           5.0   \n",
       "3  2018-08-15 10:10:18   12.99          12.79       25.78           4.0   \n",
       "4  2017-02-13 13:57:51  199.90          18.14      218.04           5.0   \n",
       "\n",
       "                        customer_id  \n",
       "0  3ce436f183e68e07877b285a838db11a  \n",
       "1  f6dd3ec061db4e3987629fe6b26e5cce  \n",
       "2  6489ae5e4333f3693df5ad4372dab6d3  \n",
       "3  d4eb9395c8c0431ee92fce09860c5a06  \n",
       "4  58dbd0b2d70206bf40e62cd34e84d795  "
      ]
     },
     "execution_count": 408,
     "metadata": {},
     "output_type": "execute_result"
    }
   ],
   "source": [
    "dfOrderItemsMerge.head()\n"
   ]
  },
  {
   "cell_type": "code",
   "execution_count": 409,
   "metadata": {},
   "outputs": [],
   "source": [
    "dfOrderItemsMerge = pd.merge(dfOrderItemsMerge, dfOrderPayements, on='order_id', how='left')"
   ]
  },
  {
   "cell_type": "code",
   "execution_count": 410,
   "metadata": {},
   "outputs": [],
   "source": [
    "dfOrderItemsMerge = dfOrderItemsMerge.dropna()"
   ]
  },
  {
   "cell_type": "code",
   "execution_count": 411,
   "metadata": {},
   "outputs": [
    {
     "data": {
      "text/html": [
       "<div>\n",
       "<style scoped>\n",
       "    .dataframe tbody tr th:only-of-type {\n",
       "        vertical-align: middle;\n",
       "    }\n",
       "\n",
       "    .dataframe tbody tr th {\n",
       "        vertical-align: top;\n",
       "    }\n",
       "\n",
       "    .dataframe thead th {\n",
       "        text-align: right;\n",
       "    }\n",
       "</style>\n",
       "<table border=\"1\" class=\"dataframe\">\n",
       "  <thead>\n",
       "    <tr style=\"text-align: right;\">\n",
       "      <th></th>\n",
       "      <th>order_id</th>\n",
       "      <th>order_item_id</th>\n",
       "      <th>product_id</th>\n",
       "      <th>seller_id</th>\n",
       "      <th>shipping_limit_date</th>\n",
       "      <th>price</th>\n",
       "      <th>freight_value</th>\n",
       "      <th>totalPrice</th>\n",
       "      <th>review_score</th>\n",
       "      <th>customer_id</th>\n",
       "      <th>payment_type</th>\n",
       "    </tr>\n",
       "  </thead>\n",
       "  <tbody>\n",
       "    <tr>\n",
       "      <th>0</th>\n",
       "      <td>00010242fe8c5a6d1ba2dd792cb16214</td>\n",
       "      <td>1</td>\n",
       "      <td>4244733e06e7ecb4970a6e2683c13e61</td>\n",
       "      <td>48436dade18ac8b2bce089ec2a041202</td>\n",
       "      <td>2017-09-19 09:45:35</td>\n",
       "      <td>58.90</td>\n",
       "      <td>13.29</td>\n",
       "      <td>72.19</td>\n",
       "      <td>5.0</td>\n",
       "      <td>3ce436f183e68e07877b285a838db11a</td>\n",
       "      <td>credit_card</td>\n",
       "    </tr>\n",
       "    <tr>\n",
       "      <th>1</th>\n",
       "      <td>00018f77f2f0320c557190d7a144bdd3</td>\n",
       "      <td>1</td>\n",
       "      <td>e5f2d52b802189ee658865ca93d83a8f</td>\n",
       "      <td>dd7ddc04e1b6c2c614352b383efe2d36</td>\n",
       "      <td>2017-05-03 11:05:13</td>\n",
       "      <td>239.90</td>\n",
       "      <td>19.93</td>\n",
       "      <td>259.83</td>\n",
       "      <td>4.0</td>\n",
       "      <td>f6dd3ec061db4e3987629fe6b26e5cce</td>\n",
       "      <td>credit_card</td>\n",
       "    </tr>\n",
       "    <tr>\n",
       "      <th>2</th>\n",
       "      <td>000229ec398224ef6ca0657da4fc703e</td>\n",
       "      <td>1</td>\n",
       "      <td>c777355d18b72b67abbeef9df44fd0fd</td>\n",
       "      <td>5b51032eddd242adc84c38acab88f23d</td>\n",
       "      <td>2018-01-18 14:48:30</td>\n",
       "      <td>199.00</td>\n",
       "      <td>17.87</td>\n",
       "      <td>216.87</td>\n",
       "      <td>5.0</td>\n",
       "      <td>6489ae5e4333f3693df5ad4372dab6d3</td>\n",
       "      <td>credit_card</td>\n",
       "    </tr>\n",
       "    <tr>\n",
       "      <th>3</th>\n",
       "      <td>00024acbcdf0a6daa1e931b038114c75</td>\n",
       "      <td>1</td>\n",
       "      <td>7634da152a4610f1595efa32f14722fc</td>\n",
       "      <td>9d7a1d34a5052409006425275ba1c2b4</td>\n",
       "      <td>2018-08-15 10:10:18</td>\n",
       "      <td>12.99</td>\n",
       "      <td>12.79</td>\n",
       "      <td>25.78</td>\n",
       "      <td>4.0</td>\n",
       "      <td>d4eb9395c8c0431ee92fce09860c5a06</td>\n",
       "      <td>credit_card</td>\n",
       "    </tr>\n",
       "    <tr>\n",
       "      <th>4</th>\n",
       "      <td>00042b26cf59d7ce69dfabb4e55b4fd9</td>\n",
       "      <td>1</td>\n",
       "      <td>ac6c3623068f30de03045865e4e10089</td>\n",
       "      <td>df560393f3a51e74553ab94004ba5c87</td>\n",
       "      <td>2017-02-13 13:57:51</td>\n",
       "      <td>199.90</td>\n",
       "      <td>18.14</td>\n",
       "      <td>218.04</td>\n",
       "      <td>5.0</td>\n",
       "      <td>58dbd0b2d70206bf40e62cd34e84d795</td>\n",
       "      <td>credit_card</td>\n",
       "    </tr>\n",
       "  </tbody>\n",
       "</table>\n",
       "</div>"
      ],
      "text/plain": [
       "                           order_id  order_item_id  \\\n",
       "0  00010242fe8c5a6d1ba2dd792cb16214              1   \n",
       "1  00018f77f2f0320c557190d7a144bdd3              1   \n",
       "2  000229ec398224ef6ca0657da4fc703e              1   \n",
       "3  00024acbcdf0a6daa1e931b038114c75              1   \n",
       "4  00042b26cf59d7ce69dfabb4e55b4fd9              1   \n",
       "\n",
       "                         product_id                         seller_id  \\\n",
       "0  4244733e06e7ecb4970a6e2683c13e61  48436dade18ac8b2bce089ec2a041202   \n",
       "1  e5f2d52b802189ee658865ca93d83a8f  dd7ddc04e1b6c2c614352b383efe2d36   \n",
       "2  c777355d18b72b67abbeef9df44fd0fd  5b51032eddd242adc84c38acab88f23d   \n",
       "3  7634da152a4610f1595efa32f14722fc  9d7a1d34a5052409006425275ba1c2b4   \n",
       "4  ac6c3623068f30de03045865e4e10089  df560393f3a51e74553ab94004ba5c87   \n",
       "\n",
       "   shipping_limit_date   price  freight_value  totalPrice  review_score  \\\n",
       "0  2017-09-19 09:45:35   58.90          13.29       72.19           5.0   \n",
       "1  2017-05-03 11:05:13  239.90          19.93      259.83           4.0   \n",
       "2  2018-01-18 14:48:30  199.00          17.87      216.87           5.0   \n",
       "3  2018-08-15 10:10:18   12.99          12.79       25.78           4.0   \n",
       "4  2017-02-13 13:57:51  199.90          18.14      218.04           5.0   \n",
       "\n",
       "                        customer_id payment_type  \n",
       "0  3ce436f183e68e07877b285a838db11a  credit_card  \n",
       "1  f6dd3ec061db4e3987629fe6b26e5cce  credit_card  \n",
       "2  6489ae5e4333f3693df5ad4372dab6d3  credit_card  \n",
       "3  d4eb9395c8c0431ee92fce09860c5a06  credit_card  \n",
       "4  58dbd0b2d70206bf40e62cd34e84d795  credit_card  "
      ]
     },
     "execution_count": 411,
     "metadata": {},
     "output_type": "execute_result"
    }
   ],
   "source": [
    "dfOrderItemsMerge.head()"
   ]
  },
  {
   "cell_type": "code",
   "execution_count": 412,
   "metadata": {},
   "outputs": [
    {
     "data": {
      "text/plain": [
       "order_id               0\n",
       "order_item_id          0\n",
       "product_id             0\n",
       "seller_id              0\n",
       "shipping_limit_date    0\n",
       "price                  0\n",
       "freight_value          0\n",
       "totalPrice             0\n",
       "review_score           0\n",
       "customer_id            0\n",
       "payment_type           0\n",
       "dtype: int64"
      ]
     },
     "execution_count": 412,
     "metadata": {},
     "output_type": "execute_result"
    }
   ],
   "source": [
    "dfOrderItemsMerge.isnull().sum()"
   ]
  },
  {
   "cell_type": "code",
   "execution_count": 413,
   "metadata": {},
   "outputs": [],
   "source": [
    "dfCustomers = pd.read_csv(\"../../archive/olist_customers_dataset.csv\")"
   ]
  },
  {
   "cell_type": "code",
   "execution_count": 414,
   "metadata": {},
   "outputs": [],
   "source": [
    "dfCustomers.drop(\"customer_unique_id\", axis=1, inplace=True)"
   ]
  },
  {
   "cell_type": "code",
   "execution_count": null,
   "metadata": {},
   "outputs": [],
   "source": []
  },
  {
   "cell_type": "code",
   "execution_count": 415,
   "metadata": {},
   "outputs": [],
   "source": [
    "dfOrderItemsMerge = pd.merge(dfOrderItemsMerge, dfCustomers, on='customer_id', how='left')"
   ]
  },
  {
   "cell_type": "code",
   "execution_count": 416,
   "metadata": {},
   "outputs": [
    {
     "data": {
      "text/plain": [
       "order_id                    0\n",
       "order_item_id               0\n",
       "product_id                  0\n",
       "seller_id                   0\n",
       "shipping_limit_date         0\n",
       "price                       0\n",
       "freight_value               0\n",
       "totalPrice                  0\n",
       "review_score                0\n",
       "customer_id                 0\n",
       "payment_type                0\n",
       "customer_zip_code_prefix    0\n",
       "customer_city               0\n",
       "customer_state              0\n",
       "dtype: int64"
      ]
     },
     "execution_count": 416,
     "metadata": {},
     "output_type": "execute_result"
    }
   ],
   "source": [
    "dfOrderItemsMerge.isnull().sum()"
   ]
  },
  {
   "cell_type": "code",
   "execution_count": 417,
   "metadata": {},
   "outputs": [],
   "source": [
    "dfSellers = pd.read_csv(\"../../archive/olist_sellers_dataset.csv\")"
   ]
  },
  {
   "cell_type": "code",
   "execution_count": 418,
   "metadata": {},
   "outputs": [],
   "source": [
    "dfOrderItemsMerge = pd.merge(dfOrderItemsMerge, dfSellers, on='seller_id', how='left')"
   ]
  },
  {
   "cell_type": "code",
   "execution_count": 419,
   "metadata": {},
   "outputs": [
    {
     "data": {
      "text/plain": [
       "order_id                    0\n",
       "order_item_id               0\n",
       "product_id                  0\n",
       "seller_id                   0\n",
       "shipping_limit_date         0\n",
       "price                       0\n",
       "freight_value               0\n",
       "totalPrice                  0\n",
       "review_score                0\n",
       "customer_id                 0\n",
       "payment_type                0\n",
       "customer_zip_code_prefix    0\n",
       "customer_city               0\n",
       "customer_state              0\n",
       "seller_zip_code_prefix      0\n",
       "seller_city                 0\n",
       "seller_state                0\n",
       "dtype: int64"
      ]
     },
     "execution_count": 419,
     "metadata": {},
     "output_type": "execute_result"
    }
   ],
   "source": [
    "dfOrderItemsMerge.isnull().sum()"
   ]
  },
  {
   "cell_type": "code",
   "execution_count": 420,
   "metadata": {},
   "outputs": [],
   "source": [
    "dfNewCategorie = pd.read_csv(\"../../archive/categorie_reduc.csv\")"
   ]
  },
  {
   "cell_type": "code",
   "execution_count": 421,
   "metadata": {},
   "outputs": [],
   "source": [
    "dfNewCategorie['original']=dfNewCategorie[\"original\"].str.split(\",\")"
   ]
  },
  {
   "cell_type": "code",
   "execution_count": 422,
   "metadata": {},
   "outputs": [
    {
     "data": {
      "text/html": [
       "<div>\n",
       "<style scoped>\n",
       "    .dataframe tbody tr th:only-of-type {\n",
       "        vertical-align: middle;\n",
       "    }\n",
       "\n",
       "    .dataframe tbody tr th {\n",
       "        vertical-align: top;\n",
       "    }\n",
       "\n",
       "    .dataframe thead th {\n",
       "        text-align: right;\n",
       "    }\n",
       "</style>\n",
       "<table border=\"1\" class=\"dataframe\">\n",
       "  <thead>\n",
       "    <tr style=\"text-align: right;\">\n",
       "      <th></th>\n",
       "      <th>original</th>\n",
       "      <th>new_categorie</th>\n",
       "    </tr>\n",
       "  </thead>\n",
       "  <tbody>\n",
       "    <tr>\n",
       "      <th>0</th>\n",
       "      <td>[Computers_Accessories,  Tablets_Printing_Imag...</td>\n",
       "      <td>Informatique et electronique</td>\n",
       "    </tr>\n",
       "    <tr>\n",
       "      <th>1</th>\n",
       "      <td>[Auto,  Air_Conditioning]</td>\n",
       "      <td>Automobile</td>\n",
       "    </tr>\n",
       "    <tr>\n",
       "      <th>2</th>\n",
       "      <td>[Bed_Bath_Table,  Housewares,  Kitchen_Dining_...</td>\n",
       "      <td>Housing</td>\n",
       "    </tr>\n",
       "    <tr>\n",
       "      <th>3</th>\n",
       "      <td>[Furniture_Decor,  Furniture_Mattress_and_Upho...</td>\n",
       "      <td>Furniture</td>\n",
       "    </tr>\n",
       "    <tr>\n",
       "      <th>4</th>\n",
       "      <td>[Sports_Leisure,  Luggage_Accessories]</td>\n",
       "      <td>Sport</td>\n",
       "    </tr>\n",
       "    <tr>\n",
       "      <th>5</th>\n",
       "      <td>[Perfumery,   Health_Beauty]</td>\n",
       "      <td>Parfum et soin</td>\n",
       "    </tr>\n",
       "    <tr>\n",
       "      <th>6</th>\n",
       "      <td>[Telephony,  Fixed_Telephony,  Signaling_and_S...</td>\n",
       "      <td>Telephonie et sécurite</td>\n",
       "    </tr>\n",
       "    <tr>\n",
       "      <th>7</th>\n",
       "      <td>[Food_Drink,  Food,  Drinks, Market_Place, La_...</td>\n",
       "      <td>Nourriture et cuisine</td>\n",
       "    </tr>\n",
       "    <tr>\n",
       "      <th>8</th>\n",
       "      <td>[Baby,  Diapers_and_Hygiene]</td>\n",
       "      <td>Utilitaire pour bebe</td>\n",
       "    </tr>\n",
       "    <tr>\n",
       "      <th>9</th>\n",
       "      <td>[Stationery,  Books_General_Interest,  Books_I...</td>\n",
       "      <td>Livre et papeterie</td>\n",
       "    </tr>\n",
       "    <tr>\n",
       "      <th>10</th>\n",
       "      <td>[Toys,  Small_Appliances,  Small_Appliances_Ho...</td>\n",
       "      <td>Gadget</td>\n",
       "    </tr>\n",
       "    <tr>\n",
       "      <th>11</th>\n",
       "      <td>[Fashion_Bags_Accessories,  Fashion_Shoes,  Fa...</td>\n",
       "      <td>Fashion</td>\n",
       "    </tr>\n",
       "    <tr>\n",
       "      <th>12</th>\n",
       "      <td>[Garden_Tools,  Construction_Tools_Constructio...</td>\n",
       "      <td>Quincalerie</td>\n",
       "    </tr>\n",
       "    <tr>\n",
       "      <th>13</th>\n",
       "      <td>[Audio,  Music,  CDs_Dvds_Musicals,  DVDs_Blu_...</td>\n",
       "      <td>Musique et instruments</td>\n",
       "    </tr>\n",
       "    <tr>\n",
       "      <th>14</th>\n",
       "      <td>[Party_Supplies,  Christmas_Supplies, Watches_...</td>\n",
       "      <td>Cadeaux</td>\n",
       "    </tr>\n",
       "    <tr>\n",
       "      <th>15</th>\n",
       "      <td>[Agro_Industry_and_Commerce,  Industry_Commerc...</td>\n",
       "      <td>Industrie et commerce</td>\n",
       "    </tr>\n",
       "    <tr>\n",
       "      <th>16</th>\n",
       "      <td>[Pet_Shop]</td>\n",
       "      <td>Animalerie</td>\n",
       "    </tr>\n",
       "    <tr>\n",
       "      <th>17</th>\n",
       "      <td>[Art,  Arts_and_Craftmanship]</td>\n",
       "      <td>Art et manufacture</td>\n",
       "    </tr>\n",
       "  </tbody>\n",
       "</table>\n",
       "</div>"
      ],
      "text/plain": [
       "                                             original  \\\n",
       "0   [Computers_Accessories,  Tablets_Printing_Imag...   \n",
       "1                           [Auto,  Air_Conditioning]   \n",
       "2   [Bed_Bath_Table,  Housewares,  Kitchen_Dining_...   \n",
       "3   [Furniture_Decor,  Furniture_Mattress_and_Upho...   \n",
       "4              [Sports_Leisure,  Luggage_Accessories]   \n",
       "5                        [Perfumery,   Health_Beauty]   \n",
       "6   [Telephony,  Fixed_Telephony,  Signaling_and_S...   \n",
       "7   [Food_Drink,  Food,  Drinks, Market_Place, La_...   \n",
       "8                        [Baby,  Diapers_and_Hygiene]   \n",
       "9   [Stationery,  Books_General_Interest,  Books_I...   \n",
       "10  [Toys,  Small_Appliances,  Small_Appliances_Ho...   \n",
       "11  [Fashion_Bags_Accessories,  Fashion_Shoes,  Fa...   \n",
       "12  [Garden_Tools,  Construction_Tools_Constructio...   \n",
       "13  [Audio,  Music,  CDs_Dvds_Musicals,  DVDs_Blu_...   \n",
       "14  [Party_Supplies,  Christmas_Supplies, Watches_...   \n",
       "15  [Agro_Industry_and_Commerce,  Industry_Commerc...   \n",
       "16                                         [Pet_Shop]   \n",
       "17                      [Art,  Arts_and_Craftmanship]   \n",
       "\n",
       "                   new_categorie  \n",
       "0   Informatique et electronique  \n",
       "1                     Automobile  \n",
       "2                        Housing  \n",
       "3                      Furniture  \n",
       "4                          Sport  \n",
       "5                 Parfum et soin  \n",
       "6         Telephonie et sécurite  \n",
       "7          Nourriture et cuisine  \n",
       "8           Utilitaire pour bebe  \n",
       "9             Livre et papeterie  \n",
       "10                        Gadget  \n",
       "11                       Fashion  \n",
       "12                   Quincalerie  \n",
       "13        Musique et instruments  \n",
       "14                       Cadeaux  \n",
       "15         Industrie et commerce  \n",
       "16                    Animalerie  \n",
       "17            Art et manufacture  "
      ]
     },
     "execution_count": 422,
     "metadata": {},
     "output_type": "execute_result"
    }
   ],
   "source": [
    "dfNewCategorie"
   ]
  },
  {
   "cell_type": "code",
   "execution_count": 423,
   "metadata": {},
   "outputs": [],
   "source": [
    "#dfNewCategorie['original'] = dfNewCategorie['original'].astype(str).apply(lambda x: x.lower())"
   ]
  },
  {
   "cell_type": "code",
   "execution_count": 424,
   "metadata": {},
   "outputs": [
    {
     "data": {
      "text/html": [
       "<div>\n",
       "<style scoped>\n",
       "    .dataframe tbody tr th:only-of-type {\n",
       "        vertical-align: middle;\n",
       "    }\n",
       "\n",
       "    .dataframe tbody tr th {\n",
       "        vertical-align: top;\n",
       "    }\n",
       "\n",
       "    .dataframe thead th {\n",
       "        text-align: right;\n",
       "    }\n",
       "</style>\n",
       "<table border=\"1\" class=\"dataframe\">\n",
       "  <thead>\n",
       "    <tr style=\"text-align: right;\">\n",
       "      <th></th>\n",
       "      <th>original</th>\n",
       "      <th>new_categorie</th>\n",
       "    </tr>\n",
       "  </thead>\n",
       "  <tbody>\n",
       "    <tr>\n",
       "      <th>0</th>\n",
       "      <td>[Computers_Accessories,  Tablets_Printing_Imag...</td>\n",
       "      <td>Informatique et electronique</td>\n",
       "    </tr>\n",
       "    <tr>\n",
       "      <th>1</th>\n",
       "      <td>[Auto,  Air_Conditioning]</td>\n",
       "      <td>Automobile</td>\n",
       "    </tr>\n",
       "    <tr>\n",
       "      <th>2</th>\n",
       "      <td>[Bed_Bath_Table,  Housewares,  Kitchen_Dining_...</td>\n",
       "      <td>Housing</td>\n",
       "    </tr>\n",
       "    <tr>\n",
       "      <th>3</th>\n",
       "      <td>[Furniture_Decor,  Furniture_Mattress_and_Upho...</td>\n",
       "      <td>Furniture</td>\n",
       "    </tr>\n",
       "    <tr>\n",
       "      <th>4</th>\n",
       "      <td>[Sports_Leisure,  Luggage_Accessories]</td>\n",
       "      <td>Sport</td>\n",
       "    </tr>\n",
       "    <tr>\n",
       "      <th>5</th>\n",
       "      <td>[Perfumery,   Health_Beauty]</td>\n",
       "      <td>Parfum et soin</td>\n",
       "    </tr>\n",
       "    <tr>\n",
       "      <th>6</th>\n",
       "      <td>[Telephony,  Fixed_Telephony,  Signaling_and_S...</td>\n",
       "      <td>Telephonie et sécurite</td>\n",
       "    </tr>\n",
       "    <tr>\n",
       "      <th>7</th>\n",
       "      <td>[Food_Drink,  Food,  Drinks, Market_Place, La_...</td>\n",
       "      <td>Nourriture et cuisine</td>\n",
       "    </tr>\n",
       "    <tr>\n",
       "      <th>8</th>\n",
       "      <td>[Baby,  Diapers_and_Hygiene]</td>\n",
       "      <td>Utilitaire pour bebe</td>\n",
       "    </tr>\n",
       "    <tr>\n",
       "      <th>9</th>\n",
       "      <td>[Stationery,  Books_General_Interest,  Books_I...</td>\n",
       "      <td>Livre et papeterie</td>\n",
       "    </tr>\n",
       "    <tr>\n",
       "      <th>10</th>\n",
       "      <td>[Toys,  Small_Appliances,  Small_Appliances_Ho...</td>\n",
       "      <td>Gadget</td>\n",
       "    </tr>\n",
       "    <tr>\n",
       "      <th>11</th>\n",
       "      <td>[Fashion_Bags_Accessories,  Fashion_Shoes,  Fa...</td>\n",
       "      <td>Fashion</td>\n",
       "    </tr>\n",
       "    <tr>\n",
       "      <th>12</th>\n",
       "      <td>[Garden_Tools,  Construction_Tools_Constructio...</td>\n",
       "      <td>Quincalerie</td>\n",
       "    </tr>\n",
       "    <tr>\n",
       "      <th>13</th>\n",
       "      <td>[Audio,  Music,  CDs_Dvds_Musicals,  DVDs_Blu_...</td>\n",
       "      <td>Musique et instruments</td>\n",
       "    </tr>\n",
       "    <tr>\n",
       "      <th>14</th>\n",
       "      <td>[Party_Supplies,  Christmas_Supplies, Watches_...</td>\n",
       "      <td>Cadeaux</td>\n",
       "    </tr>\n",
       "    <tr>\n",
       "      <th>15</th>\n",
       "      <td>[Agro_Industry_and_Commerce,  Industry_Commerc...</td>\n",
       "      <td>Industrie et commerce</td>\n",
       "    </tr>\n",
       "    <tr>\n",
       "      <th>16</th>\n",
       "      <td>[Pet_Shop]</td>\n",
       "      <td>Animalerie</td>\n",
       "    </tr>\n",
       "    <tr>\n",
       "      <th>17</th>\n",
       "      <td>[Art,  Arts_and_Craftmanship]</td>\n",
       "      <td>Art et manufacture</td>\n",
       "    </tr>\n",
       "  </tbody>\n",
       "</table>\n",
       "</div>"
      ],
      "text/plain": [
       "                                             original  \\\n",
       "0   [Computers_Accessories,  Tablets_Printing_Imag...   \n",
       "1                           [Auto,  Air_Conditioning]   \n",
       "2   [Bed_Bath_Table,  Housewares,  Kitchen_Dining_...   \n",
       "3   [Furniture_Decor,  Furniture_Mattress_and_Upho...   \n",
       "4              [Sports_Leisure,  Luggage_Accessories]   \n",
       "5                        [Perfumery,   Health_Beauty]   \n",
       "6   [Telephony,  Fixed_Telephony,  Signaling_and_S...   \n",
       "7   [Food_Drink,  Food,  Drinks, Market_Place, La_...   \n",
       "8                        [Baby,  Diapers_and_Hygiene]   \n",
       "9   [Stationery,  Books_General_Interest,  Books_I...   \n",
       "10  [Toys,  Small_Appliances,  Small_Appliances_Ho...   \n",
       "11  [Fashion_Bags_Accessories,  Fashion_Shoes,  Fa...   \n",
       "12  [Garden_Tools,  Construction_Tools_Constructio...   \n",
       "13  [Audio,  Music,  CDs_Dvds_Musicals,  DVDs_Blu_...   \n",
       "14  [Party_Supplies,  Christmas_Supplies, Watches_...   \n",
       "15  [Agro_Industry_and_Commerce,  Industry_Commerc...   \n",
       "16                                         [Pet_Shop]   \n",
       "17                      [Art,  Arts_and_Craftmanship]   \n",
       "\n",
       "                   new_categorie  \n",
       "0   Informatique et electronique  \n",
       "1                     Automobile  \n",
       "2                        Housing  \n",
       "3                      Furniture  \n",
       "4                          Sport  \n",
       "5                 Parfum et soin  \n",
       "6         Telephonie et sécurite  \n",
       "7          Nourriture et cuisine  \n",
       "8           Utilitaire pour bebe  \n",
       "9             Livre et papeterie  \n",
       "10                        Gadget  \n",
       "11                       Fashion  \n",
       "12                   Quincalerie  \n",
       "13        Musique et instruments  \n",
       "14                       Cadeaux  \n",
       "15         Industrie et commerce  \n",
       "16                    Animalerie  \n",
       "17            Art et manufacture  "
      ]
     },
     "execution_count": 424,
     "metadata": {},
     "output_type": "execute_result"
    }
   ],
   "source": [
    "dfNewCategorie"
   ]
  },
  {
   "cell_type": "code",
   "execution_count": 425,
   "metadata": {},
   "outputs": [
    {
     "data": {
      "text/plain": [
       "{0: {'Computers_Accessories': 'Informatique et electronique',\n",
       "  ' Tablets_Printing_Image': 'Informatique et electronique',\n",
       "  ' Computers': 'Informatique et electronique',\n",
       "  'Consoles_Games': 'Informatique et electronique',\n",
       "  'Electronics': 'Informatique et electronique'},\n",
       " 1: {'Auto': 'Automobile', ' Air_Conditioning': 'Automobile'},\n",
       " 2: {'Bed_Bath_Table': 'Housing',\n",
       "  ' Housewares': 'Housing',\n",
       "  ' Kitchen_Dining_Laundry_Garden_Furniture': 'Housing',\n",
       "  '  Home_Confort': 'Housing',\n",
       "  ' Home_Comfort_2': 'Housing',\n",
       "  'Home_Appliances': 'Housing',\n",
       "  ' Home_Appliances_2': 'Housing'},\n",
       " 3: {'Furniture_Decor': 'Furniture',\n",
       "  ' Furniture_Mattress_and_Upholstery': 'Furniture',\n",
       "  ' Furniture_Living_Room': 'Furniture',\n",
       "  ' Furniture_Bedroom': 'Furniture',\n",
       "  'Office_Furniture': 'Furniture'},\n",
       " 4: {'Sports_Leisure': 'Sport', ' Luggage_Accessories': 'Sport'},\n",
       " 5: {'Perfumery': 'Parfum et soin', '  Health_Beauty': 'Parfum et soin'},\n",
       " 6: {'Telephony': 'Telephonie et sécurite',\n",
       "  ' Fixed_Telephony': 'Telephonie et sécurite',\n",
       "  ' Signaling_and_Security': 'Telephonie et sécurite',\n",
       "  'Security_and_Services': 'Telephonie et sécurite'},\n",
       " 7: {'Food_Drink': 'Nourriture et cuisine',\n",
       "  ' Food': 'Nourriture et cuisine',\n",
       "  ' Drinks': 'Nourriture et cuisine',\n",
       "  'Market_Place': 'Nourriture et cuisine',\n",
       "  'La_Cuisine': 'Nourriture et cuisine'},\n",
       " 8: {'Baby': 'Utilitaire pour bebe',\n",
       "  ' Diapers_and_Hygiene': 'Utilitaire pour bebe'},\n",
       " 9: {'Stationery': 'Livre et papeterie',\n",
       "  ' Books_General_Interest': 'Livre et papeterie',\n",
       "  ' Books_Imported': 'Livre et papeterie',\n",
       "  ' Books_Technical': 'Livre et papeterie'},\n",
       " 10: {'Toys': 'Gadget',\n",
       "  ' Small_Appliances': 'Gadget',\n",
       "  ' Small_Appliances_Home_Oven_and_Coffee': 'Gadget',\n",
       "  ' Cool_Stuff': 'Gadget'},\n",
       " 11: {'Fashion_Bags_Accessories': 'Fashion',\n",
       "  ' Fashion_Shoes': 'Fashion',\n",
       "  ' Fashion_Underwear_Beach': 'Fashion',\n",
       "  ' Fashion_Sport': 'Fashion',\n",
       "  ' Fashion_Childrens_Clothes': 'Fashion',\n",
       "  ' Fashion_Male_Clothing': 'Fashion',\n",
       "  ' Fashion_Female_Clothing': 'Fashion'},\n",
       " 12: {'Garden_Tools': 'Quincalerie',\n",
       "  ' Construction_Tools_Construction': 'Quincalerie',\n",
       "  ' Construction_Tools_Garden': 'Quincalerie',\n",
       "  ' Construction_Tools_Tools': 'Quincalerie',\n",
       "  ' Construction_Tools_Lights': 'Quincalerie',\n",
       "  ' Construction_Tools_Safety': 'Quincalerie',\n",
       "  ' Flowers': 'Quincalerie'},\n",
       " 13: {'Audio': 'Musique et instruments',\n",
       "  ' Music': 'Musique et instruments',\n",
       "  ' CDs_Dvds_Musicals': 'Musique et instruments',\n",
       "  ' DVDs_Blu_Ray ': 'Musique et instruments',\n",
       "  ' Cine_Photo': 'Musique et instruments',\n",
       "  'Musical_Instruments': 'Musique et instruments'},\n",
       " 14: {'Party_Supplies': 'Cadeaux',\n",
       "  ' Christmas_Supplies': 'Cadeaux',\n",
       "  'Watches_Gifts': 'Cadeaux'},\n",
       " 15: {'Agro_Industry_and_Commerce': 'Industrie et commerce',\n",
       "  ' Industry_Commerce_and_Business': 'Industrie et commerce'},\n",
       " 16: {'Pet_Shop': 'Animalerie'},\n",
       " 17: {'Art': 'Art et manufacture',\n",
       "  ' Arts_and_Craftmanship': 'Art et manufacture'}}"
      ]
     },
     "execution_count": 425,
     "metadata": {},
     "output_type": "execute_result"
    }
   ],
   "source": [
    "dfNewCategorie.apply(lambda row:dict(zip(row['original'], [row['new_categorie']]*len(row['original']) )), axis=1).to_dict()\n",
    "\n"
   ]
  },
  {
   "cell_type": "code",
   "execution_count": 426,
   "metadata": {},
   "outputs": [
    {
     "data": {
      "text/plain": [
       "{'Computers_Accessories': 'Informatique et electronique',\n",
       " ' Tablets_Printing_Image': 'Informatique et electronique',\n",
       " ' Computers': 'Informatique et electronique',\n",
       " 'Consoles_Games': 'Informatique et electronique',\n",
       " 'Electronics': 'Informatique et electronique',\n",
       " 'Auto': 'Automobile',\n",
       " ' Air_Conditioning': 'Automobile',\n",
       " 'Bed_Bath_Table': 'Housing',\n",
       " ' Housewares': 'Housing',\n",
       " ' Kitchen_Dining_Laundry_Garden_Furniture': 'Housing',\n",
       " '  Home_Confort': 'Housing',\n",
       " ' Home_Comfort_2': 'Housing',\n",
       " 'Home_Appliances': 'Housing',\n",
       " ' Home_Appliances_2': 'Housing',\n",
       " 'Furniture_Decor': 'Furniture',\n",
       " ' Furniture_Mattress_and_Upholstery': 'Furniture',\n",
       " ' Furniture_Living_Room': 'Furniture',\n",
       " ' Furniture_Bedroom': 'Furniture',\n",
       " 'Office_Furniture': 'Furniture',\n",
       " 'Sports_Leisure': 'Sport',\n",
       " ' Luggage_Accessories': 'Sport',\n",
       " 'Perfumery': 'Parfum et soin',\n",
       " '  Health_Beauty': 'Parfum et soin',\n",
       " 'Telephony': 'Telephonie et sécurite',\n",
       " ' Fixed_Telephony': 'Telephonie et sécurite',\n",
       " ' Signaling_and_Security': 'Telephonie et sécurite',\n",
       " 'Security_and_Services': 'Telephonie et sécurite',\n",
       " 'Food_Drink': 'Nourriture et cuisine',\n",
       " ' Food': 'Nourriture et cuisine',\n",
       " ' Drinks': 'Nourriture et cuisine',\n",
       " 'Market_Place': 'Nourriture et cuisine',\n",
       " 'La_Cuisine': 'Nourriture et cuisine',\n",
       " 'Baby': 'Utilitaire pour bebe',\n",
       " ' Diapers_and_Hygiene': 'Utilitaire pour bebe',\n",
       " 'Stationery': 'Livre et papeterie',\n",
       " ' Books_General_Interest': 'Livre et papeterie',\n",
       " ' Books_Imported': 'Livre et papeterie',\n",
       " ' Books_Technical': 'Livre et papeterie',\n",
       " 'Toys': 'Gadget',\n",
       " ' Small_Appliances': 'Gadget',\n",
       " ' Small_Appliances_Home_Oven_and_Coffee': 'Gadget',\n",
       " ' Cool_Stuff': 'Gadget',\n",
       " 'Fashion_Bags_Accessories': 'Fashion',\n",
       " ' Fashion_Shoes': 'Fashion',\n",
       " ' Fashion_Underwear_Beach': 'Fashion',\n",
       " ' Fashion_Sport': 'Fashion',\n",
       " ' Fashion_Childrens_Clothes': 'Fashion',\n",
       " ' Fashion_Male_Clothing': 'Fashion',\n",
       " ' Fashion_Female_Clothing': 'Fashion',\n",
       " 'Garden_Tools': 'Quincalerie',\n",
       " ' Construction_Tools_Construction': 'Quincalerie',\n",
       " ' Construction_Tools_Garden': 'Quincalerie',\n",
       " ' Construction_Tools_Tools': 'Quincalerie',\n",
       " ' Construction_Tools_Lights': 'Quincalerie',\n",
       " ' Construction_Tools_Safety': 'Quincalerie',\n",
       " ' Flowers': 'Quincalerie',\n",
       " 'Audio': 'Musique et instruments',\n",
       " ' Music': 'Musique et instruments',\n",
       " ' CDs_Dvds_Musicals': 'Musique et instruments',\n",
       " ' DVDs_Blu_Ray ': 'Musique et instruments',\n",
       " ' Cine_Photo': 'Musique et instruments',\n",
       " 'Musical_Instruments': 'Musique et instruments',\n",
       " 'Party_Supplies': 'Cadeaux',\n",
       " ' Christmas_Supplies': 'Cadeaux',\n",
       " 'Watches_Gifts': 'Cadeaux',\n",
       " 'Agro_Industry_and_Commerce': 'Industrie et commerce',\n",
       " ' Industry_Commerce_and_Business': 'Industrie et commerce',\n",
       " 'Pet_Shop': 'Animalerie',\n",
       " 'Art': 'Art et manufacture',\n",
       " ' Arts_and_Craftmanship': 'Art et manufacture'}"
      ]
     },
     "execution_count": 426,
     "metadata": {},
     "output_type": "execute_result"
    }
   ],
   "source": [
    "d = {}\n",
    "for k, v in dfNewCategorie.apply(lambda row: dict(zip(row['original'], [row['new_categorie']]*len(row['original']))), axis=1).to_dict().items(): \n",
    "    d.update(v) \n",
    "\n",
    "\n",
    "d"
   ]
  },
  {
   "cell_type": "code",
   "execution_count": 427,
   "metadata": {},
   "outputs": [],
   "source": [
    "dic ={}\n",
    "for key in d:\n",
    "    new_key= key.lstrip()\n",
    "    dic[new_key] = d[key]\n"
   ]
  },
  {
   "cell_type": "code",
   "execution_count": 428,
   "metadata": {},
   "outputs": [
    {
     "data": {
      "text/plain": [
       "{'Computers_Accessories': 'Informatique et electronique',\n",
       " 'Tablets_Printing_Image': 'Informatique et electronique',\n",
       " 'Computers': 'Informatique et electronique',\n",
       " 'Consoles_Games': 'Informatique et electronique',\n",
       " 'Electronics': 'Informatique et electronique',\n",
       " 'Auto': 'Automobile',\n",
       " 'Air_Conditioning': 'Automobile',\n",
       " 'Bed_Bath_Table': 'Housing',\n",
       " 'Housewares': 'Housing',\n",
       " 'Kitchen_Dining_Laundry_Garden_Furniture': 'Housing',\n",
       " 'Home_Confort': 'Housing',\n",
       " 'Home_Comfort_2': 'Housing',\n",
       " 'Home_Appliances': 'Housing',\n",
       " 'Home_Appliances_2': 'Housing',\n",
       " 'Furniture_Decor': 'Furniture',\n",
       " 'Furniture_Mattress_and_Upholstery': 'Furniture',\n",
       " 'Furniture_Living_Room': 'Furniture',\n",
       " 'Furniture_Bedroom': 'Furniture',\n",
       " 'Office_Furniture': 'Furniture',\n",
       " 'Sports_Leisure': 'Sport',\n",
       " 'Luggage_Accessories': 'Sport',\n",
       " 'Perfumery': 'Parfum et soin',\n",
       " 'Health_Beauty': 'Parfum et soin',\n",
       " 'Telephony': 'Telephonie et sécurite',\n",
       " 'Fixed_Telephony': 'Telephonie et sécurite',\n",
       " 'Signaling_and_Security': 'Telephonie et sécurite',\n",
       " 'Security_and_Services': 'Telephonie et sécurite',\n",
       " 'Food_Drink': 'Nourriture et cuisine',\n",
       " 'Food': 'Nourriture et cuisine',\n",
       " 'Drinks': 'Nourriture et cuisine',\n",
       " 'Market_Place': 'Nourriture et cuisine',\n",
       " 'La_Cuisine': 'Nourriture et cuisine',\n",
       " 'Baby': 'Utilitaire pour bebe',\n",
       " 'Diapers_and_Hygiene': 'Utilitaire pour bebe',\n",
       " 'Stationery': 'Livre et papeterie',\n",
       " 'Books_General_Interest': 'Livre et papeterie',\n",
       " 'Books_Imported': 'Livre et papeterie',\n",
       " 'Books_Technical': 'Livre et papeterie',\n",
       " 'Toys': 'Gadget',\n",
       " 'Small_Appliances': 'Gadget',\n",
       " 'Small_Appliances_Home_Oven_and_Coffee': 'Gadget',\n",
       " 'Cool_Stuff': 'Gadget',\n",
       " 'Fashion_Bags_Accessories': 'Fashion',\n",
       " 'Fashion_Shoes': 'Fashion',\n",
       " 'Fashion_Underwear_Beach': 'Fashion',\n",
       " 'Fashion_Sport': 'Fashion',\n",
       " 'Fashion_Childrens_Clothes': 'Fashion',\n",
       " 'Fashion_Male_Clothing': 'Fashion',\n",
       " 'Fashion_Female_Clothing': 'Fashion',\n",
       " 'Garden_Tools': 'Quincalerie',\n",
       " 'Construction_Tools_Construction': 'Quincalerie',\n",
       " 'Construction_Tools_Garden': 'Quincalerie',\n",
       " 'Construction_Tools_Tools': 'Quincalerie',\n",
       " 'Construction_Tools_Lights': 'Quincalerie',\n",
       " 'Construction_Tools_Safety': 'Quincalerie',\n",
       " 'Flowers': 'Quincalerie',\n",
       " 'Audio': 'Musique et instruments',\n",
       " 'Music': 'Musique et instruments',\n",
       " 'CDs_Dvds_Musicals': 'Musique et instruments',\n",
       " 'DVDs_Blu_Ray ': 'Musique et instruments',\n",
       " 'Cine_Photo': 'Musique et instruments',\n",
       " 'Musical_Instruments': 'Musique et instruments',\n",
       " 'Party_Supplies': 'Cadeaux',\n",
       " 'Christmas_Supplies': 'Cadeaux',\n",
       " 'Watches_Gifts': 'Cadeaux',\n",
       " 'Agro_Industry_and_Commerce': 'Industrie et commerce',\n",
       " 'Industry_Commerce_and_Business': 'Industrie et commerce',\n",
       " 'Pet_Shop': 'Animalerie',\n",
       " 'Art': 'Art et manufacture',\n",
       " 'Arts_and_Craftmanship': 'Art et manufacture'}"
      ]
     },
     "execution_count": 428,
     "metadata": {},
     "output_type": "execute_result"
    }
   ],
   "source": [
    "dic"
   ]
  },
  {
   "cell_type": "code",
   "execution_count": 429,
   "metadata": {},
   "outputs": [],
   "source": [
    "dfProduct = pd.read_csv(\"../../archive/olist_products_dataset.csv\")"
   ]
  },
  {
   "cell_type": "code",
   "execution_count": 430,
   "metadata": {},
   "outputs": [],
   "source": [
    "df_category = pd.read_csv('../../archive/product_category_name_translation.csv')"
   ]
  },
  {
   "cell_type": "code",
   "execution_count": 431,
   "metadata": {},
   "outputs": [],
   "source": [
    "df_products_clean = dfProduct.iloc[:, :2] "
   ]
  },
  {
   "cell_type": "code",
   "execution_count": null,
   "metadata": {},
   "outputs": [],
   "source": []
  },
  {
   "cell_type": "code",
   "execution_count": 432,
   "metadata": {},
   "outputs": [],
   "source": [
    "# On crée un dictionnaire pour associer les noms originaux à leur traduction\n",
    "dict_traduction = df_category.set_index('product_category_name')['product_category_name_english'].to_dict()\n",
    "\n",
    "# On applique le dictionnaire pour traduire la colonne \"product_category_name\"\n",
    "df_products_clean['product_category_name'] = df_products_clean['product_category_name'].map(dict_traduction)"
   ]
  },
  {
   "cell_type": "code",
   "execution_count": 433,
   "metadata": {},
   "outputs": [
    {
     "data": {
      "text/html": [
       "<div>\n",
       "<style scoped>\n",
       "    .dataframe tbody tr th:only-of-type {\n",
       "        vertical-align: middle;\n",
       "    }\n",
       "\n",
       "    .dataframe tbody tr th {\n",
       "        vertical-align: top;\n",
       "    }\n",
       "\n",
       "    .dataframe thead th {\n",
       "        text-align: right;\n",
       "    }\n",
       "</style>\n",
       "<table border=\"1\" class=\"dataframe\">\n",
       "  <thead>\n",
       "    <tr style=\"text-align: right;\">\n",
       "      <th></th>\n",
       "      <th>product_id</th>\n",
       "      <th>product_category_name</th>\n",
       "    </tr>\n",
       "  </thead>\n",
       "  <tbody>\n",
       "    <tr>\n",
       "      <th>0</th>\n",
       "      <td>1e9e8ef04dbcff4541ed26657ea517e5</td>\n",
       "      <td>perfumery</td>\n",
       "    </tr>\n",
       "    <tr>\n",
       "      <th>1</th>\n",
       "      <td>3aa071139cb16b67ca9e5dea641aaa2f</td>\n",
       "      <td>art</td>\n",
       "    </tr>\n",
       "    <tr>\n",
       "      <th>2</th>\n",
       "      <td>96bd76ec8810374ed1b65e291975717f</td>\n",
       "      <td>sports_leisure</td>\n",
       "    </tr>\n",
       "    <tr>\n",
       "      <th>3</th>\n",
       "      <td>cef67bcfe19066a932b7673e239eb23d</td>\n",
       "      <td>baby</td>\n",
       "    </tr>\n",
       "    <tr>\n",
       "      <th>4</th>\n",
       "      <td>9dc1a7de274444849c219cff195d0b71</td>\n",
       "      <td>housewares</td>\n",
       "    </tr>\n",
       "    <tr>\n",
       "      <th>...</th>\n",
       "      <td>...</td>\n",
       "      <td>...</td>\n",
       "    </tr>\n",
       "    <tr>\n",
       "      <th>32946</th>\n",
       "      <td>a0b7d5a992ccda646f2d34e418fff5a0</td>\n",
       "      <td>furniture_decor</td>\n",
       "    </tr>\n",
       "    <tr>\n",
       "      <th>32947</th>\n",
       "      <td>bf4538d88321d0fd4412a93c974510e6</td>\n",
       "      <td>construction_tools_lights</td>\n",
       "    </tr>\n",
       "    <tr>\n",
       "      <th>32948</th>\n",
       "      <td>9a7c6041fa9592d9d9ef6cfe62a71f8c</td>\n",
       "      <td>bed_bath_table</td>\n",
       "    </tr>\n",
       "    <tr>\n",
       "      <th>32949</th>\n",
       "      <td>83808703fc0706a22e264b9d75f04a2e</td>\n",
       "      <td>computers_accessories</td>\n",
       "    </tr>\n",
       "    <tr>\n",
       "      <th>32950</th>\n",
       "      <td>106392145fca363410d287a815be6de4</td>\n",
       "      <td>bed_bath_table</td>\n",
       "    </tr>\n",
       "  </tbody>\n",
       "</table>\n",
       "<p>32951 rows × 2 columns</p>\n",
       "</div>"
      ],
      "text/plain": [
       "                             product_id      product_category_name\n",
       "0      1e9e8ef04dbcff4541ed26657ea517e5                  perfumery\n",
       "1      3aa071139cb16b67ca9e5dea641aaa2f                        art\n",
       "2      96bd76ec8810374ed1b65e291975717f             sports_leisure\n",
       "3      cef67bcfe19066a932b7673e239eb23d                       baby\n",
       "4      9dc1a7de274444849c219cff195d0b71                 housewares\n",
       "...                                 ...                        ...\n",
       "32946  a0b7d5a992ccda646f2d34e418fff5a0            furniture_decor\n",
       "32947  bf4538d88321d0fd4412a93c974510e6  construction_tools_lights\n",
       "32948  9a7c6041fa9592d9d9ef6cfe62a71f8c             bed_bath_table\n",
       "32949  83808703fc0706a22e264b9d75f04a2e      computers_accessories\n",
       "32950  106392145fca363410d287a815be6de4             bed_bath_table\n",
       "\n",
       "[32951 rows x 2 columns]"
      ]
     },
     "execution_count": 433,
     "metadata": {},
     "output_type": "execute_result"
    }
   ],
   "source": [
    "df_products_clean"
   ]
  },
  {
   "cell_type": "code",
   "execution_count": null,
   "metadata": {},
   "outputs": [],
   "source": []
  },
  {
   "cell_type": "code",
   "execution_count": 434,
   "metadata": {},
   "outputs": [],
   "source": [
    "df_products_clean['product_category_name'] = df_products_clean['product_category_name'].astype(str).apply(lambda x: x.title())"
   ]
  },
  {
   "cell_type": "code",
   "execution_count": 435,
   "metadata": {},
   "outputs": [
    {
     "data": {
      "text/plain": [
       "product_id               0\n",
       "product_category_name    0\n",
       "dtype: int64"
      ]
     },
     "execution_count": 435,
     "metadata": {},
     "output_type": "execute_result"
    }
   ],
   "source": [
    "df_products_clean.isnull().sum()"
   ]
  },
  {
   "cell_type": "code",
   "execution_count": null,
   "metadata": {},
   "outputs": [],
   "source": []
  },
  {
   "cell_type": "code",
   "execution_count": 436,
   "metadata": {},
   "outputs": [
    {
     "data": {
      "text/html": [
       "<div>\n",
       "<style scoped>\n",
       "    .dataframe tbody tr th:only-of-type {\n",
       "        vertical-align: middle;\n",
       "    }\n",
       "\n",
       "    .dataframe tbody tr th {\n",
       "        vertical-align: top;\n",
       "    }\n",
       "\n",
       "    .dataframe thead th {\n",
       "        text-align: right;\n",
       "    }\n",
       "</style>\n",
       "<table border=\"1\" class=\"dataframe\">\n",
       "  <thead>\n",
       "    <tr style=\"text-align: right;\">\n",
       "      <th></th>\n",
       "      <th>product_id</th>\n",
       "      <th>product_category_name</th>\n",
       "    </tr>\n",
       "  </thead>\n",
       "  <tbody>\n",
       "    <tr>\n",
       "      <th>0</th>\n",
       "      <td>1e9e8ef04dbcff4541ed26657ea517e5</td>\n",
       "      <td>Parfum et soin</td>\n",
       "    </tr>\n",
       "    <tr>\n",
       "      <th>1</th>\n",
       "      <td>3aa071139cb16b67ca9e5dea641aaa2f</td>\n",
       "      <td>Art et manufacture</td>\n",
       "    </tr>\n",
       "    <tr>\n",
       "      <th>2</th>\n",
       "      <td>96bd76ec8810374ed1b65e291975717f</td>\n",
       "      <td>Sport</td>\n",
       "    </tr>\n",
       "    <tr>\n",
       "      <th>3</th>\n",
       "      <td>cef67bcfe19066a932b7673e239eb23d</td>\n",
       "      <td>Utilitaire pour bebe</td>\n",
       "    </tr>\n",
       "    <tr>\n",
       "      <th>4</th>\n",
       "      <td>9dc1a7de274444849c219cff195d0b71</td>\n",
       "      <td>Housing</td>\n",
       "    </tr>\n",
       "    <tr>\n",
       "      <th>...</th>\n",
       "      <td>...</td>\n",
       "      <td>...</td>\n",
       "    </tr>\n",
       "    <tr>\n",
       "      <th>32946</th>\n",
       "      <td>a0b7d5a992ccda646f2d34e418fff5a0</td>\n",
       "      <td>Furniture</td>\n",
       "    </tr>\n",
       "    <tr>\n",
       "      <th>32947</th>\n",
       "      <td>bf4538d88321d0fd4412a93c974510e6</td>\n",
       "      <td>Quincalerie</td>\n",
       "    </tr>\n",
       "    <tr>\n",
       "      <th>32948</th>\n",
       "      <td>9a7c6041fa9592d9d9ef6cfe62a71f8c</td>\n",
       "      <td>Housing</td>\n",
       "    </tr>\n",
       "    <tr>\n",
       "      <th>32949</th>\n",
       "      <td>83808703fc0706a22e264b9d75f04a2e</td>\n",
       "      <td>Informatique et electronique</td>\n",
       "    </tr>\n",
       "    <tr>\n",
       "      <th>32950</th>\n",
       "      <td>106392145fca363410d287a815be6de4</td>\n",
       "      <td>Housing</td>\n",
       "    </tr>\n",
       "  </tbody>\n",
       "</table>\n",
       "<p>32951 rows × 2 columns</p>\n",
       "</div>"
      ],
      "text/plain": [
       "                             product_id         product_category_name\n",
       "0      1e9e8ef04dbcff4541ed26657ea517e5                Parfum et soin\n",
       "1      3aa071139cb16b67ca9e5dea641aaa2f            Art et manufacture\n",
       "2      96bd76ec8810374ed1b65e291975717f                         Sport\n",
       "3      cef67bcfe19066a932b7673e239eb23d          Utilitaire pour bebe\n",
       "4      9dc1a7de274444849c219cff195d0b71                       Housing\n",
       "...                                 ...                           ...\n",
       "32946  a0b7d5a992ccda646f2d34e418fff5a0                     Furniture\n",
       "32947  bf4538d88321d0fd4412a93c974510e6                   Quincalerie\n",
       "32948  9a7c6041fa9592d9d9ef6cfe62a71f8c                       Housing\n",
       "32949  83808703fc0706a22e264b9d75f04a2e  Informatique et electronique\n",
       "32950  106392145fca363410d287a815be6de4                       Housing\n",
       "\n",
       "[32951 rows x 2 columns]"
      ]
     },
     "execution_count": 436,
     "metadata": {},
     "output_type": "execute_result"
    }
   ],
   "source": [
    "df_products_clean['product_category_name'] = df_products_clean['product_category_name'].map(dic)\n",
    "df_products_clean"
   ]
  },
  {
   "cell_type": "code",
   "execution_count": 437,
   "metadata": {},
   "outputs": [],
   "source": [
    "dfOrderItemsMerge = pd.merge(dfOrderItemsMerge, df_products_clean, on='product_id', how='left')"
   ]
  },
  {
   "cell_type": "code",
   "execution_count": 438,
   "metadata": {},
   "outputs": [
    {
     "data": {
      "text/html": [
       "<div>\n",
       "<style scoped>\n",
       "    .dataframe tbody tr th:only-of-type {\n",
       "        vertical-align: middle;\n",
       "    }\n",
       "\n",
       "    .dataframe tbody tr th {\n",
       "        vertical-align: top;\n",
       "    }\n",
       "\n",
       "    .dataframe thead th {\n",
       "        text-align: right;\n",
       "    }\n",
       "</style>\n",
       "<table border=\"1\" class=\"dataframe\">\n",
       "  <thead>\n",
       "    <tr style=\"text-align: right;\">\n",
       "      <th></th>\n",
       "      <th>order_id</th>\n",
       "      <th>order_item_id</th>\n",
       "      <th>product_id</th>\n",
       "      <th>seller_id</th>\n",
       "      <th>shipping_limit_date</th>\n",
       "      <th>price</th>\n",
       "      <th>freight_value</th>\n",
       "      <th>totalPrice</th>\n",
       "      <th>review_score</th>\n",
       "      <th>customer_id</th>\n",
       "      <th>payment_type</th>\n",
       "      <th>customer_zip_code_prefix</th>\n",
       "      <th>customer_city</th>\n",
       "      <th>customer_state</th>\n",
       "      <th>seller_zip_code_prefix</th>\n",
       "      <th>seller_city</th>\n",
       "      <th>seller_state</th>\n",
       "      <th>product_category_name</th>\n",
       "    </tr>\n",
       "  </thead>\n",
       "  <tbody>\n",
       "    <tr>\n",
       "      <th>0</th>\n",
       "      <td>00010242fe8c5a6d1ba2dd792cb16214</td>\n",
       "      <td>1</td>\n",
       "      <td>4244733e06e7ecb4970a6e2683c13e61</td>\n",
       "      <td>48436dade18ac8b2bce089ec2a041202</td>\n",
       "      <td>2017-09-19 09:45:35</td>\n",
       "      <td>58.90</td>\n",
       "      <td>13.29</td>\n",
       "      <td>72.19</td>\n",
       "      <td>5.0</td>\n",
       "      <td>3ce436f183e68e07877b285a838db11a</td>\n",
       "      <td>credit_card</td>\n",
       "      <td>28013</td>\n",
       "      <td>campos dos goytacazes</td>\n",
       "      <td>RJ</td>\n",
       "      <td>27277</td>\n",
       "      <td>volta redonda</td>\n",
       "      <td>SP</td>\n",
       "      <td>Gadget</td>\n",
       "    </tr>\n",
       "    <tr>\n",
       "      <th>1</th>\n",
       "      <td>00018f77f2f0320c557190d7a144bdd3</td>\n",
       "      <td>1</td>\n",
       "      <td>e5f2d52b802189ee658865ca93d83a8f</td>\n",
       "      <td>dd7ddc04e1b6c2c614352b383efe2d36</td>\n",
       "      <td>2017-05-03 11:05:13</td>\n",
       "      <td>239.90</td>\n",
       "      <td>19.93</td>\n",
       "      <td>259.83</td>\n",
       "      <td>4.0</td>\n",
       "      <td>f6dd3ec061db4e3987629fe6b26e5cce</td>\n",
       "      <td>credit_card</td>\n",
       "      <td>15775</td>\n",
       "      <td>santa fe do sul</td>\n",
       "      <td>SP</td>\n",
       "      <td>3471</td>\n",
       "      <td>sao paulo</td>\n",
       "      <td>SP</td>\n",
       "      <td>Animalerie</td>\n",
       "    </tr>\n",
       "    <tr>\n",
       "      <th>2</th>\n",
       "      <td>000229ec398224ef6ca0657da4fc703e</td>\n",
       "      <td>1</td>\n",
       "      <td>c777355d18b72b67abbeef9df44fd0fd</td>\n",
       "      <td>5b51032eddd242adc84c38acab88f23d</td>\n",
       "      <td>2018-01-18 14:48:30</td>\n",
       "      <td>199.00</td>\n",
       "      <td>17.87</td>\n",
       "      <td>216.87</td>\n",
       "      <td>5.0</td>\n",
       "      <td>6489ae5e4333f3693df5ad4372dab6d3</td>\n",
       "      <td>credit_card</td>\n",
       "      <td>35661</td>\n",
       "      <td>para de minas</td>\n",
       "      <td>MG</td>\n",
       "      <td>37564</td>\n",
       "      <td>borda da mata</td>\n",
       "      <td>MG</td>\n",
       "      <td>Furniture</td>\n",
       "    </tr>\n",
       "    <tr>\n",
       "      <th>3</th>\n",
       "      <td>00024acbcdf0a6daa1e931b038114c75</td>\n",
       "      <td>1</td>\n",
       "      <td>7634da152a4610f1595efa32f14722fc</td>\n",
       "      <td>9d7a1d34a5052409006425275ba1c2b4</td>\n",
       "      <td>2018-08-15 10:10:18</td>\n",
       "      <td>12.99</td>\n",
       "      <td>12.79</td>\n",
       "      <td>25.78</td>\n",
       "      <td>4.0</td>\n",
       "      <td>d4eb9395c8c0431ee92fce09860c5a06</td>\n",
       "      <td>credit_card</td>\n",
       "      <td>12952</td>\n",
       "      <td>atibaia</td>\n",
       "      <td>SP</td>\n",
       "      <td>14403</td>\n",
       "      <td>franca</td>\n",
       "      <td>SP</td>\n",
       "      <td>Parfum et soin</td>\n",
       "    </tr>\n",
       "    <tr>\n",
       "      <th>4</th>\n",
       "      <td>00042b26cf59d7ce69dfabb4e55b4fd9</td>\n",
       "      <td>1</td>\n",
       "      <td>ac6c3623068f30de03045865e4e10089</td>\n",
       "      <td>df560393f3a51e74553ab94004ba5c87</td>\n",
       "      <td>2017-02-13 13:57:51</td>\n",
       "      <td>199.90</td>\n",
       "      <td>18.14</td>\n",
       "      <td>218.04</td>\n",
       "      <td>5.0</td>\n",
       "      <td>58dbd0b2d70206bf40e62cd34e84d795</td>\n",
       "      <td>credit_card</td>\n",
       "      <td>13226</td>\n",
       "      <td>varzea paulista</td>\n",
       "      <td>SP</td>\n",
       "      <td>87900</td>\n",
       "      <td>loanda</td>\n",
       "      <td>PR</td>\n",
       "      <td>Quincalerie</td>\n",
       "    </tr>\n",
       "  </tbody>\n",
       "</table>\n",
       "</div>"
      ],
      "text/plain": [
       "                           order_id  order_item_id  \\\n",
       "0  00010242fe8c5a6d1ba2dd792cb16214              1   \n",
       "1  00018f77f2f0320c557190d7a144bdd3              1   \n",
       "2  000229ec398224ef6ca0657da4fc703e              1   \n",
       "3  00024acbcdf0a6daa1e931b038114c75              1   \n",
       "4  00042b26cf59d7ce69dfabb4e55b4fd9              1   \n",
       "\n",
       "                         product_id                         seller_id  \\\n",
       "0  4244733e06e7ecb4970a6e2683c13e61  48436dade18ac8b2bce089ec2a041202   \n",
       "1  e5f2d52b802189ee658865ca93d83a8f  dd7ddc04e1b6c2c614352b383efe2d36   \n",
       "2  c777355d18b72b67abbeef9df44fd0fd  5b51032eddd242adc84c38acab88f23d   \n",
       "3  7634da152a4610f1595efa32f14722fc  9d7a1d34a5052409006425275ba1c2b4   \n",
       "4  ac6c3623068f30de03045865e4e10089  df560393f3a51e74553ab94004ba5c87   \n",
       "\n",
       "   shipping_limit_date   price  freight_value  totalPrice  review_score  \\\n",
       "0  2017-09-19 09:45:35   58.90          13.29       72.19           5.0   \n",
       "1  2017-05-03 11:05:13  239.90          19.93      259.83           4.0   \n",
       "2  2018-01-18 14:48:30  199.00          17.87      216.87           5.0   \n",
       "3  2018-08-15 10:10:18   12.99          12.79       25.78           4.0   \n",
       "4  2017-02-13 13:57:51  199.90          18.14      218.04           5.0   \n",
       "\n",
       "                        customer_id payment_type  customer_zip_code_prefix  \\\n",
       "0  3ce436f183e68e07877b285a838db11a  credit_card                     28013   \n",
       "1  f6dd3ec061db4e3987629fe6b26e5cce  credit_card                     15775   \n",
       "2  6489ae5e4333f3693df5ad4372dab6d3  credit_card                     35661   \n",
       "3  d4eb9395c8c0431ee92fce09860c5a06  credit_card                     12952   \n",
       "4  58dbd0b2d70206bf40e62cd34e84d795  credit_card                     13226   \n",
       "\n",
       "           customer_city customer_state  seller_zip_code_prefix  \\\n",
       "0  campos dos goytacazes             RJ                   27277   \n",
       "1        santa fe do sul             SP                    3471   \n",
       "2          para de minas             MG                   37564   \n",
       "3                atibaia             SP                   14403   \n",
       "4        varzea paulista             SP                   87900   \n",
       "\n",
       "     seller_city seller_state product_category_name  \n",
       "0  volta redonda           SP                Gadget  \n",
       "1      sao paulo           SP            Animalerie  \n",
       "2  borda da mata           MG             Furniture  \n",
       "3         franca           SP        Parfum et soin  \n",
       "4         loanda           PR           Quincalerie  "
      ]
     },
     "execution_count": 438,
     "metadata": {},
     "output_type": "execute_result"
    }
   ],
   "source": [
    "dfOrderItemsMerge.head()"
   ]
  },
  {
   "cell_type": "code",
   "execution_count": 439,
   "metadata": {},
   "outputs": [
    {
     "data": {
      "text/plain": [
       "order_id                       0\n",
       "order_item_id                  0\n",
       "product_id                     0\n",
       "seller_id                      0\n",
       "shipping_limit_date            0\n",
       "price                          0\n",
       "freight_value                  0\n",
       "totalPrice                     0\n",
       "review_score                   0\n",
       "customer_id                    0\n",
       "payment_type                   0\n",
       "customer_zip_code_prefix       0\n",
       "customer_city                  0\n",
       "customer_state                 0\n",
       "seller_zip_code_prefix         0\n",
       "seller_city                    0\n",
       "seller_state                   0\n",
       "product_category_name       3202\n",
       "dtype: int64"
      ]
     },
     "execution_count": 439,
     "metadata": {},
     "output_type": "execute_result"
    }
   ],
   "source": [
    "dfOrderItemsMerge.isnull().sum()"
   ]
  },
  {
   "cell_type": "code",
   "execution_count": 440,
   "metadata": {},
   "outputs": [],
   "source": [
    "dfOrderItemsMerge = dfOrderItemsMerge.dropna()"
   ]
  },
  {
   "cell_type": "code",
   "execution_count": 444,
   "metadata": {},
   "outputs": [],
   "source": [
    "dfOrderItemsMerge.to_csv(\"dfClean.csv\",index=False)"
   ]
  }
 ],
 "metadata": {
  "kernelspec": {
   "display_name": "dataEnv",
   "language": "python",
   "name": "python3"
  },
  "language_info": {
   "codemirror_mode": {
    "name": "ipython",
    "version": 3
   },
   "file_extension": ".py",
   "mimetype": "text/x-python",
   "name": "python",
   "nbconvert_exporter": "python",
   "pygments_lexer": "ipython3",
   "version": "3.9.15"
  },
  "orig_nbformat": 4,
  "vscode": {
   "interpreter": {
    "hash": "f552feafe80aeb192c172ea3172753bba3f331bcb0b31c838cf2cbfc93f47857"
   }
  }
 },
 "nbformat": 4,
 "nbformat_minor": 2
}
