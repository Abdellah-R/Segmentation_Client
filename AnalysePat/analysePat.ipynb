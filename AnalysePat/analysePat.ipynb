{
 "cells": [
  {
   "cell_type": "code",
   "execution_count": 89,
   "metadata": {},
   "outputs": [],
   "source": [
    "import pandas as pd"
   ]
  },
  {
   "attachments": {},
   "cell_type": "markdown",
   "metadata": {},
   "source": [
    "Fonction"
   ]
  },
  {
   "attachments": {},
   "cell_type": "markdown",
   "metadata": {},
   "source": [
    "Liste des csv :\n",
    "OrderPayments,OrdersItems,OrderData,OrderReviews"
   ]
  },
  {
   "cell_type": "code",
   "execution_count": 90,
   "metadata": {},
   "outputs": [],
   "source": [
    "dfOrderPayements= pd.read_csv(\"../../archive/olist_order_payments_dataset.csv\")"
   ]
  },
  {
   "cell_type": "code",
   "execution_count": 91,
   "metadata": {},
   "outputs": [],
   "source": [
    "dfOrderItems = pd.read_csv(\"../../archive/olist_order_items_dataset.csv\")"
   ]
  },
  {
   "cell_type": "code",
   "execution_count": 92,
   "metadata": {},
   "outputs": [],
   "source": [
    "dfOrderData = pd.read_csv(\"../../archive/olist_orders_dataset.csv\")"
   ]
  },
  {
   "cell_type": "code",
   "execution_count": 93,
   "metadata": {},
   "outputs": [],
   "source": [
    "dfOrderReviews = pd.read_csv(\"../../archive/olist_order_reviews_dataset.csv\")"
   ]
  },
  {
   "attachments": {},
   "cell_type": "markdown",
   "metadata": {},
   "source": [
    "Nettoyage OrderPayements"
   ]
  },
  {
   "cell_type": "code",
   "execution_count": 94,
   "metadata": {},
   "outputs": [
    {
     "data": {
      "text/plain": [
       "order_id                0\n",
       "payment_sequential      0\n",
       "payment_type            0\n",
       "payment_installments    0\n",
       "payment_value           0\n",
       "dtype: int64"
      ]
     },
     "execution_count": 94,
     "metadata": {},
     "output_type": "execute_result"
    }
   ],
   "source": [
    "dfOrderPayements.isnull().sum()"
   ]
  },
  {
   "cell_type": "code",
   "execution_count": 95,
   "metadata": {},
   "outputs": [
    {
     "data": {
      "text/plain": [
       "103886"
      ]
     },
     "execution_count": 95,
     "metadata": {},
     "output_type": "execute_result"
    }
   ],
   "source": [
    "len(dfOrderPayements)"
   ]
  },
  {
   "cell_type": "code",
   "execution_count": 96,
   "metadata": {},
   "outputs": [],
   "source": [
    "dfOrderPayementsClean =  dfOrderPayements.drop_duplicates()"
   ]
  },
  {
   "cell_type": "code",
   "execution_count": 97,
   "metadata": {},
   "outputs": [],
   "source": [
    "dfOrderPayements.drop(\"payment_value\", axis=1, inplace=True)"
   ]
  },
  {
   "cell_type": "code",
   "execution_count": 98,
   "metadata": {},
   "outputs": [
    {
     "name": "stdout",
     "output_type": "stream",
     "text": [
      "<class 'pandas.core.frame.DataFrame'>\n",
      "RangeIndex: 103886 entries, 0 to 103885\n",
      "Data columns (total 4 columns):\n",
      " #   Column                Non-Null Count   Dtype \n",
      "---  ------                --------------   ----- \n",
      " 0   order_id              103886 non-null  object\n",
      " 1   payment_sequential    103886 non-null  int64 \n",
      " 2   payment_type          103886 non-null  object\n",
      " 3   payment_installments  103886 non-null  int64 \n",
      "dtypes: int64(2), object(2)\n",
      "memory usage: 3.2+ MB\n"
     ]
    }
   ],
   "source": [
    "dfOrderPayements.info()"
   ]
  },
  {
   "cell_type": "code",
   "execution_count": null,
   "metadata": {},
   "outputs": [],
   "source": []
  },
  {
   "attachments": {},
   "cell_type": "markdown",
   "metadata": {},
   "source": [
    "Nettoyage OrderItems"
   ]
  },
  {
   "cell_type": "code",
   "execution_count": 99,
   "metadata": {},
   "outputs": [
    {
     "data": {
      "text/plain": [
       "order_id               0\n",
       "order_item_id          0\n",
       "product_id             0\n",
       "seller_id              0\n",
       "shipping_limit_date    0\n",
       "price                  0\n",
       "freight_value          0\n",
       "dtype: int64"
      ]
     },
     "execution_count": 99,
     "metadata": {},
     "output_type": "execute_result"
    }
   ],
   "source": [
    "dfOrderItems.isnull().sum()"
   ]
  },
  {
   "cell_type": "code",
   "execution_count": 100,
   "metadata": {},
   "outputs": [
    {
     "name": "stdout",
     "output_type": "stream",
     "text": [
      "<class 'pandas.core.frame.DataFrame'>\n",
      "RangeIndex: 112650 entries, 0 to 112649\n",
      "Data columns (total 7 columns):\n",
      " #   Column               Non-Null Count   Dtype  \n",
      "---  ------               --------------   -----  \n",
      " 0   order_id             112650 non-null  object \n",
      " 1   order_item_id        112650 non-null  int64  \n",
      " 2   product_id           112650 non-null  object \n",
      " 3   seller_id            112650 non-null  object \n",
      " 4   shipping_limit_date  112650 non-null  object \n",
      " 5   price                112650 non-null  float64\n",
      " 6   freight_value        112650 non-null  float64\n",
      "dtypes: float64(2), int64(1), object(4)\n",
      "memory usage: 6.0+ MB\n"
     ]
    }
   ],
   "source": [
    "dfOrderItems.info()"
   ]
  },
  {
   "cell_type": "code",
   "execution_count": 101,
   "metadata": {},
   "outputs": [],
   "source": [
    "dfOrderItemsClean = dfOrderItems.drop_duplicates()"
   ]
  },
  {
   "cell_type": "code",
   "execution_count": 102,
   "metadata": {},
   "outputs": [
    {
     "data": {
      "text/plain": [
       "112650"
      ]
     },
     "execution_count": 102,
     "metadata": {},
     "output_type": "execute_result"
    }
   ],
   "source": [
    "len(dfOrderItemsClean)"
   ]
  },
  {
   "attachments": {},
   "cell_type": "markdown",
   "metadata": {},
   "source": [
    "NettoyageOrderData\n"
   ]
  },
  {
   "cell_type": "code",
   "execution_count": 103,
   "metadata": {},
   "outputs": [
    {
     "name": "stdout",
     "output_type": "stream",
     "text": [
      "<class 'pandas.core.frame.DataFrame'>\n",
      "RangeIndex: 99441 entries, 0 to 99440\n",
      "Data columns (total 8 columns):\n",
      " #   Column                         Non-Null Count  Dtype \n",
      "---  ------                         --------------  ----- \n",
      " 0   order_id                       99441 non-null  object\n",
      " 1   customer_id                    99441 non-null  object\n",
      " 2   order_status                   99441 non-null  object\n",
      " 3   order_purchase_timestamp       99441 non-null  object\n",
      " 4   order_approved_at              99281 non-null  object\n",
      " 5   order_delivered_carrier_date   97658 non-null  object\n",
      " 6   order_delivered_customer_date  96476 non-null  object\n",
      " 7   order_estimated_delivery_date  99441 non-null  object\n",
      "dtypes: object(8)\n",
      "memory usage: 6.1+ MB\n"
     ]
    }
   ],
   "source": [
    "dfOrderData.info()"
   ]
  },
  {
   "cell_type": "code",
   "execution_count": 104,
   "metadata": {},
   "outputs": [],
   "source": [
    "dfOrderDataClean = dfOrderData.drop_duplicates()"
   ]
  },
  {
   "cell_type": "code",
   "execution_count": 105,
   "metadata": {},
   "outputs": [
    {
     "data": {
      "text/plain": [
       "99441"
      ]
     },
     "execution_count": 105,
     "metadata": {},
     "output_type": "execute_result"
    }
   ],
   "source": [
    "len(dfOrderDataClean)"
   ]
  },
  {
   "cell_type": "code",
   "execution_count": 106,
   "metadata": {},
   "outputs": [],
   "source": [
    "dfOrderData.drop(\"order_status\", axis=1, inplace=True)"
   ]
  },
  {
   "cell_type": "code",
   "execution_count": 107,
   "metadata": {},
   "outputs": [],
   "source": [
    "dfOrderData.drop(\"order_purchase_timestamp\", axis=1, inplace=True)"
   ]
  },
  {
   "cell_type": "code",
   "execution_count": 108,
   "metadata": {},
   "outputs": [],
   "source": [
    "dfOrderData.drop(\"order_approved_at\", axis=1, inplace=True)"
   ]
  },
  {
   "cell_type": "code",
   "execution_count": 109,
   "metadata": {},
   "outputs": [],
   "source": [
    "dfOrderData.drop(\"order_delivered_carrier_date\", axis=1, inplace=True)"
   ]
  },
  {
   "cell_type": "code",
   "execution_count": 110,
   "metadata": {},
   "outputs": [],
   "source": [
    "dfOrderData.drop(\"order_delivered_customer_date\", axis=1, inplace=True)"
   ]
  },
  {
   "cell_type": "code",
   "execution_count": 111,
   "metadata": {},
   "outputs": [],
   "source": [
    "dfOrderData.drop(\"order_estimated_delivery_date\", axis=1, inplace=True)"
   ]
  },
  {
   "cell_type": "code",
   "execution_count": 112,
   "metadata": {},
   "outputs": [
    {
     "data": {
      "text/html": [
       "<div>\n",
       "<style scoped>\n",
       "    .dataframe tbody tr th:only-of-type {\n",
       "        vertical-align: middle;\n",
       "    }\n",
       "\n",
       "    .dataframe tbody tr th {\n",
       "        vertical-align: top;\n",
       "    }\n",
       "\n",
       "    .dataframe thead th {\n",
       "        text-align: right;\n",
       "    }\n",
       "</style>\n",
       "<table border=\"1\" class=\"dataframe\">\n",
       "  <thead>\n",
       "    <tr style=\"text-align: right;\">\n",
       "      <th></th>\n",
       "      <th>order_id</th>\n",
       "      <th>customer_id</th>\n",
       "    </tr>\n",
       "  </thead>\n",
       "  <tbody>\n",
       "    <tr>\n",
       "      <th>count</th>\n",
       "      <td>99441</td>\n",
       "      <td>99441</td>\n",
       "    </tr>\n",
       "    <tr>\n",
       "      <th>unique</th>\n",
       "      <td>99441</td>\n",
       "      <td>99441</td>\n",
       "    </tr>\n",
       "    <tr>\n",
       "      <th>top</th>\n",
       "      <td>e481f51cbdc54678b7cc49136f2d6af7</td>\n",
       "      <td>9ef432eb6251297304e76186b10a928d</td>\n",
       "    </tr>\n",
       "    <tr>\n",
       "      <th>freq</th>\n",
       "      <td>1</td>\n",
       "      <td>1</td>\n",
       "    </tr>\n",
       "  </tbody>\n",
       "</table>\n",
       "</div>"
      ],
      "text/plain": [
       "                                order_id                       customer_id\n",
       "count                              99441                             99441\n",
       "unique                             99441                             99441\n",
       "top     e481f51cbdc54678b7cc49136f2d6af7  9ef432eb6251297304e76186b10a928d\n",
       "freq                                   1                                 1"
      ]
     },
     "execution_count": 112,
     "metadata": {},
     "output_type": "execute_result"
    }
   ],
   "source": [
    "dfOrderData.describe()"
   ]
  },
  {
   "cell_type": "code",
   "execution_count": 113,
   "metadata": {},
   "outputs": [
    {
     "data": {
      "text/plain": [
       "order_id       0\n",
       "customer_id    0\n",
       "dtype: int64"
      ]
     },
     "execution_count": 113,
     "metadata": {},
     "output_type": "execute_result"
    }
   ],
   "source": [
    "dfOrderData.isnull().sum()"
   ]
  },
  {
   "attachments": {},
   "cell_type": "markdown",
   "metadata": {},
   "source": [
    "Nettoyage OrderReviews"
   ]
  },
  {
   "cell_type": "code",
   "execution_count": 114,
   "metadata": {},
   "outputs": [
    {
     "name": "stdout",
     "output_type": "stream",
     "text": [
      "<class 'pandas.core.frame.DataFrame'>\n",
      "RangeIndex: 99224 entries, 0 to 99223\n",
      "Data columns (total 7 columns):\n",
      " #   Column                   Non-Null Count  Dtype \n",
      "---  ------                   --------------  ----- \n",
      " 0   review_id                99224 non-null  object\n",
      " 1   order_id                 99224 non-null  object\n",
      " 2   review_score             99224 non-null  int64 \n",
      " 3   review_comment_title     11568 non-null  object\n",
      " 4   review_comment_message   40977 non-null  object\n",
      " 5   review_creation_date     99224 non-null  object\n",
      " 6   review_answer_timestamp  99224 non-null  object\n",
      "dtypes: int64(1), object(6)\n",
      "memory usage: 5.3+ MB\n"
     ]
    }
   ],
   "source": [
    "dfOrderReviews.info()"
   ]
  },
  {
   "cell_type": "code",
   "execution_count": 115,
   "metadata": {},
   "outputs": [],
   "source": [
    "dfOrderReviewsClean = dfOrderReviews.drop_duplicates()"
   ]
  },
  {
   "cell_type": "code",
   "execution_count": 116,
   "metadata": {},
   "outputs": [
    {
     "data": {
      "text/plain": [
       "99224"
      ]
     },
     "execution_count": 116,
     "metadata": {},
     "output_type": "execute_result"
    }
   ],
   "source": [
    "len(dfOrderReviewsClean)"
   ]
  },
  {
   "cell_type": "code",
   "execution_count": 117,
   "metadata": {},
   "outputs": [],
   "source": [
    "dfOrderReviews.drop(\"review_comment_title\", axis=1, inplace=True)"
   ]
  },
  {
   "cell_type": "code",
   "execution_count": 118,
   "metadata": {},
   "outputs": [],
   "source": [
    "dfOrderReviews.drop(\"review_id\", axis=1, inplace=True)"
   ]
  },
  {
   "cell_type": "code",
   "execution_count": 119,
   "metadata": {},
   "outputs": [],
   "source": [
    "dfOrderReviews.drop(\"review_comment_message\", axis=1, inplace=True)"
   ]
  },
  {
   "cell_type": "code",
   "execution_count": 120,
   "metadata": {},
   "outputs": [],
   "source": [
    "dfOrderReviews.drop(\"review_creation_date\", axis=1, inplace=True)"
   ]
  },
  {
   "cell_type": "code",
   "execution_count": 121,
   "metadata": {},
   "outputs": [],
   "source": [
    "dfOrderReviews.drop(\"review_answer_timestamp\", axis=1, inplace=True)"
   ]
  },
  {
   "cell_type": "code",
   "execution_count": 122,
   "metadata": {},
   "outputs": [
    {
     "name": "stdout",
     "output_type": "stream",
     "text": [
      "<class 'pandas.core.frame.DataFrame'>\n",
      "RangeIndex: 99224 entries, 0 to 99223\n",
      "Data columns (total 2 columns):\n",
      " #   Column        Non-Null Count  Dtype \n",
      "---  ------        --------------  ----- \n",
      " 0   order_id      99224 non-null  object\n",
      " 1   review_score  99224 non-null  int64 \n",
      "dtypes: int64(1), object(1)\n",
      "memory usage: 1.5+ MB\n"
     ]
    }
   ],
   "source": [
    "dfOrderReviews.info()"
   ]
  },
  {
   "cell_type": "code",
   "execution_count": 123,
   "metadata": {},
   "outputs": [
    {
     "data": {
      "text/plain": [
       "order_id        0\n",
       "review_score    0\n",
       "dtype: int64"
      ]
     },
     "execution_count": 123,
     "metadata": {},
     "output_type": "execute_result"
    }
   ],
   "source": [
    "dfOrderReviews.isnull().sum()"
   ]
  },
  {
   "attachments": {},
   "cell_type": "markdown",
   "metadata": {},
   "source": [
    "Merge des dataFrames orders\n"
   ]
  },
  {
   "cell_type": "code",
   "execution_count": 124,
   "metadata": {},
   "outputs": [],
   "source": [
    "\n",
    "dfOrderItems = dfOrderItems.sort_values('order_item_id', ascending=False).drop_duplicates(subset='order_id').sort_index()"
   ]
  },
  {
   "cell_type": "code",
   "execution_count": 125,
   "metadata": {},
   "outputs": [],
   "source": [
    "dfOrderItems['price'] = dfOrderItems['price'] * dfOrderItems['order_item_id']"
   ]
  },
  {
   "cell_type": "code",
   "execution_count": 126,
   "metadata": {},
   "outputs": [],
   "source": [
    "dfOrderItems['freight_value'] = dfOrderItems['freight_value'] * dfOrderItems['order_item_id']"
   ]
  },
  {
   "cell_type": "code",
   "execution_count": 127,
   "metadata": {},
   "outputs": [],
   "source": [
    "dfOrderItems['totalPrice'] = dfOrderItems['price'] + dfOrderItems['freight_value']"
   ]
  },
  {
   "cell_type": "code",
   "execution_count": 128,
   "metadata": {},
   "outputs": [
    {
     "name": "stdout",
     "output_type": "stream",
     "text": [
      "<class 'pandas.core.frame.DataFrame'>\n",
      "Int64Index: 98666 entries, 0 to 112649\n",
      "Data columns (total 8 columns):\n",
      " #   Column               Non-Null Count  Dtype  \n",
      "---  ------               --------------  -----  \n",
      " 0   order_id             98666 non-null  object \n",
      " 1   order_item_id        98666 non-null  int64  \n",
      " 2   product_id           98666 non-null  object \n",
      " 3   seller_id            98666 non-null  object \n",
      " 4   shipping_limit_date  98666 non-null  object \n",
      " 5   price                98666 non-null  float64\n",
      " 6   freight_value        98666 non-null  float64\n",
      " 7   totalPrice           98666 non-null  float64\n",
      "dtypes: float64(3), int64(1), object(4)\n",
      "memory usage: 6.8+ MB\n"
     ]
    }
   ],
   "source": [
    "dfOrderItems.info()"
   ]
  },
  {
   "cell_type": "code",
   "execution_count": 129,
   "metadata": {},
   "outputs": [],
   "source": [
    "dfOrderItems['price'] = dfOrderItems['price'].round(2)"
   ]
  },
  {
   "cell_type": "code",
   "execution_count": 130,
   "metadata": {},
   "outputs": [],
   "source": [
    "dfOrderItems['freight_value'] = dfOrderItems['freight_value'].round(2)"
   ]
  },
  {
   "cell_type": "code",
   "execution_count": 131,
   "metadata": {},
   "outputs": [],
   "source": [
    "dfOrderItems['totalPrice'] = dfOrderItems['totalPrice'].round(2)"
   ]
  },
  {
   "cell_type": "code",
   "execution_count": 132,
   "metadata": {},
   "outputs": [],
   "source": [
    "dfOrderItems.to_csv(\"order_items_clear.csv\",index=False)"
   ]
  },
  {
   "cell_type": "code",
   "execution_count": 133,
   "metadata": {},
   "outputs": [
    {
     "name": "stdout",
     "output_type": "stream",
     "text": [
      "<class 'pandas.core.frame.DataFrame'>\n",
      "RangeIndex: 99224 entries, 0 to 99223\n",
      "Data columns (total 2 columns):\n",
      " #   Column        Non-Null Count  Dtype \n",
      "---  ------        --------------  ----- \n",
      " 0   order_id      99224 non-null  object\n",
      " 1   review_score  99224 non-null  int64 \n",
      "dtypes: int64(1), object(1)\n",
      "memory usage: 1.5+ MB\n"
     ]
    }
   ],
   "source": [
    "dfOrderReviews.info()"
   ]
  },
  {
   "cell_type": "code",
   "execution_count": 134,
   "metadata": {},
   "outputs": [
    {
     "data": {
      "text/plain": [
       "order_id        0\n",
       "review_score    0\n",
       "dtype: int64"
      ]
     },
     "execution_count": 134,
     "metadata": {},
     "output_type": "execute_result"
    }
   ],
   "source": [
    "dfOrderReviews.isnull().sum()"
   ]
  },
  {
   "cell_type": "code",
   "execution_count": 135,
   "metadata": {},
   "outputs": [],
   "source": [
    "dfOrderItemsMerge = pd.merge(dfOrderItems, dfOrderReviews, on='order_id', how='left')"
   ]
  },
  {
   "cell_type": "code",
   "execution_count": 136,
   "metadata": {},
   "outputs": [
    {
     "data": {
      "text/plain": [
       "order_id                 0\n",
       "order_item_id            0\n",
       "product_id               0\n",
       "seller_id                0\n",
       "shipping_limit_date      0\n",
       "price                    0\n",
       "freight_value            0\n",
       "totalPrice               0\n",
       "review_score           749\n",
       "dtype: int64"
      ]
     },
     "execution_count": 136,
     "metadata": {},
     "output_type": "execute_result"
    }
   ],
   "source": [
    "dfOrderItemsMerge.isnull().sum()"
   ]
  },
  {
   "cell_type": "code",
   "execution_count": 137,
   "metadata": {},
   "outputs": [],
   "source": [
    "dfOrderItemsMerge = dfOrderItemsMerge.dropna()"
   ]
  },
  {
   "cell_type": "code",
   "execution_count": 138,
   "metadata": {},
   "outputs": [
    {
     "data": {
      "text/plain": [
       "order_id               0\n",
       "order_item_id          0\n",
       "product_id             0\n",
       "seller_id              0\n",
       "shipping_limit_date    0\n",
       "price                  0\n",
       "freight_value          0\n",
       "totalPrice             0\n",
       "review_score           0\n",
       "dtype: int64"
      ]
     },
     "execution_count": 138,
     "metadata": {},
     "output_type": "execute_result"
    }
   ],
   "source": [
    "dfOrderItemsMerge.isnull().sum()"
   ]
  },
  {
   "cell_type": "code",
   "execution_count": 139,
   "metadata": {},
   "outputs": [],
   "source": [
    "dfOrderItemsMerge = pd.merge(dfOrderItemsMerge, dfOrderData, on='order_id', how='left')"
   ]
  },
  {
   "cell_type": "code",
   "execution_count": 140,
   "metadata": {},
   "outputs": [
    {
     "data": {
      "text/html": [
       "<div>\n",
       "<style scoped>\n",
       "    .dataframe tbody tr th:only-of-type {\n",
       "        vertical-align: middle;\n",
       "    }\n",
       "\n",
       "    .dataframe tbody tr th {\n",
       "        vertical-align: top;\n",
       "    }\n",
       "\n",
       "    .dataframe thead th {\n",
       "        text-align: right;\n",
       "    }\n",
       "</style>\n",
       "<table border=\"1\" class=\"dataframe\">\n",
       "  <thead>\n",
       "    <tr style=\"text-align: right;\">\n",
       "      <th></th>\n",
       "      <th>order_id</th>\n",
       "      <th>order_item_id</th>\n",
       "      <th>product_id</th>\n",
       "      <th>seller_id</th>\n",
       "      <th>shipping_limit_date</th>\n",
       "      <th>price</th>\n",
       "      <th>freight_value</th>\n",
       "      <th>totalPrice</th>\n",
       "      <th>review_score</th>\n",
       "      <th>customer_id</th>\n",
       "    </tr>\n",
       "  </thead>\n",
       "  <tbody>\n",
       "    <tr>\n",
       "      <th>0</th>\n",
       "      <td>00010242fe8c5a6d1ba2dd792cb16214</td>\n",
       "      <td>1</td>\n",
       "      <td>4244733e06e7ecb4970a6e2683c13e61</td>\n",
       "      <td>48436dade18ac8b2bce089ec2a041202</td>\n",
       "      <td>2017-09-19 09:45:35</td>\n",
       "      <td>58.90</td>\n",
       "      <td>13.29</td>\n",
       "      <td>72.19</td>\n",
       "      <td>5.0</td>\n",
       "      <td>3ce436f183e68e07877b285a838db11a</td>\n",
       "    </tr>\n",
       "    <tr>\n",
       "      <th>1</th>\n",
       "      <td>00018f77f2f0320c557190d7a144bdd3</td>\n",
       "      <td>1</td>\n",
       "      <td>e5f2d52b802189ee658865ca93d83a8f</td>\n",
       "      <td>dd7ddc04e1b6c2c614352b383efe2d36</td>\n",
       "      <td>2017-05-03 11:05:13</td>\n",
       "      <td>239.90</td>\n",
       "      <td>19.93</td>\n",
       "      <td>259.83</td>\n",
       "      <td>4.0</td>\n",
       "      <td>f6dd3ec061db4e3987629fe6b26e5cce</td>\n",
       "    </tr>\n",
       "    <tr>\n",
       "      <th>2</th>\n",
       "      <td>000229ec398224ef6ca0657da4fc703e</td>\n",
       "      <td>1</td>\n",
       "      <td>c777355d18b72b67abbeef9df44fd0fd</td>\n",
       "      <td>5b51032eddd242adc84c38acab88f23d</td>\n",
       "      <td>2018-01-18 14:48:30</td>\n",
       "      <td>199.00</td>\n",
       "      <td>17.87</td>\n",
       "      <td>216.87</td>\n",
       "      <td>5.0</td>\n",
       "      <td>6489ae5e4333f3693df5ad4372dab6d3</td>\n",
       "    </tr>\n",
       "    <tr>\n",
       "      <th>3</th>\n",
       "      <td>00024acbcdf0a6daa1e931b038114c75</td>\n",
       "      <td>1</td>\n",
       "      <td>7634da152a4610f1595efa32f14722fc</td>\n",
       "      <td>9d7a1d34a5052409006425275ba1c2b4</td>\n",
       "      <td>2018-08-15 10:10:18</td>\n",
       "      <td>12.99</td>\n",
       "      <td>12.79</td>\n",
       "      <td>25.78</td>\n",
       "      <td>4.0</td>\n",
       "      <td>d4eb9395c8c0431ee92fce09860c5a06</td>\n",
       "    </tr>\n",
       "    <tr>\n",
       "      <th>4</th>\n",
       "      <td>00042b26cf59d7ce69dfabb4e55b4fd9</td>\n",
       "      <td>1</td>\n",
       "      <td>ac6c3623068f30de03045865e4e10089</td>\n",
       "      <td>df560393f3a51e74553ab94004ba5c87</td>\n",
       "      <td>2017-02-13 13:57:51</td>\n",
       "      <td>199.90</td>\n",
       "      <td>18.14</td>\n",
       "      <td>218.04</td>\n",
       "      <td>5.0</td>\n",
       "      <td>58dbd0b2d70206bf40e62cd34e84d795</td>\n",
       "    </tr>\n",
       "  </tbody>\n",
       "</table>\n",
       "</div>"
      ],
      "text/plain": [
       "                           order_id  order_item_id  \\\n",
       "0  00010242fe8c5a6d1ba2dd792cb16214              1   \n",
       "1  00018f77f2f0320c557190d7a144bdd3              1   \n",
       "2  000229ec398224ef6ca0657da4fc703e              1   \n",
       "3  00024acbcdf0a6daa1e931b038114c75              1   \n",
       "4  00042b26cf59d7ce69dfabb4e55b4fd9              1   \n",
       "\n",
       "                         product_id                         seller_id  \\\n",
       "0  4244733e06e7ecb4970a6e2683c13e61  48436dade18ac8b2bce089ec2a041202   \n",
       "1  e5f2d52b802189ee658865ca93d83a8f  dd7ddc04e1b6c2c614352b383efe2d36   \n",
       "2  c777355d18b72b67abbeef9df44fd0fd  5b51032eddd242adc84c38acab88f23d   \n",
       "3  7634da152a4610f1595efa32f14722fc  9d7a1d34a5052409006425275ba1c2b4   \n",
       "4  ac6c3623068f30de03045865e4e10089  df560393f3a51e74553ab94004ba5c87   \n",
       "\n",
       "   shipping_limit_date   price  freight_value  totalPrice  review_score  \\\n",
       "0  2017-09-19 09:45:35   58.90          13.29       72.19           5.0   \n",
       "1  2017-05-03 11:05:13  239.90          19.93      259.83           4.0   \n",
       "2  2018-01-18 14:48:30  199.00          17.87      216.87           5.0   \n",
       "3  2018-08-15 10:10:18   12.99          12.79       25.78           4.0   \n",
       "4  2017-02-13 13:57:51  199.90          18.14      218.04           5.0   \n",
       "\n",
       "                        customer_id  \n",
       "0  3ce436f183e68e07877b285a838db11a  \n",
       "1  f6dd3ec061db4e3987629fe6b26e5cce  \n",
       "2  6489ae5e4333f3693df5ad4372dab6d3  \n",
       "3  d4eb9395c8c0431ee92fce09860c5a06  \n",
       "4  58dbd0b2d70206bf40e62cd34e84d795  "
      ]
     },
     "execution_count": 140,
     "metadata": {},
     "output_type": "execute_result"
    }
   ],
   "source": [
    "dfOrderItemsMerge.head()\n"
   ]
  },
  {
   "cell_type": "code",
   "execution_count": 141,
   "metadata": {},
   "outputs": [],
   "source": [
    "dfOrderItemsMerge = pd.merge(dfOrderItemsMerge, dfOrderPayements, on='order_id', how='left')"
   ]
  },
  {
   "cell_type": "code",
   "execution_count": 142,
   "metadata": {},
   "outputs": [],
   "source": [
    "dfOrderItemsMerge = dfOrderItemsMerge.dropna()"
   ]
  },
  {
   "cell_type": "code",
   "execution_count": 143,
   "metadata": {},
   "outputs": [
    {
     "data": {
      "text/html": [
       "<div>\n",
       "<style scoped>\n",
       "    .dataframe tbody tr th:only-of-type {\n",
       "        vertical-align: middle;\n",
       "    }\n",
       "\n",
       "    .dataframe tbody tr th {\n",
       "        vertical-align: top;\n",
       "    }\n",
       "\n",
       "    .dataframe thead th {\n",
       "        text-align: right;\n",
       "    }\n",
       "</style>\n",
       "<table border=\"1\" class=\"dataframe\">\n",
       "  <thead>\n",
       "    <tr style=\"text-align: right;\">\n",
       "      <th></th>\n",
       "      <th>order_id</th>\n",
       "      <th>order_item_id</th>\n",
       "      <th>product_id</th>\n",
       "      <th>seller_id</th>\n",
       "      <th>shipping_limit_date</th>\n",
       "      <th>price</th>\n",
       "      <th>freight_value</th>\n",
       "      <th>totalPrice</th>\n",
       "      <th>review_score</th>\n",
       "      <th>customer_id</th>\n",
       "      <th>payment_sequential</th>\n",
       "      <th>payment_type</th>\n",
       "      <th>payment_installments</th>\n",
       "    </tr>\n",
       "  </thead>\n",
       "  <tbody>\n",
       "    <tr>\n",
       "      <th>0</th>\n",
       "      <td>00010242fe8c5a6d1ba2dd792cb16214</td>\n",
       "      <td>1</td>\n",
       "      <td>4244733e06e7ecb4970a6e2683c13e61</td>\n",
       "      <td>48436dade18ac8b2bce089ec2a041202</td>\n",
       "      <td>2017-09-19 09:45:35</td>\n",
       "      <td>58.90</td>\n",
       "      <td>13.29</td>\n",
       "      <td>72.19</td>\n",
       "      <td>5.0</td>\n",
       "      <td>3ce436f183e68e07877b285a838db11a</td>\n",
       "      <td>1.0</td>\n",
       "      <td>credit_card</td>\n",
       "      <td>2.0</td>\n",
       "    </tr>\n",
       "    <tr>\n",
       "      <th>1</th>\n",
       "      <td>00018f77f2f0320c557190d7a144bdd3</td>\n",
       "      <td>1</td>\n",
       "      <td>e5f2d52b802189ee658865ca93d83a8f</td>\n",
       "      <td>dd7ddc04e1b6c2c614352b383efe2d36</td>\n",
       "      <td>2017-05-03 11:05:13</td>\n",
       "      <td>239.90</td>\n",
       "      <td>19.93</td>\n",
       "      <td>259.83</td>\n",
       "      <td>4.0</td>\n",
       "      <td>f6dd3ec061db4e3987629fe6b26e5cce</td>\n",
       "      <td>1.0</td>\n",
       "      <td>credit_card</td>\n",
       "      <td>3.0</td>\n",
       "    </tr>\n",
       "    <tr>\n",
       "      <th>2</th>\n",
       "      <td>000229ec398224ef6ca0657da4fc703e</td>\n",
       "      <td>1</td>\n",
       "      <td>c777355d18b72b67abbeef9df44fd0fd</td>\n",
       "      <td>5b51032eddd242adc84c38acab88f23d</td>\n",
       "      <td>2018-01-18 14:48:30</td>\n",
       "      <td>199.00</td>\n",
       "      <td>17.87</td>\n",
       "      <td>216.87</td>\n",
       "      <td>5.0</td>\n",
       "      <td>6489ae5e4333f3693df5ad4372dab6d3</td>\n",
       "      <td>1.0</td>\n",
       "      <td>credit_card</td>\n",
       "      <td>5.0</td>\n",
       "    </tr>\n",
       "    <tr>\n",
       "      <th>3</th>\n",
       "      <td>00024acbcdf0a6daa1e931b038114c75</td>\n",
       "      <td>1</td>\n",
       "      <td>7634da152a4610f1595efa32f14722fc</td>\n",
       "      <td>9d7a1d34a5052409006425275ba1c2b4</td>\n",
       "      <td>2018-08-15 10:10:18</td>\n",
       "      <td>12.99</td>\n",
       "      <td>12.79</td>\n",
       "      <td>25.78</td>\n",
       "      <td>4.0</td>\n",
       "      <td>d4eb9395c8c0431ee92fce09860c5a06</td>\n",
       "      <td>1.0</td>\n",
       "      <td>credit_card</td>\n",
       "      <td>2.0</td>\n",
       "    </tr>\n",
       "    <tr>\n",
       "      <th>4</th>\n",
       "      <td>00042b26cf59d7ce69dfabb4e55b4fd9</td>\n",
       "      <td>1</td>\n",
       "      <td>ac6c3623068f30de03045865e4e10089</td>\n",
       "      <td>df560393f3a51e74553ab94004ba5c87</td>\n",
       "      <td>2017-02-13 13:57:51</td>\n",
       "      <td>199.90</td>\n",
       "      <td>18.14</td>\n",
       "      <td>218.04</td>\n",
       "      <td>5.0</td>\n",
       "      <td>58dbd0b2d70206bf40e62cd34e84d795</td>\n",
       "      <td>1.0</td>\n",
       "      <td>credit_card</td>\n",
       "      <td>3.0</td>\n",
       "    </tr>\n",
       "  </tbody>\n",
       "</table>\n",
       "</div>"
      ],
      "text/plain": [
       "                           order_id  order_item_id  \\\n",
       "0  00010242fe8c5a6d1ba2dd792cb16214              1   \n",
       "1  00018f77f2f0320c557190d7a144bdd3              1   \n",
       "2  000229ec398224ef6ca0657da4fc703e              1   \n",
       "3  00024acbcdf0a6daa1e931b038114c75              1   \n",
       "4  00042b26cf59d7ce69dfabb4e55b4fd9              1   \n",
       "\n",
       "                         product_id                         seller_id  \\\n",
       "0  4244733e06e7ecb4970a6e2683c13e61  48436dade18ac8b2bce089ec2a041202   \n",
       "1  e5f2d52b802189ee658865ca93d83a8f  dd7ddc04e1b6c2c614352b383efe2d36   \n",
       "2  c777355d18b72b67abbeef9df44fd0fd  5b51032eddd242adc84c38acab88f23d   \n",
       "3  7634da152a4610f1595efa32f14722fc  9d7a1d34a5052409006425275ba1c2b4   \n",
       "4  ac6c3623068f30de03045865e4e10089  df560393f3a51e74553ab94004ba5c87   \n",
       "\n",
       "   shipping_limit_date   price  freight_value  totalPrice  review_score  \\\n",
       "0  2017-09-19 09:45:35   58.90          13.29       72.19           5.0   \n",
       "1  2017-05-03 11:05:13  239.90          19.93      259.83           4.0   \n",
       "2  2018-01-18 14:48:30  199.00          17.87      216.87           5.0   \n",
       "3  2018-08-15 10:10:18   12.99          12.79       25.78           4.0   \n",
       "4  2017-02-13 13:57:51  199.90          18.14      218.04           5.0   \n",
       "\n",
       "                        customer_id  payment_sequential payment_type  \\\n",
       "0  3ce436f183e68e07877b285a838db11a                 1.0  credit_card   \n",
       "1  f6dd3ec061db4e3987629fe6b26e5cce                 1.0  credit_card   \n",
       "2  6489ae5e4333f3693df5ad4372dab6d3                 1.0  credit_card   \n",
       "3  d4eb9395c8c0431ee92fce09860c5a06                 1.0  credit_card   \n",
       "4  58dbd0b2d70206bf40e62cd34e84d795                 1.0  credit_card   \n",
       "\n",
       "   payment_installments  \n",
       "0                   2.0  \n",
       "1                   3.0  \n",
       "2                   5.0  \n",
       "3                   2.0  \n",
       "4                   3.0  "
      ]
     },
     "execution_count": 143,
     "metadata": {},
     "output_type": "execute_result"
    }
   ],
   "source": [
    "dfOrderItemsMerge.head()"
   ]
  },
  {
   "cell_type": "code",
   "execution_count": 144,
   "metadata": {},
   "outputs": [
    {
     "data": {
      "text/plain": [
       "order_id                0\n",
       "order_item_id           0\n",
       "product_id              0\n",
       "seller_id               0\n",
       "shipping_limit_date     0\n",
       "price                   0\n",
       "freight_value           0\n",
       "totalPrice              0\n",
       "review_score            0\n",
       "customer_id             0\n",
       "payment_sequential      0\n",
       "payment_type            0\n",
       "payment_installments    0\n",
       "dtype: int64"
      ]
     },
     "execution_count": 144,
     "metadata": {},
     "output_type": "execute_result"
    }
   ],
   "source": [
    "dfOrderItemsMerge.isnull().sum()"
   ]
  },
  {
   "cell_type": "code",
   "execution_count": 145,
   "metadata": {},
   "outputs": [],
   "source": [
    "dfCustomers = pd.read_csv(\"../../archive/olist_customers_dataset.csv\")"
   ]
  },
  {
   "cell_type": "code",
   "execution_count": 146,
   "metadata": {},
   "outputs": [],
   "source": [
    "dfCustomers.drop(\"customer_unique_id\", axis=1, inplace=True)"
   ]
  },
  {
   "cell_type": "code",
   "execution_count": null,
   "metadata": {},
   "outputs": [],
   "source": []
  },
  {
   "cell_type": "code",
   "execution_count": 147,
   "metadata": {},
   "outputs": [],
   "source": [
    "dfOrderItemsMerge = pd.merge(dfOrderItemsMerge, dfCustomers, on='customer_id', how='left')"
   ]
  },
  {
   "cell_type": "code",
   "execution_count": 148,
   "metadata": {},
   "outputs": [
    {
     "data": {
      "text/plain": [
       "order_id                    0\n",
       "order_item_id               0\n",
       "product_id                  0\n",
       "seller_id                   0\n",
       "shipping_limit_date         0\n",
       "price                       0\n",
       "freight_value               0\n",
       "totalPrice                  0\n",
       "review_score                0\n",
       "customer_id                 0\n",
       "payment_sequential          0\n",
       "payment_type                0\n",
       "payment_installments        0\n",
       "customer_zip_code_prefix    0\n",
       "customer_city               0\n",
       "customer_state              0\n",
       "dtype: int64"
      ]
     },
     "execution_count": 148,
     "metadata": {},
     "output_type": "execute_result"
    }
   ],
   "source": [
    "dfOrderItemsMerge.isnull().sum()"
   ]
  },
  {
   "cell_type": "code",
   "execution_count": 149,
   "metadata": {},
   "outputs": [],
   "source": [
    "dfSellers = pd.read_csv(\"../../archive/olist_sellers_dataset.csv\")"
   ]
  },
  {
   "cell_type": "code",
   "execution_count": 150,
   "metadata": {},
   "outputs": [],
   "source": [
    "dfOrderItemsMerge = pd.merge(dfOrderItemsMerge, dfSellers, on='seller_id', how='left')"
   ]
  },
  {
   "cell_type": "code",
   "execution_count": 151,
   "metadata": {},
   "outputs": [
    {
     "data": {
      "text/plain": [
       "order_id                    0\n",
       "order_item_id               0\n",
       "product_id                  0\n",
       "seller_id                   0\n",
       "shipping_limit_date         0\n",
       "price                       0\n",
       "freight_value               0\n",
       "totalPrice                  0\n",
       "review_score                0\n",
       "customer_id                 0\n",
       "payment_sequential          0\n",
       "payment_type                0\n",
       "payment_installments        0\n",
       "customer_zip_code_prefix    0\n",
       "customer_city               0\n",
       "customer_state              0\n",
       "seller_zip_code_prefix      0\n",
       "seller_city                 0\n",
       "seller_state                0\n",
       "dtype: int64"
      ]
     },
     "execution_count": 151,
     "metadata": {},
     "output_type": "execute_result"
    }
   ],
   "source": [
    "dfOrderItemsMerge.isnull().sum()"
   ]
  },
  {
   "cell_type": "code",
   "execution_count": 152,
   "metadata": {},
   "outputs": [],
   "source": [
    "dfNewCategorie = pd.read_csv(\"../../archive/categorie_reduc.csv\")"
   ]
  },
  {
   "cell_type": "code",
   "execution_count": 153,
   "metadata": {},
   "outputs": [],
   "source": [
    "dfNewCategorie['original']=dfNewCategorie[\"original\"].str.split(\",\")"
   ]
  },
  {
   "cell_type": "code",
   "execution_count": 154,
   "metadata": {},
   "outputs": [
    {
     "data": {
      "text/html": [
       "<div>\n",
       "<style scoped>\n",
       "    .dataframe tbody tr th:only-of-type {\n",
       "        vertical-align: middle;\n",
       "    }\n",
       "\n",
       "    .dataframe tbody tr th {\n",
       "        vertical-align: top;\n",
       "    }\n",
       "\n",
       "    .dataframe thead th {\n",
       "        text-align: right;\n",
       "    }\n",
       "</style>\n",
       "<table border=\"1\" class=\"dataframe\">\n",
       "  <thead>\n",
       "    <tr style=\"text-align: right;\">\n",
       "      <th></th>\n",
       "      <th>original</th>\n",
       "      <th>new_categorie</th>\n",
       "    </tr>\n",
       "  </thead>\n",
       "  <tbody>\n",
       "    <tr>\n",
       "      <th>0</th>\n",
       "      <td>[Computers_Accessories,  Tablets_Printing_Imag...</td>\n",
       "      <td>Informatique et electronique</td>\n",
       "    </tr>\n",
       "    <tr>\n",
       "      <th>1</th>\n",
       "      <td>[Auto,  Air_Conditioning]</td>\n",
       "      <td>Automobile</td>\n",
       "    </tr>\n",
       "    <tr>\n",
       "      <th>2</th>\n",
       "      <td>[Bed_Bath_Table,  Housewares,  Kitchen_Dining_...</td>\n",
       "      <td>Housing</td>\n",
       "    </tr>\n",
       "    <tr>\n",
       "      <th>3</th>\n",
       "      <td>[Furniture_Decor,  Furniture_Mattress_and_Upho...</td>\n",
       "      <td>Furniture</td>\n",
       "    </tr>\n",
       "    <tr>\n",
       "      <th>4</th>\n",
       "      <td>[Sports_Leisure,  Luggage_Accessories]</td>\n",
       "      <td>Sport</td>\n",
       "    </tr>\n",
       "    <tr>\n",
       "      <th>5</th>\n",
       "      <td>[Perfumery,   Health_Beauty]</td>\n",
       "      <td>Parfum et soin</td>\n",
       "    </tr>\n",
       "    <tr>\n",
       "      <th>6</th>\n",
       "      <td>[Telephony,  Fixed_Telephony,  Signaling_and_S...</td>\n",
       "      <td>Telephonie et sécurite</td>\n",
       "    </tr>\n",
       "    <tr>\n",
       "      <th>7</th>\n",
       "      <td>[Food_Drink,  Food,  Drinks, Market_Place, La_...</td>\n",
       "      <td>Nourriture et cuisine</td>\n",
       "    </tr>\n",
       "    <tr>\n",
       "      <th>8</th>\n",
       "      <td>[Baby,  Diapers_and_Hygiene]</td>\n",
       "      <td>Utilitaire pour bebe</td>\n",
       "    </tr>\n",
       "    <tr>\n",
       "      <th>9</th>\n",
       "      <td>[Stationery,  Books_General_Interest,  Books_I...</td>\n",
       "      <td>Livre et papeterie</td>\n",
       "    </tr>\n",
       "    <tr>\n",
       "      <th>10</th>\n",
       "      <td>[Toys,  Small_Appliances,  Small_Appliances_Ho...</td>\n",
       "      <td>Gadget</td>\n",
       "    </tr>\n",
       "    <tr>\n",
       "      <th>11</th>\n",
       "      <td>[Fashion_Bags_Accessories,  Fashion_Shoes,  Fa...</td>\n",
       "      <td>Fashion</td>\n",
       "    </tr>\n",
       "    <tr>\n",
       "      <th>12</th>\n",
       "      <td>[Garden_Tools,  Construction_Tools_Constructio...</td>\n",
       "      <td>Quincalerie</td>\n",
       "    </tr>\n",
       "    <tr>\n",
       "      <th>13</th>\n",
       "      <td>[Audio,  Music,  CDs_Dvds_Musicals,  DVDs_Blu_...</td>\n",
       "      <td>Musique et instruments</td>\n",
       "    </tr>\n",
       "    <tr>\n",
       "      <th>14</th>\n",
       "      <td>[Party_Supplies,  Christmas_Supplies, Watches_...</td>\n",
       "      <td>Cadeaux</td>\n",
       "    </tr>\n",
       "    <tr>\n",
       "      <th>15</th>\n",
       "      <td>[Agro_Industry_and_Commerce,  Industry_Commerc...</td>\n",
       "      <td>Industrie et commerce</td>\n",
       "    </tr>\n",
       "    <tr>\n",
       "      <th>16</th>\n",
       "      <td>[Pet_Shop]</td>\n",
       "      <td>Animalerie</td>\n",
       "    </tr>\n",
       "    <tr>\n",
       "      <th>17</th>\n",
       "      <td>[Art,  Arts_and_Craftmanship]</td>\n",
       "      <td>Art et manufacture</td>\n",
       "    </tr>\n",
       "  </tbody>\n",
       "</table>\n",
       "</div>"
      ],
      "text/plain": [
       "                                             original  \\\n",
       "0   [Computers_Accessories,  Tablets_Printing_Imag...   \n",
       "1                           [Auto,  Air_Conditioning]   \n",
       "2   [Bed_Bath_Table,  Housewares,  Kitchen_Dining_...   \n",
       "3   [Furniture_Decor,  Furniture_Mattress_and_Upho...   \n",
       "4              [Sports_Leisure,  Luggage_Accessories]   \n",
       "5                        [Perfumery,   Health_Beauty]   \n",
       "6   [Telephony,  Fixed_Telephony,  Signaling_and_S...   \n",
       "7   [Food_Drink,  Food,  Drinks, Market_Place, La_...   \n",
       "8                        [Baby,  Diapers_and_Hygiene]   \n",
       "9   [Stationery,  Books_General_Interest,  Books_I...   \n",
       "10  [Toys,  Small_Appliances,  Small_Appliances_Ho...   \n",
       "11  [Fashion_Bags_Accessories,  Fashion_Shoes,  Fa...   \n",
       "12  [Garden_Tools,  Construction_Tools_Constructio...   \n",
       "13  [Audio,  Music,  CDs_Dvds_Musicals,  DVDs_Blu_...   \n",
       "14  [Party_Supplies,  Christmas_Supplies, Watches_...   \n",
       "15  [Agro_Industry_and_Commerce,  Industry_Commerc...   \n",
       "16                                         [Pet_Shop]   \n",
       "17                      [Art,  Arts_and_Craftmanship]   \n",
       "\n",
       "                   new_categorie  \n",
       "0   Informatique et electronique  \n",
       "1                     Automobile  \n",
       "2                        Housing  \n",
       "3                      Furniture  \n",
       "4                          Sport  \n",
       "5                 Parfum et soin  \n",
       "6         Telephonie et sécurite  \n",
       "7          Nourriture et cuisine  \n",
       "8           Utilitaire pour bebe  \n",
       "9             Livre et papeterie  \n",
       "10                        Gadget  \n",
       "11                       Fashion  \n",
       "12                   Quincalerie  \n",
       "13        Musique et instruments  \n",
       "14                       Cadeaux  \n",
       "15         Industrie et commerce  \n",
       "16                    Animalerie  \n",
       "17            Art et manufacture  "
      ]
     },
     "execution_count": 154,
     "metadata": {},
     "output_type": "execute_result"
    }
   ],
   "source": [
    "dfNewCategorie"
   ]
  },
  {
   "cell_type": "code",
   "execution_count": 155,
   "metadata": {},
   "outputs": [],
   "source": [
    "#dfNewCategorie['original'] = dfNewCategorie['original'].astype(str).apply(lambda x: x.lower())"
   ]
  },
  {
   "cell_type": "code",
   "execution_count": 156,
   "metadata": {},
   "outputs": [
    {
     "data": {
      "text/html": [
       "<div>\n",
       "<style scoped>\n",
       "    .dataframe tbody tr th:only-of-type {\n",
       "        vertical-align: middle;\n",
       "    }\n",
       "\n",
       "    .dataframe tbody tr th {\n",
       "        vertical-align: top;\n",
       "    }\n",
       "\n",
       "    .dataframe thead th {\n",
       "        text-align: right;\n",
       "    }\n",
       "</style>\n",
       "<table border=\"1\" class=\"dataframe\">\n",
       "  <thead>\n",
       "    <tr style=\"text-align: right;\">\n",
       "      <th></th>\n",
       "      <th>original</th>\n",
       "      <th>new_categorie</th>\n",
       "    </tr>\n",
       "  </thead>\n",
       "  <tbody>\n",
       "    <tr>\n",
       "      <th>0</th>\n",
       "      <td>[Computers_Accessories,  Tablets_Printing_Imag...</td>\n",
       "      <td>Informatique et electronique</td>\n",
       "    </tr>\n",
       "    <tr>\n",
       "      <th>1</th>\n",
       "      <td>[Auto,  Air_Conditioning]</td>\n",
       "      <td>Automobile</td>\n",
       "    </tr>\n",
       "    <tr>\n",
       "      <th>2</th>\n",
       "      <td>[Bed_Bath_Table,  Housewares,  Kitchen_Dining_...</td>\n",
       "      <td>Housing</td>\n",
       "    </tr>\n",
       "    <tr>\n",
       "      <th>3</th>\n",
       "      <td>[Furniture_Decor,  Furniture_Mattress_and_Upho...</td>\n",
       "      <td>Furniture</td>\n",
       "    </tr>\n",
       "    <tr>\n",
       "      <th>4</th>\n",
       "      <td>[Sports_Leisure,  Luggage_Accessories]</td>\n",
       "      <td>Sport</td>\n",
       "    </tr>\n",
       "    <tr>\n",
       "      <th>5</th>\n",
       "      <td>[Perfumery,   Health_Beauty]</td>\n",
       "      <td>Parfum et soin</td>\n",
       "    </tr>\n",
       "    <tr>\n",
       "      <th>6</th>\n",
       "      <td>[Telephony,  Fixed_Telephony,  Signaling_and_S...</td>\n",
       "      <td>Telephonie et sécurite</td>\n",
       "    </tr>\n",
       "    <tr>\n",
       "      <th>7</th>\n",
       "      <td>[Food_Drink,  Food,  Drinks, Market_Place, La_...</td>\n",
       "      <td>Nourriture et cuisine</td>\n",
       "    </tr>\n",
       "    <tr>\n",
       "      <th>8</th>\n",
       "      <td>[Baby,  Diapers_and_Hygiene]</td>\n",
       "      <td>Utilitaire pour bebe</td>\n",
       "    </tr>\n",
       "    <tr>\n",
       "      <th>9</th>\n",
       "      <td>[Stationery,  Books_General_Interest,  Books_I...</td>\n",
       "      <td>Livre et papeterie</td>\n",
       "    </tr>\n",
       "    <tr>\n",
       "      <th>10</th>\n",
       "      <td>[Toys,  Small_Appliances,  Small_Appliances_Ho...</td>\n",
       "      <td>Gadget</td>\n",
       "    </tr>\n",
       "    <tr>\n",
       "      <th>11</th>\n",
       "      <td>[Fashion_Bags_Accessories,  Fashion_Shoes,  Fa...</td>\n",
       "      <td>Fashion</td>\n",
       "    </tr>\n",
       "    <tr>\n",
       "      <th>12</th>\n",
       "      <td>[Garden_Tools,  Construction_Tools_Constructio...</td>\n",
       "      <td>Quincalerie</td>\n",
       "    </tr>\n",
       "    <tr>\n",
       "      <th>13</th>\n",
       "      <td>[Audio,  Music,  CDs_Dvds_Musicals,  DVDs_Blu_...</td>\n",
       "      <td>Musique et instruments</td>\n",
       "    </tr>\n",
       "    <tr>\n",
       "      <th>14</th>\n",
       "      <td>[Party_Supplies,  Christmas_Supplies, Watches_...</td>\n",
       "      <td>Cadeaux</td>\n",
       "    </tr>\n",
       "    <tr>\n",
       "      <th>15</th>\n",
       "      <td>[Agro_Industry_and_Commerce,  Industry_Commerc...</td>\n",
       "      <td>Industrie et commerce</td>\n",
       "    </tr>\n",
       "    <tr>\n",
       "      <th>16</th>\n",
       "      <td>[Pet_Shop]</td>\n",
       "      <td>Animalerie</td>\n",
       "    </tr>\n",
       "    <tr>\n",
       "      <th>17</th>\n",
       "      <td>[Art,  Arts_and_Craftmanship]</td>\n",
       "      <td>Art et manufacture</td>\n",
       "    </tr>\n",
       "  </tbody>\n",
       "</table>\n",
       "</div>"
      ],
      "text/plain": [
       "                                             original  \\\n",
       "0   [Computers_Accessories,  Tablets_Printing_Imag...   \n",
       "1                           [Auto,  Air_Conditioning]   \n",
       "2   [Bed_Bath_Table,  Housewares,  Kitchen_Dining_...   \n",
       "3   [Furniture_Decor,  Furniture_Mattress_and_Upho...   \n",
       "4              [Sports_Leisure,  Luggage_Accessories]   \n",
       "5                        [Perfumery,   Health_Beauty]   \n",
       "6   [Telephony,  Fixed_Telephony,  Signaling_and_S...   \n",
       "7   [Food_Drink,  Food,  Drinks, Market_Place, La_...   \n",
       "8                        [Baby,  Diapers_and_Hygiene]   \n",
       "9   [Stationery,  Books_General_Interest,  Books_I...   \n",
       "10  [Toys,  Small_Appliances,  Small_Appliances_Ho...   \n",
       "11  [Fashion_Bags_Accessories,  Fashion_Shoes,  Fa...   \n",
       "12  [Garden_Tools,  Construction_Tools_Constructio...   \n",
       "13  [Audio,  Music,  CDs_Dvds_Musicals,  DVDs_Blu_...   \n",
       "14  [Party_Supplies,  Christmas_Supplies, Watches_...   \n",
       "15  [Agro_Industry_and_Commerce,  Industry_Commerc...   \n",
       "16                                         [Pet_Shop]   \n",
       "17                      [Art,  Arts_and_Craftmanship]   \n",
       "\n",
       "                   new_categorie  \n",
       "0   Informatique et electronique  \n",
       "1                     Automobile  \n",
       "2                        Housing  \n",
       "3                      Furniture  \n",
       "4                          Sport  \n",
       "5                 Parfum et soin  \n",
       "6         Telephonie et sécurite  \n",
       "7          Nourriture et cuisine  \n",
       "8           Utilitaire pour bebe  \n",
       "9             Livre et papeterie  \n",
       "10                        Gadget  \n",
       "11                       Fashion  \n",
       "12                   Quincalerie  \n",
       "13        Musique et instruments  \n",
       "14                       Cadeaux  \n",
       "15         Industrie et commerce  \n",
       "16                    Animalerie  \n",
       "17            Art et manufacture  "
      ]
     },
     "execution_count": 156,
     "metadata": {},
     "output_type": "execute_result"
    }
   ],
   "source": [
    "dfNewCategorie"
   ]
  },
  {
   "cell_type": "code",
   "execution_count": 157,
   "metadata": {},
   "outputs": [
    {
     "data": {
      "text/plain": [
       "{0: {'Computers_Accessories': 'Informatique et electronique',\n",
       "  ' Tablets_Printing_Image': 'Informatique et electronique',\n",
       "  ' Computers': 'Informatique et electronique',\n",
       "  'Consoles_Games': 'Informatique et electronique',\n",
       "  'Electronics': 'Informatique et electronique'},\n",
       " 1: {'Auto': 'Automobile', ' Air_Conditioning': 'Automobile'},\n",
       " 2: {'Bed_Bath_Table': 'Housing',\n",
       "  ' Housewares': 'Housing',\n",
       "  ' Kitchen_Dining_Laundry_Garden_Furniture': 'Housing',\n",
       "  '  Home_Confort': 'Housing',\n",
       "  ' Home_Comfort_2': 'Housing',\n",
       "  'Home_Appliances': 'Housing',\n",
       "  ' Home_Appliances_2': 'Housing'},\n",
       " 3: {'Furniture_Decor': 'Furniture',\n",
       "  ' Furniture_Mattress_and_Upholstery': 'Furniture',\n",
       "  ' Furniture_Living_Room': 'Furniture',\n",
       "  ' Furniture_Bedroom': 'Furniture',\n",
       "  'Office_Furniture': 'Furniture'},\n",
       " 4: {'Sports_Leisure': 'Sport', ' Luggage_Accessories': 'Sport'},\n",
       " 5: {'Perfumery': 'Parfum et soin', '  Health_Beauty': 'Parfum et soin'},\n",
       " 6: {'Telephony': 'Telephonie et sécurite',\n",
       "  ' Fixed_Telephony': 'Telephonie et sécurite',\n",
       "  ' Signaling_and_Security': 'Telephonie et sécurite',\n",
       "  'Security_and_Services': 'Telephonie et sécurite'},\n",
       " 7: {'Food_Drink': 'Nourriture et cuisine',\n",
       "  ' Food': 'Nourriture et cuisine',\n",
       "  ' Drinks': 'Nourriture et cuisine',\n",
       "  'Market_Place': 'Nourriture et cuisine',\n",
       "  'La_Cuisine': 'Nourriture et cuisine'},\n",
       " 8: {'Baby': 'Utilitaire pour bebe',\n",
       "  ' Diapers_and_Hygiene': 'Utilitaire pour bebe'},\n",
       " 9: {'Stationery': 'Livre et papeterie',\n",
       "  ' Books_General_Interest': 'Livre et papeterie',\n",
       "  ' Books_Imported': 'Livre et papeterie',\n",
       "  ' Books_Technical': 'Livre et papeterie'},\n",
       " 10: {'Toys': 'Gadget',\n",
       "  ' Small_Appliances': 'Gadget',\n",
       "  ' Small_Appliances_Home_Oven_and_Coffee': 'Gadget',\n",
       "  ' Cool_Stuff': 'Gadget'},\n",
       " 11: {'Fashion_Bags_Accessories': 'Fashion',\n",
       "  ' Fashion_Shoes': 'Fashion',\n",
       "  ' Fashion_Underwear_Beach': 'Fashion',\n",
       "  ' Fashion_Sport': 'Fashion',\n",
       "  ' Fashion_Childrens_Clothes': 'Fashion',\n",
       "  ' Fashion_Male_Clothing': 'Fashion',\n",
       "  ' Fashion_Female_Clothing': 'Fashion'},\n",
       " 12: {'Garden_Tools': 'Quincalerie',\n",
       "  ' Construction_Tools_Construction': 'Quincalerie',\n",
       "  ' Construction_Tools_Garden': 'Quincalerie',\n",
       "  ' Construction_Tools_Tools': 'Quincalerie',\n",
       "  ' Construction_Tools_Lights': 'Quincalerie',\n",
       "  ' Construction_Tools_Safety': 'Quincalerie',\n",
       "  ' Flowers': 'Quincalerie'},\n",
       " 13: {'Audio': 'Musique et instruments',\n",
       "  ' Music': 'Musique et instruments',\n",
       "  ' CDs_Dvds_Musicals': 'Musique et instruments',\n",
       "  ' DVDs_Blu_Ray ': 'Musique et instruments',\n",
       "  ' Cine_Photo': 'Musique et instruments',\n",
       "  'Musical_Instruments': 'Musique et instruments'},\n",
       " 14: {'Party_Supplies': 'Cadeaux',\n",
       "  ' Christmas_Supplies': 'Cadeaux',\n",
       "  'Watches_Gifts': 'Cadeaux'},\n",
       " 15: {'Agro_Industry_and_Commerce': 'Industrie et commerce',\n",
       "  ' Industry_Commerce_and_Business': 'Industrie et commerce'},\n",
       " 16: {'Pet_Shop': 'Animalerie'},\n",
       " 17: {'Art': 'Art et manufacture',\n",
       "  ' Arts_and_Craftmanship': 'Art et manufacture'}}"
      ]
     },
     "execution_count": 157,
     "metadata": {},
     "output_type": "execute_result"
    }
   ],
   "source": [
    "dfNewCategorie.apply(lambda row:dict(zip(row['original'], [row['new_categorie']]*len(row['original']) )), axis=1).to_dict()\n",
    "\n"
   ]
  },
  {
   "cell_type": "code",
   "execution_count": 158,
   "metadata": {},
   "outputs": [
    {
     "data": {
      "text/plain": [
       "{'Computers_Accessories': 'Informatique et electronique',\n",
       " ' Tablets_Printing_Image': 'Informatique et electronique',\n",
       " ' Computers': 'Informatique et electronique',\n",
       " 'Consoles_Games': 'Informatique et electronique',\n",
       " 'Electronics': 'Informatique et electronique',\n",
       " 'Auto': 'Automobile',\n",
       " ' Air_Conditioning': 'Automobile',\n",
       " 'Bed_Bath_Table': 'Housing',\n",
       " ' Housewares': 'Housing',\n",
       " ' Kitchen_Dining_Laundry_Garden_Furniture': 'Housing',\n",
       " '  Home_Confort': 'Housing',\n",
       " ' Home_Comfort_2': 'Housing',\n",
       " 'Home_Appliances': 'Housing',\n",
       " ' Home_Appliances_2': 'Housing',\n",
       " 'Furniture_Decor': 'Furniture',\n",
       " ' Furniture_Mattress_and_Upholstery': 'Furniture',\n",
       " ' Furniture_Living_Room': 'Furniture',\n",
       " ' Furniture_Bedroom': 'Furniture',\n",
       " 'Office_Furniture': 'Furniture',\n",
       " 'Sports_Leisure': 'Sport',\n",
       " ' Luggage_Accessories': 'Sport',\n",
       " 'Perfumery': 'Parfum et soin',\n",
       " '  Health_Beauty': 'Parfum et soin',\n",
       " 'Telephony': 'Telephonie et sécurite',\n",
       " ' Fixed_Telephony': 'Telephonie et sécurite',\n",
       " ' Signaling_and_Security': 'Telephonie et sécurite',\n",
       " 'Security_and_Services': 'Telephonie et sécurite',\n",
       " 'Food_Drink': 'Nourriture et cuisine',\n",
       " ' Food': 'Nourriture et cuisine',\n",
       " ' Drinks': 'Nourriture et cuisine',\n",
       " 'Market_Place': 'Nourriture et cuisine',\n",
       " 'La_Cuisine': 'Nourriture et cuisine',\n",
       " 'Baby': 'Utilitaire pour bebe',\n",
       " ' Diapers_and_Hygiene': 'Utilitaire pour bebe',\n",
       " 'Stationery': 'Livre et papeterie',\n",
       " ' Books_General_Interest': 'Livre et papeterie',\n",
       " ' Books_Imported': 'Livre et papeterie',\n",
       " ' Books_Technical': 'Livre et papeterie',\n",
       " 'Toys': 'Gadget',\n",
       " ' Small_Appliances': 'Gadget',\n",
       " ' Small_Appliances_Home_Oven_and_Coffee': 'Gadget',\n",
       " ' Cool_Stuff': 'Gadget',\n",
       " 'Fashion_Bags_Accessories': 'Fashion',\n",
       " ' Fashion_Shoes': 'Fashion',\n",
       " ' Fashion_Underwear_Beach': 'Fashion',\n",
       " ' Fashion_Sport': 'Fashion',\n",
       " ' Fashion_Childrens_Clothes': 'Fashion',\n",
       " ' Fashion_Male_Clothing': 'Fashion',\n",
       " ' Fashion_Female_Clothing': 'Fashion',\n",
       " 'Garden_Tools': 'Quincalerie',\n",
       " ' Construction_Tools_Construction': 'Quincalerie',\n",
       " ' Construction_Tools_Garden': 'Quincalerie',\n",
       " ' Construction_Tools_Tools': 'Quincalerie',\n",
       " ' Construction_Tools_Lights': 'Quincalerie',\n",
       " ' Construction_Tools_Safety': 'Quincalerie',\n",
       " ' Flowers': 'Quincalerie',\n",
       " 'Audio': 'Musique et instruments',\n",
       " ' Music': 'Musique et instruments',\n",
       " ' CDs_Dvds_Musicals': 'Musique et instruments',\n",
       " ' DVDs_Blu_Ray ': 'Musique et instruments',\n",
       " ' Cine_Photo': 'Musique et instruments',\n",
       " 'Musical_Instruments': 'Musique et instruments',\n",
       " 'Party_Supplies': 'Cadeaux',\n",
       " ' Christmas_Supplies': 'Cadeaux',\n",
       " 'Watches_Gifts': 'Cadeaux',\n",
       " 'Agro_Industry_and_Commerce': 'Industrie et commerce',\n",
       " ' Industry_Commerce_and_Business': 'Industrie et commerce',\n",
       " 'Pet_Shop': 'Animalerie',\n",
       " 'Art': 'Art et manufacture',\n",
       " ' Arts_and_Craftmanship': 'Art et manufacture'}"
      ]
     },
     "execution_count": 158,
     "metadata": {},
     "output_type": "execute_result"
    }
   ],
   "source": [
    "d = {}\n",
    "for k, v in dfNewCategorie.apply(lambda row: dict(zip(row['original'], [row['new_categorie']]*len(row['original']))), axis=1).to_dict().items(): \n",
    "    d.update(v) \n",
    "\n",
    "\n",
    "d"
   ]
  },
  {
   "cell_type": "code",
   "execution_count": 159,
   "metadata": {},
   "outputs": [],
   "source": [
    "dic ={}\n",
    "for key in d:\n",
    "    new_key= key.lstrip()\n",
    "    dic[new_key] = d[key]\n"
   ]
  },
  {
   "cell_type": "code",
   "execution_count": 160,
   "metadata": {},
   "outputs": [
    {
     "data": {
      "text/plain": [
       "{'Computers_Accessories': 'Informatique et electronique',\n",
       " 'Tablets_Printing_Image': 'Informatique et electronique',\n",
       " 'Computers': 'Informatique et electronique',\n",
       " 'Consoles_Games': 'Informatique et electronique',\n",
       " 'Electronics': 'Informatique et electronique',\n",
       " 'Auto': 'Automobile',\n",
       " 'Air_Conditioning': 'Automobile',\n",
       " 'Bed_Bath_Table': 'Housing',\n",
       " 'Housewares': 'Housing',\n",
       " 'Kitchen_Dining_Laundry_Garden_Furniture': 'Housing',\n",
       " 'Home_Confort': 'Housing',\n",
       " 'Home_Comfort_2': 'Housing',\n",
       " 'Home_Appliances': 'Housing',\n",
       " 'Home_Appliances_2': 'Housing',\n",
       " 'Furniture_Decor': 'Furniture',\n",
       " 'Furniture_Mattress_and_Upholstery': 'Furniture',\n",
       " 'Furniture_Living_Room': 'Furniture',\n",
       " 'Furniture_Bedroom': 'Furniture',\n",
       " 'Office_Furniture': 'Furniture',\n",
       " 'Sports_Leisure': 'Sport',\n",
       " 'Luggage_Accessories': 'Sport',\n",
       " 'Perfumery': 'Parfum et soin',\n",
       " 'Health_Beauty': 'Parfum et soin',\n",
       " 'Telephony': 'Telephonie et sécurite',\n",
       " 'Fixed_Telephony': 'Telephonie et sécurite',\n",
       " 'Signaling_and_Security': 'Telephonie et sécurite',\n",
       " 'Security_and_Services': 'Telephonie et sécurite',\n",
       " 'Food_Drink': 'Nourriture et cuisine',\n",
       " 'Food': 'Nourriture et cuisine',\n",
       " 'Drinks': 'Nourriture et cuisine',\n",
       " 'Market_Place': 'Nourriture et cuisine',\n",
       " 'La_Cuisine': 'Nourriture et cuisine',\n",
       " 'Baby': 'Utilitaire pour bebe',\n",
       " 'Diapers_and_Hygiene': 'Utilitaire pour bebe',\n",
       " 'Stationery': 'Livre et papeterie',\n",
       " 'Books_General_Interest': 'Livre et papeterie',\n",
       " 'Books_Imported': 'Livre et papeterie',\n",
       " 'Books_Technical': 'Livre et papeterie',\n",
       " 'Toys': 'Gadget',\n",
       " 'Small_Appliances': 'Gadget',\n",
       " 'Small_Appliances_Home_Oven_and_Coffee': 'Gadget',\n",
       " 'Cool_Stuff': 'Gadget',\n",
       " 'Fashion_Bags_Accessories': 'Fashion',\n",
       " 'Fashion_Shoes': 'Fashion',\n",
       " 'Fashion_Underwear_Beach': 'Fashion',\n",
       " 'Fashion_Sport': 'Fashion',\n",
       " 'Fashion_Childrens_Clothes': 'Fashion',\n",
       " 'Fashion_Male_Clothing': 'Fashion',\n",
       " 'Fashion_Female_Clothing': 'Fashion',\n",
       " 'Garden_Tools': 'Quincalerie',\n",
       " 'Construction_Tools_Construction': 'Quincalerie',\n",
       " 'Construction_Tools_Garden': 'Quincalerie',\n",
       " 'Construction_Tools_Tools': 'Quincalerie',\n",
       " 'Construction_Tools_Lights': 'Quincalerie',\n",
       " 'Construction_Tools_Safety': 'Quincalerie',\n",
       " 'Flowers': 'Quincalerie',\n",
       " 'Audio': 'Musique et instruments',\n",
       " 'Music': 'Musique et instruments',\n",
       " 'CDs_Dvds_Musicals': 'Musique et instruments',\n",
       " 'DVDs_Blu_Ray ': 'Musique et instruments',\n",
       " 'Cine_Photo': 'Musique et instruments',\n",
       " 'Musical_Instruments': 'Musique et instruments',\n",
       " 'Party_Supplies': 'Cadeaux',\n",
       " 'Christmas_Supplies': 'Cadeaux',\n",
       " 'Watches_Gifts': 'Cadeaux',\n",
       " 'Agro_Industry_and_Commerce': 'Industrie et commerce',\n",
       " 'Industry_Commerce_and_Business': 'Industrie et commerce',\n",
       " 'Pet_Shop': 'Animalerie',\n",
       " 'Art': 'Art et manufacture',\n",
       " 'Arts_and_Craftmanship': 'Art et manufacture'}"
      ]
     },
     "execution_count": 160,
     "metadata": {},
     "output_type": "execute_result"
    }
   ],
   "source": [
    "dic"
   ]
  },
  {
   "cell_type": "code",
   "execution_count": 161,
   "metadata": {},
   "outputs": [],
   "source": [
    "dfProduct = pd.read_csv(\"../../archive/olist_products_dataset.csv\")"
   ]
  },
  {
   "cell_type": "code",
   "execution_count": 162,
   "metadata": {},
   "outputs": [],
   "source": [
    "df_category = pd.read_csv('../../archive/product_category_name_translation.csv')"
   ]
  },
  {
   "cell_type": "code",
   "execution_count": 163,
   "metadata": {},
   "outputs": [],
   "source": [
    "df_products_clean = dfProduct.iloc[:, :2] "
   ]
  },
  {
   "cell_type": "code",
   "execution_count": null,
   "metadata": {},
   "outputs": [],
   "source": []
  },
  {
   "cell_type": "code",
   "execution_count": 164,
   "metadata": {},
   "outputs": [],
   "source": [
    "# On crée un dictionnaire pour associer les noms originaux à leur traduction\n",
    "dict_traduction = df_category.set_index('product_category_name')['product_category_name_english'].to_dict()\n",
    "\n",
    "# On applique le dictionnaire pour traduire la colonne \"product_category_name\"\n",
    "df_products_clean['product_category_name'] = df_products_clean['product_category_name'].map(dict_traduction)"
   ]
  },
  {
   "cell_type": "code",
   "execution_count": 165,
   "metadata": {},
   "outputs": [
    {
     "data": {
      "text/html": [
       "<div>\n",
       "<style scoped>\n",
       "    .dataframe tbody tr th:only-of-type {\n",
       "        vertical-align: middle;\n",
       "    }\n",
       "\n",
       "    .dataframe tbody tr th {\n",
       "        vertical-align: top;\n",
       "    }\n",
       "\n",
       "    .dataframe thead th {\n",
       "        text-align: right;\n",
       "    }\n",
       "</style>\n",
       "<table border=\"1\" class=\"dataframe\">\n",
       "  <thead>\n",
       "    <tr style=\"text-align: right;\">\n",
       "      <th></th>\n",
       "      <th>product_id</th>\n",
       "      <th>product_category_name</th>\n",
       "    </tr>\n",
       "  </thead>\n",
       "  <tbody>\n",
       "    <tr>\n",
       "      <th>0</th>\n",
       "      <td>1e9e8ef04dbcff4541ed26657ea517e5</td>\n",
       "      <td>perfumery</td>\n",
       "    </tr>\n",
       "    <tr>\n",
       "      <th>1</th>\n",
       "      <td>3aa071139cb16b67ca9e5dea641aaa2f</td>\n",
       "      <td>art</td>\n",
       "    </tr>\n",
       "    <tr>\n",
       "      <th>2</th>\n",
       "      <td>96bd76ec8810374ed1b65e291975717f</td>\n",
       "      <td>sports_leisure</td>\n",
       "    </tr>\n",
       "    <tr>\n",
       "      <th>3</th>\n",
       "      <td>cef67bcfe19066a932b7673e239eb23d</td>\n",
       "      <td>baby</td>\n",
       "    </tr>\n",
       "    <tr>\n",
       "      <th>4</th>\n",
       "      <td>9dc1a7de274444849c219cff195d0b71</td>\n",
       "      <td>housewares</td>\n",
       "    </tr>\n",
       "    <tr>\n",
       "      <th>...</th>\n",
       "      <td>...</td>\n",
       "      <td>...</td>\n",
       "    </tr>\n",
       "    <tr>\n",
       "      <th>32946</th>\n",
       "      <td>a0b7d5a992ccda646f2d34e418fff5a0</td>\n",
       "      <td>furniture_decor</td>\n",
       "    </tr>\n",
       "    <tr>\n",
       "      <th>32947</th>\n",
       "      <td>bf4538d88321d0fd4412a93c974510e6</td>\n",
       "      <td>construction_tools_lights</td>\n",
       "    </tr>\n",
       "    <tr>\n",
       "      <th>32948</th>\n",
       "      <td>9a7c6041fa9592d9d9ef6cfe62a71f8c</td>\n",
       "      <td>bed_bath_table</td>\n",
       "    </tr>\n",
       "    <tr>\n",
       "      <th>32949</th>\n",
       "      <td>83808703fc0706a22e264b9d75f04a2e</td>\n",
       "      <td>computers_accessories</td>\n",
       "    </tr>\n",
       "    <tr>\n",
       "      <th>32950</th>\n",
       "      <td>106392145fca363410d287a815be6de4</td>\n",
       "      <td>bed_bath_table</td>\n",
       "    </tr>\n",
       "  </tbody>\n",
       "</table>\n",
       "<p>32951 rows × 2 columns</p>\n",
       "</div>"
      ],
      "text/plain": [
       "                             product_id      product_category_name\n",
       "0      1e9e8ef04dbcff4541ed26657ea517e5                  perfumery\n",
       "1      3aa071139cb16b67ca9e5dea641aaa2f                        art\n",
       "2      96bd76ec8810374ed1b65e291975717f             sports_leisure\n",
       "3      cef67bcfe19066a932b7673e239eb23d                       baby\n",
       "4      9dc1a7de274444849c219cff195d0b71                 housewares\n",
       "...                                 ...                        ...\n",
       "32946  a0b7d5a992ccda646f2d34e418fff5a0            furniture_decor\n",
       "32947  bf4538d88321d0fd4412a93c974510e6  construction_tools_lights\n",
       "32948  9a7c6041fa9592d9d9ef6cfe62a71f8c             bed_bath_table\n",
       "32949  83808703fc0706a22e264b9d75f04a2e      computers_accessories\n",
       "32950  106392145fca363410d287a815be6de4             bed_bath_table\n",
       "\n",
       "[32951 rows x 2 columns]"
      ]
     },
     "execution_count": 165,
     "metadata": {},
     "output_type": "execute_result"
    }
   ],
   "source": [
    "df_products_clean"
   ]
  },
  {
   "cell_type": "code",
   "execution_count": null,
   "metadata": {},
   "outputs": [],
   "source": []
  },
  {
   "cell_type": "code",
   "execution_count": 166,
   "metadata": {},
   "outputs": [],
   "source": [
    "df_products_clean['product_category_name'] = df_products_clean['product_category_name'].astype(str).apply(lambda x: x.title())"
   ]
  },
  {
   "cell_type": "code",
   "execution_count": 167,
   "metadata": {},
   "outputs": [
    {
     "data": {
      "text/plain": [
       "product_id               0\n",
       "product_category_name    0\n",
       "dtype: int64"
      ]
     },
     "execution_count": 167,
     "metadata": {},
     "output_type": "execute_result"
    }
   ],
   "source": [
    "df_products_clean.isnull().sum()"
   ]
  },
  {
   "cell_type": "code",
   "execution_count": null,
   "metadata": {},
   "outputs": [],
   "source": []
  },
  {
   "cell_type": "code",
   "execution_count": 168,
   "metadata": {},
   "outputs": [
    {
     "data": {
      "text/html": [
       "<div>\n",
       "<style scoped>\n",
       "    .dataframe tbody tr th:only-of-type {\n",
       "        vertical-align: middle;\n",
       "    }\n",
       "\n",
       "    .dataframe tbody tr th {\n",
       "        vertical-align: top;\n",
       "    }\n",
       "\n",
       "    .dataframe thead th {\n",
       "        text-align: right;\n",
       "    }\n",
       "</style>\n",
       "<table border=\"1\" class=\"dataframe\">\n",
       "  <thead>\n",
       "    <tr style=\"text-align: right;\">\n",
       "      <th></th>\n",
       "      <th>product_id</th>\n",
       "      <th>product_category_name</th>\n",
       "    </tr>\n",
       "  </thead>\n",
       "  <tbody>\n",
       "    <tr>\n",
       "      <th>0</th>\n",
       "      <td>1e9e8ef04dbcff4541ed26657ea517e5</td>\n",
       "      <td>Parfum et soin</td>\n",
       "    </tr>\n",
       "    <tr>\n",
       "      <th>1</th>\n",
       "      <td>3aa071139cb16b67ca9e5dea641aaa2f</td>\n",
       "      <td>Art et manufacture</td>\n",
       "    </tr>\n",
       "    <tr>\n",
       "      <th>2</th>\n",
       "      <td>96bd76ec8810374ed1b65e291975717f</td>\n",
       "      <td>Sport</td>\n",
       "    </tr>\n",
       "    <tr>\n",
       "      <th>3</th>\n",
       "      <td>cef67bcfe19066a932b7673e239eb23d</td>\n",
       "      <td>Utilitaire pour bebe</td>\n",
       "    </tr>\n",
       "    <tr>\n",
       "      <th>4</th>\n",
       "      <td>9dc1a7de274444849c219cff195d0b71</td>\n",
       "      <td>Housing</td>\n",
       "    </tr>\n",
       "    <tr>\n",
       "      <th>...</th>\n",
       "      <td>...</td>\n",
       "      <td>...</td>\n",
       "    </tr>\n",
       "    <tr>\n",
       "      <th>32946</th>\n",
       "      <td>a0b7d5a992ccda646f2d34e418fff5a0</td>\n",
       "      <td>Furniture</td>\n",
       "    </tr>\n",
       "    <tr>\n",
       "      <th>32947</th>\n",
       "      <td>bf4538d88321d0fd4412a93c974510e6</td>\n",
       "      <td>Quincalerie</td>\n",
       "    </tr>\n",
       "    <tr>\n",
       "      <th>32948</th>\n",
       "      <td>9a7c6041fa9592d9d9ef6cfe62a71f8c</td>\n",
       "      <td>Housing</td>\n",
       "    </tr>\n",
       "    <tr>\n",
       "      <th>32949</th>\n",
       "      <td>83808703fc0706a22e264b9d75f04a2e</td>\n",
       "      <td>Informatique et electronique</td>\n",
       "    </tr>\n",
       "    <tr>\n",
       "      <th>32950</th>\n",
       "      <td>106392145fca363410d287a815be6de4</td>\n",
       "      <td>Housing</td>\n",
       "    </tr>\n",
       "  </tbody>\n",
       "</table>\n",
       "<p>32951 rows × 2 columns</p>\n",
       "</div>"
      ],
      "text/plain": [
       "                             product_id         product_category_name\n",
       "0      1e9e8ef04dbcff4541ed26657ea517e5                Parfum et soin\n",
       "1      3aa071139cb16b67ca9e5dea641aaa2f            Art et manufacture\n",
       "2      96bd76ec8810374ed1b65e291975717f                         Sport\n",
       "3      cef67bcfe19066a932b7673e239eb23d          Utilitaire pour bebe\n",
       "4      9dc1a7de274444849c219cff195d0b71                       Housing\n",
       "...                                 ...                           ...\n",
       "32946  a0b7d5a992ccda646f2d34e418fff5a0                     Furniture\n",
       "32947  bf4538d88321d0fd4412a93c974510e6                   Quincalerie\n",
       "32948  9a7c6041fa9592d9d9ef6cfe62a71f8c                       Housing\n",
       "32949  83808703fc0706a22e264b9d75f04a2e  Informatique et electronique\n",
       "32950  106392145fca363410d287a815be6de4                       Housing\n",
       "\n",
       "[32951 rows x 2 columns]"
      ]
     },
     "execution_count": 168,
     "metadata": {},
     "output_type": "execute_result"
    }
   ],
   "source": [
    "df_products_clean['product_category_name'] = df_products_clean['product_category_name'].map(dic)\n",
    "df_products_clean"
   ]
  },
  {
   "cell_type": "code",
   "execution_count": 169,
   "metadata": {},
   "outputs": [],
   "source": [
    "dfOrderItemsMerge = pd.merge(dfOrderItemsMerge, df_products_clean, on='product_id', how='left')"
   ]
  },
  {
   "cell_type": "code",
   "execution_count": 170,
   "metadata": {},
   "outputs": [
    {
     "data": {
      "text/html": [
       "<div>\n",
       "<style scoped>\n",
       "    .dataframe tbody tr th:only-of-type {\n",
       "        vertical-align: middle;\n",
       "    }\n",
       "\n",
       "    .dataframe tbody tr th {\n",
       "        vertical-align: top;\n",
       "    }\n",
       "\n",
       "    .dataframe thead th {\n",
       "        text-align: right;\n",
       "    }\n",
       "</style>\n",
       "<table border=\"1\" class=\"dataframe\">\n",
       "  <thead>\n",
       "    <tr style=\"text-align: right;\">\n",
       "      <th></th>\n",
       "      <th>order_id</th>\n",
       "      <th>order_item_id</th>\n",
       "      <th>product_id</th>\n",
       "      <th>seller_id</th>\n",
       "      <th>shipping_limit_date</th>\n",
       "      <th>price</th>\n",
       "      <th>freight_value</th>\n",
       "      <th>totalPrice</th>\n",
       "      <th>review_score</th>\n",
       "      <th>customer_id</th>\n",
       "      <th>payment_sequential</th>\n",
       "      <th>payment_type</th>\n",
       "      <th>payment_installments</th>\n",
       "      <th>customer_zip_code_prefix</th>\n",
       "      <th>customer_city</th>\n",
       "      <th>customer_state</th>\n",
       "      <th>seller_zip_code_prefix</th>\n",
       "      <th>seller_city</th>\n",
       "      <th>seller_state</th>\n",
       "      <th>product_category_name</th>\n",
       "    </tr>\n",
       "  </thead>\n",
       "  <tbody>\n",
       "    <tr>\n",
       "      <th>0</th>\n",
       "      <td>00010242fe8c5a6d1ba2dd792cb16214</td>\n",
       "      <td>1</td>\n",
       "      <td>4244733e06e7ecb4970a6e2683c13e61</td>\n",
       "      <td>48436dade18ac8b2bce089ec2a041202</td>\n",
       "      <td>2017-09-19 09:45:35</td>\n",
       "      <td>58.90</td>\n",
       "      <td>13.29</td>\n",
       "      <td>72.19</td>\n",
       "      <td>5.0</td>\n",
       "      <td>3ce436f183e68e07877b285a838db11a</td>\n",
       "      <td>1.0</td>\n",
       "      <td>credit_card</td>\n",
       "      <td>2.0</td>\n",
       "      <td>28013</td>\n",
       "      <td>campos dos goytacazes</td>\n",
       "      <td>RJ</td>\n",
       "      <td>27277</td>\n",
       "      <td>volta redonda</td>\n",
       "      <td>SP</td>\n",
       "      <td>Gadget</td>\n",
       "    </tr>\n",
       "    <tr>\n",
       "      <th>1</th>\n",
       "      <td>00018f77f2f0320c557190d7a144bdd3</td>\n",
       "      <td>1</td>\n",
       "      <td>e5f2d52b802189ee658865ca93d83a8f</td>\n",
       "      <td>dd7ddc04e1b6c2c614352b383efe2d36</td>\n",
       "      <td>2017-05-03 11:05:13</td>\n",
       "      <td>239.90</td>\n",
       "      <td>19.93</td>\n",
       "      <td>259.83</td>\n",
       "      <td>4.0</td>\n",
       "      <td>f6dd3ec061db4e3987629fe6b26e5cce</td>\n",
       "      <td>1.0</td>\n",
       "      <td>credit_card</td>\n",
       "      <td>3.0</td>\n",
       "      <td>15775</td>\n",
       "      <td>santa fe do sul</td>\n",
       "      <td>SP</td>\n",
       "      <td>3471</td>\n",
       "      <td>sao paulo</td>\n",
       "      <td>SP</td>\n",
       "      <td>Animalerie</td>\n",
       "    </tr>\n",
       "    <tr>\n",
       "      <th>2</th>\n",
       "      <td>000229ec398224ef6ca0657da4fc703e</td>\n",
       "      <td>1</td>\n",
       "      <td>c777355d18b72b67abbeef9df44fd0fd</td>\n",
       "      <td>5b51032eddd242adc84c38acab88f23d</td>\n",
       "      <td>2018-01-18 14:48:30</td>\n",
       "      <td>199.00</td>\n",
       "      <td>17.87</td>\n",
       "      <td>216.87</td>\n",
       "      <td>5.0</td>\n",
       "      <td>6489ae5e4333f3693df5ad4372dab6d3</td>\n",
       "      <td>1.0</td>\n",
       "      <td>credit_card</td>\n",
       "      <td>5.0</td>\n",
       "      <td>35661</td>\n",
       "      <td>para de minas</td>\n",
       "      <td>MG</td>\n",
       "      <td>37564</td>\n",
       "      <td>borda da mata</td>\n",
       "      <td>MG</td>\n",
       "      <td>Furniture</td>\n",
       "    </tr>\n",
       "    <tr>\n",
       "      <th>3</th>\n",
       "      <td>00024acbcdf0a6daa1e931b038114c75</td>\n",
       "      <td>1</td>\n",
       "      <td>7634da152a4610f1595efa32f14722fc</td>\n",
       "      <td>9d7a1d34a5052409006425275ba1c2b4</td>\n",
       "      <td>2018-08-15 10:10:18</td>\n",
       "      <td>12.99</td>\n",
       "      <td>12.79</td>\n",
       "      <td>25.78</td>\n",
       "      <td>4.0</td>\n",
       "      <td>d4eb9395c8c0431ee92fce09860c5a06</td>\n",
       "      <td>1.0</td>\n",
       "      <td>credit_card</td>\n",
       "      <td>2.0</td>\n",
       "      <td>12952</td>\n",
       "      <td>atibaia</td>\n",
       "      <td>SP</td>\n",
       "      <td>14403</td>\n",
       "      <td>franca</td>\n",
       "      <td>SP</td>\n",
       "      <td>Parfum et soin</td>\n",
       "    </tr>\n",
       "    <tr>\n",
       "      <th>4</th>\n",
       "      <td>00042b26cf59d7ce69dfabb4e55b4fd9</td>\n",
       "      <td>1</td>\n",
       "      <td>ac6c3623068f30de03045865e4e10089</td>\n",
       "      <td>df560393f3a51e74553ab94004ba5c87</td>\n",
       "      <td>2017-02-13 13:57:51</td>\n",
       "      <td>199.90</td>\n",
       "      <td>18.14</td>\n",
       "      <td>218.04</td>\n",
       "      <td>5.0</td>\n",
       "      <td>58dbd0b2d70206bf40e62cd34e84d795</td>\n",
       "      <td>1.0</td>\n",
       "      <td>credit_card</td>\n",
       "      <td>3.0</td>\n",
       "      <td>13226</td>\n",
       "      <td>varzea paulista</td>\n",
       "      <td>SP</td>\n",
       "      <td>87900</td>\n",
       "      <td>loanda</td>\n",
       "      <td>PR</td>\n",
       "      <td>Quincalerie</td>\n",
       "    </tr>\n",
       "  </tbody>\n",
       "</table>\n",
       "</div>"
      ],
      "text/plain": [
       "                           order_id  order_item_id  \\\n",
       "0  00010242fe8c5a6d1ba2dd792cb16214              1   \n",
       "1  00018f77f2f0320c557190d7a144bdd3              1   \n",
       "2  000229ec398224ef6ca0657da4fc703e              1   \n",
       "3  00024acbcdf0a6daa1e931b038114c75              1   \n",
       "4  00042b26cf59d7ce69dfabb4e55b4fd9              1   \n",
       "\n",
       "                         product_id                         seller_id  \\\n",
       "0  4244733e06e7ecb4970a6e2683c13e61  48436dade18ac8b2bce089ec2a041202   \n",
       "1  e5f2d52b802189ee658865ca93d83a8f  dd7ddc04e1b6c2c614352b383efe2d36   \n",
       "2  c777355d18b72b67abbeef9df44fd0fd  5b51032eddd242adc84c38acab88f23d   \n",
       "3  7634da152a4610f1595efa32f14722fc  9d7a1d34a5052409006425275ba1c2b4   \n",
       "4  ac6c3623068f30de03045865e4e10089  df560393f3a51e74553ab94004ba5c87   \n",
       "\n",
       "   shipping_limit_date   price  freight_value  totalPrice  review_score  \\\n",
       "0  2017-09-19 09:45:35   58.90          13.29       72.19           5.0   \n",
       "1  2017-05-03 11:05:13  239.90          19.93      259.83           4.0   \n",
       "2  2018-01-18 14:48:30  199.00          17.87      216.87           5.0   \n",
       "3  2018-08-15 10:10:18   12.99          12.79       25.78           4.0   \n",
       "4  2017-02-13 13:57:51  199.90          18.14      218.04           5.0   \n",
       "\n",
       "                        customer_id  payment_sequential payment_type  \\\n",
       "0  3ce436f183e68e07877b285a838db11a                 1.0  credit_card   \n",
       "1  f6dd3ec061db4e3987629fe6b26e5cce                 1.0  credit_card   \n",
       "2  6489ae5e4333f3693df5ad4372dab6d3                 1.0  credit_card   \n",
       "3  d4eb9395c8c0431ee92fce09860c5a06                 1.0  credit_card   \n",
       "4  58dbd0b2d70206bf40e62cd34e84d795                 1.0  credit_card   \n",
       "\n",
       "   payment_installments  customer_zip_code_prefix          customer_city  \\\n",
       "0                   2.0                     28013  campos dos goytacazes   \n",
       "1                   3.0                     15775        santa fe do sul   \n",
       "2                   5.0                     35661          para de minas   \n",
       "3                   2.0                     12952                atibaia   \n",
       "4                   3.0                     13226        varzea paulista   \n",
       "\n",
       "  customer_state  seller_zip_code_prefix    seller_city seller_state  \\\n",
       "0             RJ                   27277  volta redonda           SP   \n",
       "1             SP                    3471      sao paulo           SP   \n",
       "2             MG                   37564  borda da mata           MG   \n",
       "3             SP                   14403         franca           SP   \n",
       "4             SP                   87900         loanda           PR   \n",
       "\n",
       "  product_category_name  \n",
       "0                Gadget  \n",
       "1            Animalerie  \n",
       "2             Furniture  \n",
       "3        Parfum et soin  \n",
       "4           Quincalerie  "
      ]
     },
     "execution_count": 170,
     "metadata": {},
     "output_type": "execute_result"
    }
   ],
   "source": [
    "dfOrderItemsMerge.head()"
   ]
  },
  {
   "cell_type": "code",
   "execution_count": 171,
   "metadata": {},
   "outputs": [
    {
     "data": {
      "text/plain": [
       "order_id                       0\n",
       "order_item_id                  0\n",
       "product_id                     0\n",
       "seller_id                      0\n",
       "shipping_limit_date            0\n",
       "price                          0\n",
       "freight_value                  0\n",
       "totalPrice                     0\n",
       "review_score                   0\n",
       "customer_id                    0\n",
       "payment_sequential             0\n",
       "payment_type                   0\n",
       "payment_installments           0\n",
       "customer_zip_code_prefix       0\n",
       "customer_city                  0\n",
       "customer_state                 0\n",
       "seller_zip_code_prefix         0\n",
       "seller_city                    0\n",
       "seller_state                   0\n",
       "product_category_name       3202\n",
       "dtype: int64"
      ]
     },
     "execution_count": 171,
     "metadata": {},
     "output_type": "execute_result"
    }
   ],
   "source": [
    "dfOrderItemsMerge.isnull().sum()"
   ]
  },
  {
   "cell_type": "code",
   "execution_count": 172,
   "metadata": {},
   "outputs": [],
   "source": [
    "dfOrderItemsMerge = dfOrderItemsMerge.dropna()"
   ]
  },
  {
   "cell_type": "code",
   "execution_count": 173,
   "metadata": {},
   "outputs": [
    {
     "data": {
      "text/html": [
       "<div>\n",
       "<style scoped>\n",
       "    .dataframe tbody tr th:only-of-type {\n",
       "        vertical-align: middle;\n",
       "    }\n",
       "\n",
       "    .dataframe tbody tr th {\n",
       "        vertical-align: top;\n",
       "    }\n",
       "\n",
       "    .dataframe thead th {\n",
       "        text-align: right;\n",
       "    }\n",
       "</style>\n",
       "<table border=\"1\" class=\"dataframe\">\n",
       "  <thead>\n",
       "    <tr style=\"text-align: right;\">\n",
       "      <th></th>\n",
       "      <th>order_id</th>\n",
       "      <th>payment_sequential</th>\n",
       "      <th>payment_type</th>\n",
       "      <th>payment_installments</th>\n",
       "    </tr>\n",
       "  </thead>\n",
       "  <tbody>\n",
       "    <tr>\n",
       "      <th>0</th>\n",
       "      <td>b81ef226f3fe1789b1e8b2acac839d17</td>\n",
       "      <td>1</td>\n",
       "      <td>credit_card</td>\n",
       "      <td>8</td>\n",
       "    </tr>\n",
       "    <tr>\n",
       "      <th>1</th>\n",
       "      <td>a9810da82917af2d9aefd1278f1dcfa0</td>\n",
       "      <td>1</td>\n",
       "      <td>credit_card</td>\n",
       "      <td>1</td>\n",
       "    </tr>\n",
       "    <tr>\n",
       "      <th>2</th>\n",
       "      <td>25e8ea4e93396b6fa0d3dd708e76c1bd</td>\n",
       "      <td>1</td>\n",
       "      <td>credit_card</td>\n",
       "      <td>1</td>\n",
       "    </tr>\n",
       "    <tr>\n",
       "      <th>3</th>\n",
       "      <td>ba78997921bbcdc1373bb41e913ab953</td>\n",
       "      <td>1</td>\n",
       "      <td>credit_card</td>\n",
       "      <td>8</td>\n",
       "    </tr>\n",
       "    <tr>\n",
       "      <th>4</th>\n",
       "      <td>42fdf880ba16b47b59251dd489d4441a</td>\n",
       "      <td>1</td>\n",
       "      <td>credit_card</td>\n",
       "      <td>2</td>\n",
       "    </tr>\n",
       "    <tr>\n",
       "      <th>...</th>\n",
       "      <td>...</td>\n",
       "      <td>...</td>\n",
       "      <td>...</td>\n",
       "      <td>...</td>\n",
       "    </tr>\n",
       "    <tr>\n",
       "      <th>103881</th>\n",
       "      <td>0406037ad97740d563a178ecc7a2075c</td>\n",
       "      <td>1</td>\n",
       "      <td>boleto</td>\n",
       "      <td>1</td>\n",
       "    </tr>\n",
       "    <tr>\n",
       "      <th>103882</th>\n",
       "      <td>7b905861d7c825891d6347454ea7863f</td>\n",
       "      <td>1</td>\n",
       "      <td>credit_card</td>\n",
       "      <td>2</td>\n",
       "    </tr>\n",
       "    <tr>\n",
       "      <th>103883</th>\n",
       "      <td>32609bbb3dd69b3c066a6860554a77bf</td>\n",
       "      <td>1</td>\n",
       "      <td>credit_card</td>\n",
       "      <td>1</td>\n",
       "    </tr>\n",
       "    <tr>\n",
       "      <th>103884</th>\n",
       "      <td>b8b61059626efa996a60be9bb9320e10</td>\n",
       "      <td>1</td>\n",
       "      <td>credit_card</td>\n",
       "      <td>5</td>\n",
       "    </tr>\n",
       "    <tr>\n",
       "      <th>103885</th>\n",
       "      <td>28bbae6599b09d39ca406b747b6632b1</td>\n",
       "      <td>1</td>\n",
       "      <td>boleto</td>\n",
       "      <td>1</td>\n",
       "    </tr>\n",
       "  </tbody>\n",
       "</table>\n",
       "<p>103886 rows × 4 columns</p>\n",
       "</div>"
      ],
      "text/plain": [
       "                                order_id  payment_sequential payment_type  \\\n",
       "0       b81ef226f3fe1789b1e8b2acac839d17                   1  credit_card   \n",
       "1       a9810da82917af2d9aefd1278f1dcfa0                   1  credit_card   \n",
       "2       25e8ea4e93396b6fa0d3dd708e76c1bd                   1  credit_card   \n",
       "3       ba78997921bbcdc1373bb41e913ab953                   1  credit_card   \n",
       "4       42fdf880ba16b47b59251dd489d4441a                   1  credit_card   \n",
       "...                                  ...                 ...          ...   \n",
       "103881  0406037ad97740d563a178ecc7a2075c                   1       boleto   \n",
       "103882  7b905861d7c825891d6347454ea7863f                   1  credit_card   \n",
       "103883  32609bbb3dd69b3c066a6860554a77bf                   1  credit_card   \n",
       "103884  b8b61059626efa996a60be9bb9320e10                   1  credit_card   \n",
       "103885  28bbae6599b09d39ca406b747b6632b1                   1       boleto   \n",
       "\n",
       "        payment_installments  \n",
       "0                          8  \n",
       "1                          1  \n",
       "2                          1  \n",
       "3                          8  \n",
       "4                          2  \n",
       "...                      ...  \n",
       "103881                     1  \n",
       "103882                     2  \n",
       "103883                     1  \n",
       "103884                     5  \n",
       "103885                     1  \n",
       "\n",
       "[103886 rows x 4 columns]"
      ]
     },
     "execution_count": 173,
     "metadata": {},
     "output_type": "execute_result"
    }
   ],
   "source": [
    "dfOrderPayements"
   ]
  },
  {
   "cell_type": "code",
   "execution_count": 174,
   "metadata": {},
   "outputs": [
    {
     "data": {
      "text/html": [
       "<div>\n",
       "<style scoped>\n",
       "    .dataframe tbody tr th:only-of-type {\n",
       "        vertical-align: middle;\n",
       "    }\n",
       "\n",
       "    .dataframe tbody tr th {\n",
       "        vertical-align: top;\n",
       "    }\n",
       "\n",
       "    .dataframe thead th {\n",
       "        text-align: right;\n",
       "    }\n",
       "</style>\n",
       "<table border=\"1\" class=\"dataframe\">\n",
       "  <thead>\n",
       "    <tr style=\"text-align: right;\">\n",
       "      <th></th>\n",
       "      <th>order_id</th>\n",
       "      <th>order_item_id</th>\n",
       "      <th>product_id</th>\n",
       "      <th>seller_id</th>\n",
       "      <th>shipping_limit_date</th>\n",
       "      <th>price</th>\n",
       "      <th>freight_value</th>\n",
       "      <th>totalPrice</th>\n",
       "      <th>review_score</th>\n",
       "      <th>customer_id</th>\n",
       "      <th>payment_sequential</th>\n",
       "      <th>payment_type</th>\n",
       "      <th>payment_installments</th>\n",
       "      <th>customer_zip_code_prefix</th>\n",
       "      <th>customer_city</th>\n",
       "      <th>customer_state</th>\n",
       "      <th>seller_zip_code_prefix</th>\n",
       "      <th>seller_city</th>\n",
       "      <th>seller_state</th>\n",
       "      <th>product_category_name</th>\n",
       "    </tr>\n",
       "  </thead>\n",
       "  <tbody>\n",
       "    <tr>\n",
       "      <th>0</th>\n",
       "      <td>00010242fe8c5a6d1ba2dd792cb16214</td>\n",
       "      <td>1</td>\n",
       "      <td>4244733e06e7ecb4970a6e2683c13e61</td>\n",
       "      <td>48436dade18ac8b2bce089ec2a041202</td>\n",
       "      <td>2017-09-19 09:45:35</td>\n",
       "      <td>58.90</td>\n",
       "      <td>13.29</td>\n",
       "      <td>72.19</td>\n",
       "      <td>5.0</td>\n",
       "      <td>3ce436f183e68e07877b285a838db11a</td>\n",
       "      <td>1.0</td>\n",
       "      <td>credit_card</td>\n",
       "      <td>2.0</td>\n",
       "      <td>28013</td>\n",
       "      <td>campos dos goytacazes</td>\n",
       "      <td>RJ</td>\n",
       "      <td>27277</td>\n",
       "      <td>volta redonda</td>\n",
       "      <td>SP</td>\n",
       "      <td>Gadget</td>\n",
       "    </tr>\n",
       "    <tr>\n",
       "      <th>1</th>\n",
       "      <td>00018f77f2f0320c557190d7a144bdd3</td>\n",
       "      <td>1</td>\n",
       "      <td>e5f2d52b802189ee658865ca93d83a8f</td>\n",
       "      <td>dd7ddc04e1b6c2c614352b383efe2d36</td>\n",
       "      <td>2017-05-03 11:05:13</td>\n",
       "      <td>239.90</td>\n",
       "      <td>19.93</td>\n",
       "      <td>259.83</td>\n",
       "      <td>4.0</td>\n",
       "      <td>f6dd3ec061db4e3987629fe6b26e5cce</td>\n",
       "      <td>1.0</td>\n",
       "      <td>credit_card</td>\n",
       "      <td>3.0</td>\n",
       "      <td>15775</td>\n",
       "      <td>santa fe do sul</td>\n",
       "      <td>SP</td>\n",
       "      <td>3471</td>\n",
       "      <td>sao paulo</td>\n",
       "      <td>SP</td>\n",
       "      <td>Animalerie</td>\n",
       "    </tr>\n",
       "    <tr>\n",
       "      <th>2</th>\n",
       "      <td>000229ec398224ef6ca0657da4fc703e</td>\n",
       "      <td>1</td>\n",
       "      <td>c777355d18b72b67abbeef9df44fd0fd</td>\n",
       "      <td>5b51032eddd242adc84c38acab88f23d</td>\n",
       "      <td>2018-01-18 14:48:30</td>\n",
       "      <td>199.00</td>\n",
       "      <td>17.87</td>\n",
       "      <td>216.87</td>\n",
       "      <td>5.0</td>\n",
       "      <td>6489ae5e4333f3693df5ad4372dab6d3</td>\n",
       "      <td>1.0</td>\n",
       "      <td>credit_card</td>\n",
       "      <td>5.0</td>\n",
       "      <td>35661</td>\n",
       "      <td>para de minas</td>\n",
       "      <td>MG</td>\n",
       "      <td>37564</td>\n",
       "      <td>borda da mata</td>\n",
       "      <td>MG</td>\n",
       "      <td>Furniture</td>\n",
       "    </tr>\n",
       "    <tr>\n",
       "      <th>3</th>\n",
       "      <td>00024acbcdf0a6daa1e931b038114c75</td>\n",
       "      <td>1</td>\n",
       "      <td>7634da152a4610f1595efa32f14722fc</td>\n",
       "      <td>9d7a1d34a5052409006425275ba1c2b4</td>\n",
       "      <td>2018-08-15 10:10:18</td>\n",
       "      <td>12.99</td>\n",
       "      <td>12.79</td>\n",
       "      <td>25.78</td>\n",
       "      <td>4.0</td>\n",
       "      <td>d4eb9395c8c0431ee92fce09860c5a06</td>\n",
       "      <td>1.0</td>\n",
       "      <td>credit_card</td>\n",
       "      <td>2.0</td>\n",
       "      <td>12952</td>\n",
       "      <td>atibaia</td>\n",
       "      <td>SP</td>\n",
       "      <td>14403</td>\n",
       "      <td>franca</td>\n",
       "      <td>SP</td>\n",
       "      <td>Parfum et soin</td>\n",
       "    </tr>\n",
       "    <tr>\n",
       "      <th>4</th>\n",
       "      <td>00042b26cf59d7ce69dfabb4e55b4fd9</td>\n",
       "      <td>1</td>\n",
       "      <td>ac6c3623068f30de03045865e4e10089</td>\n",
       "      <td>df560393f3a51e74553ab94004ba5c87</td>\n",
       "      <td>2017-02-13 13:57:51</td>\n",
       "      <td>199.90</td>\n",
       "      <td>18.14</td>\n",
       "      <td>218.04</td>\n",
       "      <td>5.0</td>\n",
       "      <td>58dbd0b2d70206bf40e62cd34e84d795</td>\n",
       "      <td>1.0</td>\n",
       "      <td>credit_card</td>\n",
       "      <td>3.0</td>\n",
       "      <td>13226</td>\n",
       "      <td>varzea paulista</td>\n",
       "      <td>SP</td>\n",
       "      <td>87900</td>\n",
       "      <td>loanda</td>\n",
       "      <td>PR</td>\n",
       "      <td>Quincalerie</td>\n",
       "    </tr>\n",
       "    <tr>\n",
       "      <th>...</th>\n",
       "      <td>...</td>\n",
       "      <td>...</td>\n",
       "      <td>...</td>\n",
       "      <td>...</td>\n",
       "      <td>...</td>\n",
       "      <td>...</td>\n",
       "      <td>...</td>\n",
       "      <td>...</td>\n",
       "      <td>...</td>\n",
       "      <td>...</td>\n",
       "      <td>...</td>\n",
       "      <td>...</td>\n",
       "      <td>...</td>\n",
       "      <td>...</td>\n",
       "      <td>...</td>\n",
       "      <td>...</td>\n",
       "      <td>...</td>\n",
       "      <td>...</td>\n",
       "      <td>...</td>\n",
       "      <td>...</td>\n",
       "    </tr>\n",
       "    <tr>\n",
       "      <th>102858</th>\n",
       "      <td>fffc94f6ce00a00581880bf54a75a037</td>\n",
       "      <td>1</td>\n",
       "      <td>4aa6014eceb682077f9dc4bffebc05b0</td>\n",
       "      <td>b8bc237ba3788b23da09c0f1f3a3288c</td>\n",
       "      <td>2018-05-02 04:11:01</td>\n",
       "      <td>299.99</td>\n",
       "      <td>43.41</td>\n",
       "      <td>343.40</td>\n",
       "      <td>5.0</td>\n",
       "      <td>b51593916b4b8e0d6f66f2ae24f2673d</td>\n",
       "      <td>1.0</td>\n",
       "      <td>boleto</td>\n",
       "      <td>1.0</td>\n",
       "      <td>65077</td>\n",
       "      <td>sao luis</td>\n",
       "      <td>MA</td>\n",
       "      <td>88303</td>\n",
       "      <td>itajai</td>\n",
       "      <td>SC</td>\n",
       "      <td>Housing</td>\n",
       "    </tr>\n",
       "    <tr>\n",
       "      <th>102859</th>\n",
       "      <td>fffcd46ef2263f404302a634eb57f7eb</td>\n",
       "      <td>1</td>\n",
       "      <td>32e07fd915822b0765e448c4dd74c828</td>\n",
       "      <td>f3c38ab652836d21de61fb8314b69182</td>\n",
       "      <td>2018-07-20 04:31:48</td>\n",
       "      <td>350.00</td>\n",
       "      <td>36.53</td>\n",
       "      <td>386.53</td>\n",
       "      <td>5.0</td>\n",
       "      <td>84c5d4fbaf120aae381fad077416eaa0</td>\n",
       "      <td>1.0</td>\n",
       "      <td>boleto</td>\n",
       "      <td>1.0</td>\n",
       "      <td>81690</td>\n",
       "      <td>curitiba</td>\n",
       "      <td>PR</td>\n",
       "      <td>1206</td>\n",
       "      <td>sao paulo</td>\n",
       "      <td>SP</td>\n",
       "      <td>Informatique et electronique</td>\n",
       "    </tr>\n",
       "    <tr>\n",
       "      <th>102860</th>\n",
       "      <td>fffce4705a9662cd70adb13d4a31832d</td>\n",
       "      <td>1</td>\n",
       "      <td>72a30483855e2eafc67aee5dc2560482</td>\n",
       "      <td>c3cfdc648177fdbbbb35635a37472c53</td>\n",
       "      <td>2017-10-30 17:14:25</td>\n",
       "      <td>99.90</td>\n",
       "      <td>16.95</td>\n",
       "      <td>116.85</td>\n",
       "      <td>5.0</td>\n",
       "      <td>29309aa813182aaddc9b259e31b870e6</td>\n",
       "      <td>1.0</td>\n",
       "      <td>credit_card</td>\n",
       "      <td>3.0</td>\n",
       "      <td>4039</td>\n",
       "      <td>sao paulo</td>\n",
       "      <td>SP</td>\n",
       "      <td>80610</td>\n",
       "      <td>curitiba</td>\n",
       "      <td>PR</td>\n",
       "      <td>Sport</td>\n",
       "    </tr>\n",
       "    <tr>\n",
       "      <th>102861</th>\n",
       "      <td>fffe18544ffabc95dfada21779c9644f</td>\n",
       "      <td>1</td>\n",
       "      <td>9c422a519119dcad7575db5af1ba540e</td>\n",
       "      <td>2b3e4a2a3ea8e01938cabda2a3e5cc79</td>\n",
       "      <td>2017-08-21 00:04:32</td>\n",
       "      <td>55.99</td>\n",
       "      <td>8.72</td>\n",
       "      <td>64.71</td>\n",
       "      <td>5.0</td>\n",
       "      <td>b5e6afd5a41800fdf401e0272ca74655</td>\n",
       "      <td>1.0</td>\n",
       "      <td>credit_card</td>\n",
       "      <td>3.0</td>\n",
       "      <td>13289</td>\n",
       "      <td>vinhedo</td>\n",
       "      <td>SP</td>\n",
       "      <td>4733</td>\n",
       "      <td>sao paulo</td>\n",
       "      <td>SP</td>\n",
       "      <td>Informatique et electronique</td>\n",
       "    </tr>\n",
       "    <tr>\n",
       "      <th>102862</th>\n",
       "      <td>fffe41c64501cc87c801fd61db3f6244</td>\n",
       "      <td>1</td>\n",
       "      <td>350688d9dc1e75ff97be326363655e01</td>\n",
       "      <td>f7ccf836d21b2fb1de37564105216cc1</td>\n",
       "      <td>2018-06-12 17:10:13</td>\n",
       "      <td>43.00</td>\n",
       "      <td>12.79</td>\n",
       "      <td>55.79</td>\n",
       "      <td>5.0</td>\n",
       "      <td>96d649da0cc4ff33bb408b199d4c7dcf</td>\n",
       "      <td>1.0</td>\n",
       "      <td>credit_card</td>\n",
       "      <td>1.0</td>\n",
       "      <td>18605</td>\n",
       "      <td>botucatu</td>\n",
       "      <td>SP</td>\n",
       "      <td>14940</td>\n",
       "      <td>ibitinga</td>\n",
       "      <td>SP</td>\n",
       "      <td>Housing</td>\n",
       "    </tr>\n",
       "  </tbody>\n",
       "</table>\n",
       "<p>99661 rows × 20 columns</p>\n",
       "</div>"
      ],
      "text/plain": [
       "                                order_id  order_item_id  \\\n",
       "0       00010242fe8c5a6d1ba2dd792cb16214              1   \n",
       "1       00018f77f2f0320c557190d7a144bdd3              1   \n",
       "2       000229ec398224ef6ca0657da4fc703e              1   \n",
       "3       00024acbcdf0a6daa1e931b038114c75              1   \n",
       "4       00042b26cf59d7ce69dfabb4e55b4fd9              1   \n",
       "...                                  ...            ...   \n",
       "102858  fffc94f6ce00a00581880bf54a75a037              1   \n",
       "102859  fffcd46ef2263f404302a634eb57f7eb              1   \n",
       "102860  fffce4705a9662cd70adb13d4a31832d              1   \n",
       "102861  fffe18544ffabc95dfada21779c9644f              1   \n",
       "102862  fffe41c64501cc87c801fd61db3f6244              1   \n",
       "\n",
       "                              product_id                         seller_id  \\\n",
       "0       4244733e06e7ecb4970a6e2683c13e61  48436dade18ac8b2bce089ec2a041202   \n",
       "1       e5f2d52b802189ee658865ca93d83a8f  dd7ddc04e1b6c2c614352b383efe2d36   \n",
       "2       c777355d18b72b67abbeef9df44fd0fd  5b51032eddd242adc84c38acab88f23d   \n",
       "3       7634da152a4610f1595efa32f14722fc  9d7a1d34a5052409006425275ba1c2b4   \n",
       "4       ac6c3623068f30de03045865e4e10089  df560393f3a51e74553ab94004ba5c87   \n",
       "...                                  ...                               ...   \n",
       "102858  4aa6014eceb682077f9dc4bffebc05b0  b8bc237ba3788b23da09c0f1f3a3288c   \n",
       "102859  32e07fd915822b0765e448c4dd74c828  f3c38ab652836d21de61fb8314b69182   \n",
       "102860  72a30483855e2eafc67aee5dc2560482  c3cfdc648177fdbbbb35635a37472c53   \n",
       "102861  9c422a519119dcad7575db5af1ba540e  2b3e4a2a3ea8e01938cabda2a3e5cc79   \n",
       "102862  350688d9dc1e75ff97be326363655e01  f7ccf836d21b2fb1de37564105216cc1   \n",
       "\n",
       "        shipping_limit_date   price  freight_value  totalPrice  review_score  \\\n",
       "0       2017-09-19 09:45:35   58.90          13.29       72.19           5.0   \n",
       "1       2017-05-03 11:05:13  239.90          19.93      259.83           4.0   \n",
       "2       2018-01-18 14:48:30  199.00          17.87      216.87           5.0   \n",
       "3       2018-08-15 10:10:18   12.99          12.79       25.78           4.0   \n",
       "4       2017-02-13 13:57:51  199.90          18.14      218.04           5.0   \n",
       "...                     ...     ...            ...         ...           ...   \n",
       "102858  2018-05-02 04:11:01  299.99          43.41      343.40           5.0   \n",
       "102859  2018-07-20 04:31:48  350.00          36.53      386.53           5.0   \n",
       "102860  2017-10-30 17:14:25   99.90          16.95      116.85           5.0   \n",
       "102861  2017-08-21 00:04:32   55.99           8.72       64.71           5.0   \n",
       "102862  2018-06-12 17:10:13   43.00          12.79       55.79           5.0   \n",
       "\n",
       "                             customer_id  payment_sequential payment_type  \\\n",
       "0       3ce436f183e68e07877b285a838db11a                 1.0  credit_card   \n",
       "1       f6dd3ec061db4e3987629fe6b26e5cce                 1.0  credit_card   \n",
       "2       6489ae5e4333f3693df5ad4372dab6d3                 1.0  credit_card   \n",
       "3       d4eb9395c8c0431ee92fce09860c5a06                 1.0  credit_card   \n",
       "4       58dbd0b2d70206bf40e62cd34e84d795                 1.0  credit_card   \n",
       "...                                  ...                 ...          ...   \n",
       "102858  b51593916b4b8e0d6f66f2ae24f2673d                 1.0       boleto   \n",
       "102859  84c5d4fbaf120aae381fad077416eaa0                 1.0       boleto   \n",
       "102860  29309aa813182aaddc9b259e31b870e6                 1.0  credit_card   \n",
       "102861  b5e6afd5a41800fdf401e0272ca74655                 1.0  credit_card   \n",
       "102862  96d649da0cc4ff33bb408b199d4c7dcf                 1.0  credit_card   \n",
       "\n",
       "        payment_installments  customer_zip_code_prefix          customer_city  \\\n",
       "0                        2.0                     28013  campos dos goytacazes   \n",
       "1                        3.0                     15775        santa fe do sul   \n",
       "2                        5.0                     35661          para de minas   \n",
       "3                        2.0                     12952                atibaia   \n",
       "4                        3.0                     13226        varzea paulista   \n",
       "...                      ...                       ...                    ...   \n",
       "102858                   1.0                     65077               sao luis   \n",
       "102859                   1.0                     81690               curitiba   \n",
       "102860                   3.0                      4039              sao paulo   \n",
       "102861                   3.0                     13289                vinhedo   \n",
       "102862                   1.0                     18605               botucatu   \n",
       "\n",
       "       customer_state  seller_zip_code_prefix    seller_city seller_state  \\\n",
       "0                  RJ                   27277  volta redonda           SP   \n",
       "1                  SP                    3471      sao paulo           SP   \n",
       "2                  MG                   37564  borda da mata           MG   \n",
       "3                  SP                   14403         franca           SP   \n",
       "4                  SP                   87900         loanda           PR   \n",
       "...               ...                     ...            ...          ...   \n",
       "102858             MA                   88303         itajai           SC   \n",
       "102859             PR                    1206      sao paulo           SP   \n",
       "102860             SP                   80610       curitiba           PR   \n",
       "102861             SP                    4733      sao paulo           SP   \n",
       "102862             SP                   14940       ibitinga           SP   \n",
       "\n",
       "               product_category_name  \n",
       "0                             Gadget  \n",
       "1                         Animalerie  \n",
       "2                          Furniture  \n",
       "3                     Parfum et soin  \n",
       "4                        Quincalerie  \n",
       "...                              ...  \n",
       "102858                       Housing  \n",
       "102859  Informatique et electronique  \n",
       "102860                         Sport  \n",
       "102861  Informatique et electronique  \n",
       "102862                       Housing  \n",
       "\n",
       "[99661 rows x 20 columns]"
      ]
     },
     "execution_count": 174,
     "metadata": {},
     "output_type": "execute_result"
    }
   ],
   "source": [
    "dfOrderItemsMerge"
   ]
  },
  {
   "cell_type": "code",
   "execution_count": 176,
   "metadata": {},
   "outputs": [],
   "source": [
    "dfOrderItemsMerge.to_csv(\"dfClean.csv\",index=False)"
   ]
  }
 ],
 "metadata": {
  "kernelspec": {
   "display_name": "env",
   "language": "python",
   "name": "python3"
  },
  "language_info": {
   "codemirror_mode": {
    "name": "ipython",
    "version": 3
   },
   "file_extension": ".py",
   "mimetype": "text/x-python",
   "name": "python",
   "nbconvert_exporter": "python",
   "pygments_lexer": "ipython3",
   "version": "3.9.12"
  },
  "orig_nbformat": 4,
  "vscode": {
   "interpreter": {
    "hash": "e806592af8352cba3edad75dbe76eaee43e882c7acf0666e4e3a40bd5a7272f6"
   }
  }
 },
 "nbformat": 4,
 "nbformat_minor": 2
}
